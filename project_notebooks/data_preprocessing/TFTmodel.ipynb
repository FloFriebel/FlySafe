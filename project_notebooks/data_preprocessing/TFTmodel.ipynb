{
 "cells": [
  {
   "cell_type": "code",
   "execution_count": 1,
   "id": "13bed4a8-4230-4b0e-924c-3c3a1a841d0e",
   "metadata": {},
   "outputs": [],
   "source": [
    "!pip install -q torch\n",
    "!pip install -q darts\n",
    "!pip install -q torchmetrics"
   ]
  },
  {
   "cell_type": "code",
   "execution_count": 2,
   "id": "a956997f-6c80-4fca-9ced-538beba08bcf",
   "metadata": {},
   "outputs": [],
   "source": [
    "from torchmetrics.regression import SymmetricMeanAbsolutePercentageError\n",
    "import torch\n",
    "import numpy as np\n",
    "import pandas as pd\n",
    "from darts import TimeSeries"
   ]
  },
  {
   "cell_type": "code",
   "execution_count": 3,
   "id": "ede1a916-2170-43a0-9ba0-223fae29c03f",
   "metadata": {},
   "outputs": [
    {
     "name": "stdout",
     "output_type": "stream",
     "text": [
      "Requirement already satisfied: openmeteo-requests in /home/elena/.pyenv/versions/3.10.6/envs/jawP_projectV2/lib/python3.10/site-packages (1.2.0)\n",
      "Requirement already satisfied: openmeteo-sdk>=1.4.0 in /home/elena/.pyenv/versions/3.10.6/envs/jawP_projectV2/lib/python3.10/site-packages (from openmeteo-requests) (1.11.3)\n",
      "Requirement already satisfied: requests in /home/elena/.pyenv/versions/3.10.6/envs/jawP_projectV2/lib/python3.10/site-packages (from openmeteo-requests) (2.31.0)\n",
      "Requirement already satisfied: flatbuffers>=24.0.0 in /home/elena/.pyenv/versions/3.10.6/envs/jawP_projectV2/lib/python3.10/site-packages (from openmeteo-sdk>=1.4.0->openmeteo-requests) (24.3.7)\n",
      "Requirement already satisfied: charset-normalizer<4,>=2 in /home/elena/.pyenv/versions/3.10.6/envs/jawP_projectV2/lib/python3.10/site-packages (from requests->openmeteo-requests) (3.3.2)\n",
      "Requirement already satisfied: idna<4,>=2.5 in /home/elena/.pyenv/versions/3.10.6/envs/jawP_projectV2/lib/python3.10/site-packages (from requests->openmeteo-requests) (3.6)\n",
      "Requirement already satisfied: urllib3<3,>=1.21.1 in /home/elena/.pyenv/versions/3.10.6/envs/jawP_projectV2/lib/python3.10/site-packages (from requests->openmeteo-requests) (2.2.1)\n",
      "Requirement already satisfied: certifi>=2017.4.17 in /home/elena/.pyenv/versions/3.10.6/envs/jawP_projectV2/lib/python3.10/site-packages (from requests->openmeteo-requests) (2024.2.2)\n",
      "Requirement already satisfied: requests-cache in /home/elena/.pyenv/versions/3.10.6/envs/jawP_projectV2/lib/python3.10/site-packages (1.2.0)\n",
      "Requirement already satisfied: retry-requests in /home/elena/.pyenv/versions/3.10.6/envs/jawP_projectV2/lib/python3.10/site-packages (2.0.0)\n",
      "Requirement already satisfied: numpy in /home/elena/.pyenv/versions/3.10.6/envs/jawP_projectV2/lib/python3.10/site-packages (1.26.4)\n",
      "Requirement already satisfied: pandas in /home/elena/.pyenv/versions/3.10.6/envs/jawP_projectV2/lib/python3.10/site-packages (2.2.1)\n",
      "Requirement already satisfied: attrs>=21.2 in /home/elena/.pyenv/versions/3.10.6/envs/jawP_projectV2/lib/python3.10/site-packages (from requests-cache) (23.2.0)\n",
      "Requirement already satisfied: cattrs>=22.2 in /home/elena/.pyenv/versions/3.10.6/envs/jawP_projectV2/lib/python3.10/site-packages (from requests-cache) (23.2.3)\n",
      "Requirement already satisfied: platformdirs>=2.5 in /home/elena/.pyenv/versions/3.10.6/envs/jawP_projectV2/lib/python3.10/site-packages (from requests-cache) (4.2.0)\n",
      "Requirement already satisfied: requests>=2.22 in /home/elena/.pyenv/versions/3.10.6/envs/jawP_projectV2/lib/python3.10/site-packages (from requests-cache) (2.31.0)\n",
      "Requirement already satisfied: url-normalize>=1.4 in /home/elena/.pyenv/versions/3.10.6/envs/jawP_projectV2/lib/python3.10/site-packages (from requests-cache) (1.4.3)\n",
      "Requirement already satisfied: urllib3>=1.25.5 in /home/elena/.pyenv/versions/3.10.6/envs/jawP_projectV2/lib/python3.10/site-packages (from requests-cache) (2.2.1)\n",
      "Requirement already satisfied: python-dateutil>=2.8.2 in /home/elena/.pyenv/versions/3.10.6/envs/jawP_projectV2/lib/python3.10/site-packages (from pandas) (2.9.0.post0)\n",
      "Requirement already satisfied: pytz>=2020.1 in /home/elena/.pyenv/versions/3.10.6/envs/jawP_projectV2/lib/python3.10/site-packages (from pandas) (2024.1)\n",
      "Requirement already satisfied: tzdata>=2022.7 in /home/elena/.pyenv/versions/3.10.6/envs/jawP_projectV2/lib/python3.10/site-packages (from pandas) (2024.1)\n",
      "Requirement already satisfied: exceptiongroup>=1.1.1 in /home/elena/.pyenv/versions/3.10.6/envs/jawP_projectV2/lib/python3.10/site-packages (from cattrs>=22.2->requests-cache) (1.2.0)\n",
      "Requirement already satisfied: typing-extensions!=4.6.3,>=4.1.0 in /home/elena/.pyenv/versions/3.10.6/envs/jawP_projectV2/lib/python3.10/site-packages (from cattrs>=22.2->requests-cache) (4.10.0)\n",
      "Requirement already satisfied: six>=1.5 in /home/elena/.pyenv/versions/3.10.6/envs/jawP_projectV2/lib/python3.10/site-packages (from python-dateutil>=2.8.2->pandas) (1.16.0)\n",
      "Requirement already satisfied: charset-normalizer<4,>=2 in /home/elena/.pyenv/versions/3.10.6/envs/jawP_projectV2/lib/python3.10/site-packages (from requests>=2.22->requests-cache) (3.3.2)\n",
      "Requirement already satisfied: idna<4,>=2.5 in /home/elena/.pyenv/versions/3.10.6/envs/jawP_projectV2/lib/python3.10/site-packages (from requests>=2.22->requests-cache) (3.6)\n",
      "Requirement already satisfied: certifi>=2017.4.17 in /home/elena/.pyenv/versions/3.10.6/envs/jawP_projectV2/lib/python3.10/site-packages (from requests>=2.22->requests-cache) (2024.2.2)\n"
     ]
    }
   ],
   "source": [
    "!pip install openmeteo-requests\n",
    "!pip install requests-cache retry-requests numpy pandas\n",
    "\n",
    "\n",
    "import openmeteo_requests\n",
    "\n",
    "import requests_cache\n",
    "\n",
    "from retry_requests import retry\n",
    "# Setup the Open-Meteo API client with cache and retry on error\n",
    "cache_session = requests_cache.CachedSession('.cache', expire_after = -1)\n",
    "retry_session = retry(cache_session, retries = 5, backoff_factor = 0.2)\n",
    "openmeteo = openmeteo_requests.Client(session = retry_session)"
   ]
  },
  {
   "cell_type": "code",
   "execution_count": 4,
   "id": "2fed2f2d-0e62-426a-8e83-3636f58302ec",
   "metadata": {},
   "outputs": [],
   "source": [
    "\n",
    "def make_dataframe(openmeteo_response):\n",
    "\n",
    "    hourly = openmeteo_response.Hourly()\n",
    "    _start = pd.to_datetime(hourly.Time(), unit = \"s\", utc = True)\n",
    "    _end = pd.to_datetime(hourly.TimeEnd(), unit = \"s\", utc = True)\n",
    "    _delta = pd.Timedelta(seconds = hourly.Interval())\n",
    "\n",
    "    data = {\n",
    "        \"date\": pd.date_range(_start, _end, freq=_delta, inclusive=\"left\"),\n",
    "        \"temperature_2m\": hourly.Variables(0).ValuesAsNumpy(),\n",
    "        \"surface_pressure\": hourly.Variables(1).ValuesAsNumpy(),\n",
    "        \"wind_speed_10m\": hourly.Variables(2).ValuesAsNumpy(),\n",
    "        \"wind_direction_10m\": hourly.Variables(3).ValuesAsNumpy(),\n",
    "        \"wind_gusts_10m\": hourly.Variables(4).ValuesAsNumpy(),\n",
    "    }\n",
    "\n",
    "    return pd.DataFrame(data).set_index(\"date\")"
   ]
  },
  {
   "cell_type": "code",
   "execution_count": 5,
   "id": "10c0f7fe-e328-464c-ab9a-abd6ee4798ea",
   "metadata": {},
   "outputs": [],
   "source": [
    "# Make sure all required weather variables are listed here\n",
    "# The order of variables in hourly or daily is important to assign them correctly below\n",
    "url = \"https://archive-api.open-meteo.com/v1/archive\"\n",
    "params = {\n",
    "\t\"latitude\": [47.36, 46, 47.26, 46.5],\n",
    "\t\"longitude\": [8.55, 8.95, 11.39, 11.35],\n",
    "\t\"start_date\": \"2024-02-10\",\n",
    "\t\"end_date\": \"2024-03-15\",\n",
    "\t\"hourly\": [\"temperature_2m\", \"surface_pressure\", \"wind_speed_10m\", \"wind_direction_10m\", \"wind_gusts_10m\"]\n",
    "}\n",
    "original_data = openmeteo.weather_api(url, params=params)\n",
    "data = dict(zip((\"Zurich\", \"Lugano\", \"Innsbruck\", \"Bolzano\"), original_data))\n",
    "data = pd.concat({key: make_dataframe(val) for key, val in data.items()})\n",
    "\n",
    "city_codes = {\"Zurich\": 1, \"Lugano\": 2, \"Innsbruck\": 3, \"Bolzano\": 4}\n",
    "data['city_code'] = data.index.get_level_values(0).map(city_codes)"
   ]
  },
  {
   "cell_type": "code",
   "execution_count": 6,
   "id": "35070c45-5589-4731-99db-ae03110933d4",
   "metadata": {},
   "outputs": [],
   "source": [
    "original_data = dict(zip((\"Zurich\", \"Lugano\", \"Innsbruck\", \"Bolzano\"), original_data))\n",
    "original_data = pd.concat({key: make_dataframe(val) for key, val in original_data.items()})"
   ]
  },
  {
   "cell_type": "code",
   "execution_count": 7,
   "id": "2e3d6884-823f-4d96-9009-64eb950f8efb",
   "metadata": {},
   "outputs": [
    {
     "data": {
      "text/html": [
       "<div>\n",
       "<style scoped>\n",
       "    .dataframe tbody tr th:only-of-type {\n",
       "        vertical-align: middle;\n",
       "    }\n",
       "\n",
       "    .dataframe tbody tr th {\n",
       "        vertical-align: top;\n",
       "    }\n",
       "\n",
       "    .dataframe thead th {\n",
       "        text-align: right;\n",
       "    }\n",
       "</style>\n",
       "<table border=\"1\" class=\"dataframe\">\n",
       "  <thead>\n",
       "    <tr style=\"text-align: right;\">\n",
       "      <th></th>\n",
       "      <th>temperature_2m</th>\n",
       "      <th>surface_pressure</th>\n",
       "      <th>wind_speed_10m</th>\n",
       "      <th>wind_direction_10m</th>\n",
       "      <th>wind_gusts_10m</th>\n",
       "    </tr>\n",
       "    <tr>\n",
       "      <th>date</th>\n",
       "      <th></th>\n",
       "      <th></th>\n",
       "      <th></th>\n",
       "      <th></th>\n",
       "      <th></th>\n",
       "    </tr>\n",
       "  </thead>\n",
       "  <tbody>\n",
       "    <tr>\n",
       "      <th>2024-02-10 00:00:00+00:00</th>\n",
       "      <td>5.540000</td>\n",
       "      <td>942.989197</td>\n",
       "      <td>2.520000</td>\n",
       "      <td>180.000000</td>\n",
       "      <td>5.400000</td>\n",
       "    </tr>\n",
       "    <tr>\n",
       "      <th>2024-02-10 01:00:00+00:00</th>\n",
       "      <td>6.390000</td>\n",
       "      <td>942.373962</td>\n",
       "      <td>3.877318</td>\n",
       "      <td>158.198532</td>\n",
       "      <td>7.200000</td>\n",
       "    </tr>\n",
       "    <tr>\n",
       "      <th>2024-02-10 02:00:00+00:00</th>\n",
       "      <td>6.140000</td>\n",
       "      <td>941.570923</td>\n",
       "      <td>3.877318</td>\n",
       "      <td>111.801476</td>\n",
       "      <td>8.280000</td>\n",
       "    </tr>\n",
       "    <tr>\n",
       "      <th>2024-02-10 03:00:00+00:00</th>\n",
       "      <td>6.340000</td>\n",
       "      <td>941.034546</td>\n",
       "      <td>3.240000</td>\n",
       "      <td>90.000000</td>\n",
       "      <td>8.640000</td>\n",
       "    </tr>\n",
       "    <tr>\n",
       "      <th>2024-02-10 04:00:00+00:00</th>\n",
       "      <td>4.340000</td>\n",
       "      <td>940.217163</td>\n",
       "      <td>5.014219</td>\n",
       "      <td>68.962418</td>\n",
       "      <td>7.559999</td>\n",
       "    </tr>\n",
       "    <tr>\n",
       "      <th>...</th>\n",
       "      <td>...</td>\n",
       "      <td>...</td>\n",
       "      <td>...</td>\n",
       "      <td>...</td>\n",
       "      <td>...</td>\n",
       "    </tr>\n",
       "    <tr>\n",
       "      <th>2024-03-15 19:00:00+00:00</th>\n",
       "      <td>7.590000</td>\n",
       "      <td>967.487000</td>\n",
       "      <td>7.127636</td>\n",
       "      <td>224.999893</td>\n",
       "      <td>15.119999</td>\n",
       "    </tr>\n",
       "    <tr>\n",
       "      <th>2024-03-15 20:00:00+00:00</th>\n",
       "      <td>9.490001</td>\n",
       "      <td>968.099182</td>\n",
       "      <td>5.351785</td>\n",
       "      <td>227.726379</td>\n",
       "      <td>23.039999</td>\n",
       "    </tr>\n",
       "    <tr>\n",
       "      <th>2024-03-15 21:00:00+00:00</th>\n",
       "      <td>8.540000</td>\n",
       "      <td>967.936279</td>\n",
       "      <td>7.280550</td>\n",
       "      <td>188.530685</td>\n",
       "      <td>18.359999</td>\n",
       "    </tr>\n",
       "    <tr>\n",
       "      <th>2024-03-15 22:00:00+00:00</th>\n",
       "      <td>9.440001</td>\n",
       "      <td>968.851440</td>\n",
       "      <td>12.599998</td>\n",
       "      <td>216.869980</td>\n",
       "      <td>24.840000</td>\n",
       "    </tr>\n",
       "    <tr>\n",
       "      <th>2024-03-15 23:00:00+00:00</th>\n",
       "      <td>8.990001</td>\n",
       "      <td>968.964417</td>\n",
       "      <td>9.686609</td>\n",
       "      <td>228.012863</td>\n",
       "      <td>30.239998</td>\n",
       "    </tr>\n",
       "  </tbody>\n",
       "</table>\n",
       "<p>840 rows × 5 columns</p>\n",
       "</div>"
      ],
      "text/plain": [
       "                           temperature_2m  surface_pressure  wind_speed_10m  \\\n",
       "date                                                                          \n",
       "2024-02-10 00:00:00+00:00        5.540000        942.989197        2.520000   \n",
       "2024-02-10 01:00:00+00:00        6.390000        942.373962        3.877318   \n",
       "2024-02-10 02:00:00+00:00        6.140000        941.570923        3.877318   \n",
       "2024-02-10 03:00:00+00:00        6.340000        941.034546        3.240000   \n",
       "2024-02-10 04:00:00+00:00        4.340000        940.217163        5.014219   \n",
       "...                                   ...               ...             ...   \n",
       "2024-03-15 19:00:00+00:00        7.590000        967.487000        7.127636   \n",
       "2024-03-15 20:00:00+00:00        9.490001        968.099182        5.351785   \n",
       "2024-03-15 21:00:00+00:00        8.540000        967.936279        7.280550   \n",
       "2024-03-15 22:00:00+00:00        9.440001        968.851440       12.599998   \n",
       "2024-03-15 23:00:00+00:00        8.990001        968.964417        9.686609   \n",
       "\n",
       "                           wind_direction_10m  wind_gusts_10m  \n",
       "date                                                           \n",
       "2024-02-10 00:00:00+00:00          180.000000        5.400000  \n",
       "2024-02-10 01:00:00+00:00          158.198532        7.200000  \n",
       "2024-02-10 02:00:00+00:00          111.801476        8.280000  \n",
       "2024-02-10 03:00:00+00:00           90.000000        8.640000  \n",
       "2024-02-10 04:00:00+00:00           68.962418        7.559999  \n",
       "...                                       ...             ...  \n",
       "2024-03-15 19:00:00+00:00          224.999893       15.119999  \n",
       "2024-03-15 20:00:00+00:00          227.726379       23.039999  \n",
       "2024-03-15 21:00:00+00:00          188.530685       18.359999  \n",
       "2024-03-15 22:00:00+00:00          216.869980       24.840000  \n",
       "2024-03-15 23:00:00+00:00          228.012863       30.239998  \n",
       "\n",
       "[840 rows x 5 columns]"
      ]
     },
     "execution_count": 7,
     "metadata": {},
     "output_type": "execute_result"
    }
   ],
   "source": [
    "original_data.loc[('Zurich')]"
   ]
  },
  {
   "cell_type": "code",
   "execution_count": 8,
   "id": "3c7bddd1-beb1-4793-a52b-7ec9510ef564",
   "metadata": {},
   "outputs": [],
   "source": [
    "correct = pd.DataFrame()"
   ]
  },
  {
   "cell_type": "code",
   "execution_count": 9,
   "id": "ffa81baf-2ee4-4a72-9eab-627ff41e9285",
   "metadata": {},
   "outputs": [],
   "source": [
    "correct.index = original_data.loc[('Zurich')].index"
   ]
  },
  {
   "cell_type": "code",
   "execution_count": 10,
   "id": "fbb29046-15af-414c-839b-b733bbeff34e",
   "metadata": {},
   "outputs": [],
   "source": [
    "correct['temperature_2m_zh'] = original_data.loc[('Zurich')].temperature_2m\n",
    "correct['surface_pressure_zh'] = original_data.loc[('Zurich')].surface_pressure\n",
    "correct['wind_speed_10m_zh'] = original_data.loc[('Zurich')].wind_speed_10m\n",
    "correct['wind_direction_10m_zh'] = original_data.loc[('Zurich')].wind_direction_10m\n",
    "correct['wind_gusts_10m_zh'] = original_data.loc[('Zurich')].wind_gusts_10m\n",
    "\n",
    "correct['temperature_2m_lu'] = original_data.loc[('Lugano')].temperature_2m\n",
    "correct['surface_pressure_lu'] = original_data.loc[('Lugano')].surface_pressure\n",
    "correct['wind_speed_10m_lu'] = original_data.loc[('Lugano')].wind_speed_10m\n",
    "correct['wind_direction_10m_lu'] = original_data.loc[('Lugano')].wind_direction_10m\n",
    "correct['wind_gusts_10m_lu'] = original_data.loc[('Lugano')].wind_gusts_10m\n",
    "\n",
    "correct['temperature_2m_in'] = original_data.loc[('Innsbruck')].temperature_2m\n",
    "correct['surface_pressure_in'] = original_data.loc[('Innsbruck')].surface_pressure\n",
    "correct['wind_speed_10m_in'] = original_data.loc[('Innsbruck')].wind_speed_10m\n",
    "correct['wind_direction_10m_in'] = original_data.loc[('Innsbruck')].wind_direction_10m\n",
    "correct['wind_gusts_10m_in'] = original_data.loc[('Innsbruck')].wind_gusts_10m\n",
    "\n",
    "correct['temperature_2m_bo'] = original_data.loc[('Bolzano')].temperature_2m\n",
    "correct['surface_pressure_bo'] = original_data.loc[('Bolzano')].surface_pressure\n",
    "correct['wind_speed_10m_bo'] = original_data.loc[('Bolzano')].wind_speed_10m\n",
    "correct['wind_direction_10m_bo'] = original_data.loc[('Bolzano')].wind_direction_10m\n",
    "correct['wind_gusts_10m_bo'] = original_data.loc[('Bolzano')].wind_gusts_10m"
   ]
  },
  {
   "cell_type": "code",
   "execution_count": 11,
   "id": "655ad0b1-dca0-404c-9b93-95b36fb5c2d4",
   "metadata": {},
   "outputs": [
    {
     "data": {
      "text/html": [
       "<div>\n",
       "<style scoped>\n",
       "    .dataframe tbody tr th:only-of-type {\n",
       "        vertical-align: middle;\n",
       "    }\n",
       "\n",
       "    .dataframe tbody tr th {\n",
       "        vertical-align: top;\n",
       "    }\n",
       "\n",
       "    .dataframe thead th {\n",
       "        text-align: right;\n",
       "    }\n",
       "</style>\n",
       "<table border=\"1\" class=\"dataframe\">\n",
       "  <thead>\n",
       "    <tr style=\"text-align: right;\">\n",
       "      <th></th>\n",
       "      <th>temperature_2m_zh</th>\n",
       "      <th>surface_pressure_zh</th>\n",
       "      <th>wind_speed_10m_zh</th>\n",
       "      <th>wind_direction_10m_zh</th>\n",
       "      <th>wind_gusts_10m_zh</th>\n",
       "      <th>temperature_2m_lu</th>\n",
       "      <th>surface_pressure_lu</th>\n",
       "      <th>wind_speed_10m_lu</th>\n",
       "      <th>wind_direction_10m_lu</th>\n",
       "      <th>wind_gusts_10m_lu</th>\n",
       "      <th>temperature_2m_in</th>\n",
       "      <th>surface_pressure_in</th>\n",
       "      <th>wind_speed_10m_in</th>\n",
       "      <th>wind_direction_10m_in</th>\n",
       "      <th>wind_gusts_10m_in</th>\n",
       "      <th>temperature_2m_bo</th>\n",
       "      <th>surface_pressure_bo</th>\n",
       "      <th>wind_speed_10m_bo</th>\n",
       "      <th>wind_direction_10m_bo</th>\n",
       "      <th>wind_gusts_10m_bo</th>\n",
       "    </tr>\n",
       "    <tr>\n",
       "      <th>date</th>\n",
       "      <th></th>\n",
       "      <th></th>\n",
       "      <th></th>\n",
       "      <th></th>\n",
       "      <th></th>\n",
       "      <th></th>\n",
       "      <th></th>\n",
       "      <th></th>\n",
       "      <th></th>\n",
       "      <th></th>\n",
       "      <th></th>\n",
       "      <th></th>\n",
       "      <th></th>\n",
       "      <th></th>\n",
       "      <th></th>\n",
       "      <th></th>\n",
       "      <th></th>\n",
       "      <th></th>\n",
       "      <th></th>\n",
       "      <th></th>\n",
       "    </tr>\n",
       "  </thead>\n",
       "  <tbody>\n",
       "    <tr>\n",
       "      <th>2024-02-10 00:00:00+00:00</th>\n",
       "      <td>5.540000</td>\n",
       "      <td>942.989197</td>\n",
       "      <td>2.520000</td>\n",
       "      <td>180.000000</td>\n",
       "      <td>5.400000</td>\n",
       "      <td>7.583</td>\n",
       "      <td>965.840881</td>\n",
       "      <td>3.219938</td>\n",
       "      <td>26.564985</td>\n",
       "      <td>11.52</td>\n",
       "      <td>6.5915</td>\n",
       "      <td>925.835388</td>\n",
       "      <td>6.034700</td>\n",
       "      <td>107.354111</td>\n",
       "      <td>40.680000</td>\n",
       "      <td>5.986500</td>\n",
       "      <td>965.391174</td>\n",
       "      <td>4.896529</td>\n",
       "      <td>342.897186</td>\n",
       "      <td>21.959999</td>\n",
       "    </tr>\n",
       "    <tr>\n",
       "      <th>2024-02-10 01:00:00+00:00</th>\n",
       "      <td>6.390000</td>\n",
       "      <td>942.373962</td>\n",
       "      <td>3.877318</td>\n",
       "      <td>158.198532</td>\n",
       "      <td>7.200000</td>\n",
       "      <td>7.683</td>\n",
       "      <td>965.755432</td>\n",
       "      <td>3.319036</td>\n",
       "      <td>12.528798</td>\n",
       "      <td>12.24</td>\n",
       "      <td>7.4915</td>\n",
       "      <td>925.764587</td>\n",
       "      <td>5.692100</td>\n",
       "      <td>108.435043</td>\n",
       "      <td>43.560001</td>\n",
       "      <td>8.836500</td>\n",
       "      <td>965.050232</td>\n",
       "      <td>2.811690</td>\n",
       "      <td>309.805511</td>\n",
       "      <td>24.480000</td>\n",
       "    </tr>\n",
       "    <tr>\n",
       "      <th>2024-02-10 02:00:00+00:00</th>\n",
       "      <td>6.140000</td>\n",
       "      <td>941.570923</td>\n",
       "      <td>3.877318</td>\n",
       "      <td>111.801476</td>\n",
       "      <td>8.280000</td>\n",
       "      <td>7.483</td>\n",
       "      <td>965.152222</td>\n",
       "      <td>2.414953</td>\n",
       "      <td>26.564985</td>\n",
       "      <td>11.52</td>\n",
       "      <td>7.4415</td>\n",
       "      <td>925.659912</td>\n",
       "      <td>5.804825</td>\n",
       "      <td>119.744789</td>\n",
       "      <td>42.839996</td>\n",
       "      <td>8.436501</td>\n",
       "      <td>965.196960</td>\n",
       "      <td>1.297998</td>\n",
       "      <td>303.690094</td>\n",
       "      <td>23.400000</td>\n",
       "    </tr>\n",
       "    <tr>\n",
       "      <th>2024-02-10 03:00:00+00:00</th>\n",
       "      <td>6.340000</td>\n",
       "      <td>941.034546</td>\n",
       "      <td>3.240000</td>\n",
       "      <td>90.000000</td>\n",
       "      <td>8.640000</td>\n",
       "      <td>7.383</td>\n",
       "      <td>964.560242</td>\n",
       "      <td>2.880000</td>\n",
       "      <td>360.000000</td>\n",
       "      <td>9.00</td>\n",
       "      <td>7.5415</td>\n",
       "      <td>925.776306</td>\n",
       "      <td>5.959060</td>\n",
       "      <td>115.016869</td>\n",
       "      <td>43.919998</td>\n",
       "      <td>8.186501</td>\n",
       "      <td>964.974426</td>\n",
       "      <td>2.414953</td>\n",
       "      <td>333.435028</td>\n",
       "      <td>21.240000</td>\n",
       "    </tr>\n",
       "    <tr>\n",
       "      <th>2024-02-10 04:00:00+00:00</th>\n",
       "      <td>4.340000</td>\n",
       "      <td>940.217163</td>\n",
       "      <td>5.014219</td>\n",
       "      <td>68.962418</td>\n",
       "      <td>7.559999</td>\n",
       "      <td>7.583</td>\n",
       "      <td>964.195679</td>\n",
       "      <td>2.545584</td>\n",
       "      <td>8.130019</td>\n",
       "      <td>9.00</td>\n",
       "      <td>7.7415</td>\n",
       "      <td>925.449707</td>\n",
       "      <td>5.804825</td>\n",
       "      <td>119.744789</td>\n",
       "      <td>44.279999</td>\n",
       "      <td>7.986500</td>\n",
       "      <td>964.757751</td>\n",
       "      <td>1.609969</td>\n",
       "      <td>333.435028</td>\n",
       "      <td>18.000000</td>\n",
       "    </tr>\n",
       "    <tr>\n",
       "      <th>...</th>\n",
       "      <td>...</td>\n",
       "      <td>...</td>\n",
       "      <td>...</td>\n",
       "      <td>...</td>\n",
       "      <td>...</td>\n",
       "      <td>...</td>\n",
       "      <td>...</td>\n",
       "      <td>...</td>\n",
       "      <td>...</td>\n",
       "      <td>...</td>\n",
       "      <td>...</td>\n",
       "      <td>...</td>\n",
       "      <td>...</td>\n",
       "      <td>...</td>\n",
       "      <td>...</td>\n",
       "      <td>...</td>\n",
       "      <td>...</td>\n",
       "      <td>...</td>\n",
       "      <td>...</td>\n",
       "      <td>...</td>\n",
       "    </tr>\n",
       "    <tr>\n",
       "      <th>2024-03-15 19:00:00+00:00</th>\n",
       "      <td>7.590000</td>\n",
       "      <td>967.487000</td>\n",
       "      <td>7.127636</td>\n",
       "      <td>224.999893</td>\n",
       "      <td>15.119999</td>\n",
       "      <td>12.233</td>\n",
       "      <td>985.817505</td>\n",
       "      <td>1.800000</td>\n",
       "      <td>90.000000</td>\n",
       "      <td>5.04</td>\n",
       "      <td>8.4415</td>\n",
       "      <td>949.750977</td>\n",
       "      <td>3.893995</td>\n",
       "      <td>146.309906</td>\n",
       "      <td>14.759999</td>\n",
       "      <td>14.636500</td>\n",
       "      <td>982.346619</td>\n",
       "      <td>2.902413</td>\n",
       "      <td>240.255203</td>\n",
       "      <td>16.199999</td>\n",
       "    </tr>\n",
       "    <tr>\n",
       "      <th>2024-03-15 20:00:00+00:00</th>\n",
       "      <td>9.490001</td>\n",
       "      <td>968.099182</td>\n",
       "      <td>5.351785</td>\n",
       "      <td>227.726379</td>\n",
       "      <td>23.039999</td>\n",
       "      <td>11.733</td>\n",
       "      <td>985.568359</td>\n",
       "      <td>1.835647</td>\n",
       "      <td>78.690102</td>\n",
       "      <td>5.04</td>\n",
       "      <td>8.7915</td>\n",
       "      <td>949.833313</td>\n",
       "      <td>3.096837</td>\n",
       "      <td>144.462234</td>\n",
       "      <td>15.840000</td>\n",
       "      <td>13.636500</td>\n",
       "      <td>982.812622</td>\n",
       "      <td>3.671294</td>\n",
       "      <td>191.309891</td>\n",
       "      <td>15.119999</td>\n",
       "    </tr>\n",
       "    <tr>\n",
       "      <th>2024-03-15 21:00:00+00:00</th>\n",
       "      <td>8.540000</td>\n",
       "      <td>967.936279</td>\n",
       "      <td>7.280550</td>\n",
       "      <td>188.530685</td>\n",
       "      <td>18.359999</td>\n",
       "      <td>9.733</td>\n",
       "      <td>985.440857</td>\n",
       "      <td>2.276840</td>\n",
       "      <td>71.564964</td>\n",
       "      <td>6.12</td>\n",
       "      <td>8.4915</td>\n",
       "      <td>949.576294</td>\n",
       "      <td>4.379589</td>\n",
       "      <td>9.462248</td>\n",
       "      <td>20.519999</td>\n",
       "      <td>12.786500</td>\n",
       "      <td>983.198181</td>\n",
       "      <td>2.189795</td>\n",
       "      <td>189.462250</td>\n",
       "      <td>15.119999</td>\n",
       "    </tr>\n",
       "    <tr>\n",
       "      <th>2024-03-15 22:00:00+00:00</th>\n",
       "      <td>9.440001</td>\n",
       "      <td>968.851440</td>\n",
       "      <td>12.599998</td>\n",
       "      <td>216.869980</td>\n",
       "      <td>24.840000</td>\n",
       "      <td>8.083</td>\n",
       "      <td>985.640686</td>\n",
       "      <td>2.160000</td>\n",
       "      <td>90.000000</td>\n",
       "      <td>6.12</td>\n",
       "      <td>8.0415</td>\n",
       "      <td>949.842651</td>\n",
       "      <td>4.213692</td>\n",
       "      <td>70.016808</td>\n",
       "      <td>21.240000</td>\n",
       "      <td>11.836500</td>\n",
       "      <td>983.764832</td>\n",
       "      <td>1.018234</td>\n",
       "      <td>135.000107</td>\n",
       "      <td>10.080000</td>\n",
       "    </tr>\n",
       "    <tr>\n",
       "      <th>2024-03-15 23:00:00+00:00</th>\n",
       "      <td>8.990001</td>\n",
       "      <td>968.964417</td>\n",
       "      <td>9.686609</td>\n",
       "      <td>228.012863</td>\n",
       "      <td>30.239998</td>\n",
       "      <td>6.883</td>\n",
       "      <td>985.503052</td>\n",
       "      <td>2.968636</td>\n",
       "      <td>75.963730</td>\n",
       "      <td>7.20</td>\n",
       "      <td>7.5415</td>\n",
       "      <td>949.538086</td>\n",
       "      <td>4.198285</td>\n",
       "      <td>30.963696</td>\n",
       "      <td>17.280001</td>\n",
       "      <td>10.636500</td>\n",
       "      <td>983.817932</td>\n",
       "      <td>1.484318</td>\n",
       "      <td>75.963730</td>\n",
       "      <td>7.559999</td>\n",
       "    </tr>\n",
       "  </tbody>\n",
       "</table>\n",
       "<p>840 rows × 20 columns</p>\n",
       "</div>"
      ],
      "text/plain": [
       "                           temperature_2m_zh  surface_pressure_zh  \\\n",
       "date                                                                \n",
       "2024-02-10 00:00:00+00:00           5.540000           942.989197   \n",
       "2024-02-10 01:00:00+00:00           6.390000           942.373962   \n",
       "2024-02-10 02:00:00+00:00           6.140000           941.570923   \n",
       "2024-02-10 03:00:00+00:00           6.340000           941.034546   \n",
       "2024-02-10 04:00:00+00:00           4.340000           940.217163   \n",
       "...                                      ...                  ...   \n",
       "2024-03-15 19:00:00+00:00           7.590000           967.487000   \n",
       "2024-03-15 20:00:00+00:00           9.490001           968.099182   \n",
       "2024-03-15 21:00:00+00:00           8.540000           967.936279   \n",
       "2024-03-15 22:00:00+00:00           9.440001           968.851440   \n",
       "2024-03-15 23:00:00+00:00           8.990001           968.964417   \n",
       "\n",
       "                           wind_speed_10m_zh  wind_direction_10m_zh  \\\n",
       "date                                                                  \n",
       "2024-02-10 00:00:00+00:00           2.520000             180.000000   \n",
       "2024-02-10 01:00:00+00:00           3.877318             158.198532   \n",
       "2024-02-10 02:00:00+00:00           3.877318             111.801476   \n",
       "2024-02-10 03:00:00+00:00           3.240000              90.000000   \n",
       "2024-02-10 04:00:00+00:00           5.014219              68.962418   \n",
       "...                                      ...                    ...   \n",
       "2024-03-15 19:00:00+00:00           7.127636             224.999893   \n",
       "2024-03-15 20:00:00+00:00           5.351785             227.726379   \n",
       "2024-03-15 21:00:00+00:00           7.280550             188.530685   \n",
       "2024-03-15 22:00:00+00:00          12.599998             216.869980   \n",
       "2024-03-15 23:00:00+00:00           9.686609             228.012863   \n",
       "\n",
       "                           wind_gusts_10m_zh  temperature_2m_lu  \\\n",
       "date                                                              \n",
       "2024-02-10 00:00:00+00:00           5.400000              7.583   \n",
       "2024-02-10 01:00:00+00:00           7.200000              7.683   \n",
       "2024-02-10 02:00:00+00:00           8.280000              7.483   \n",
       "2024-02-10 03:00:00+00:00           8.640000              7.383   \n",
       "2024-02-10 04:00:00+00:00           7.559999              7.583   \n",
       "...                                      ...                ...   \n",
       "2024-03-15 19:00:00+00:00          15.119999             12.233   \n",
       "2024-03-15 20:00:00+00:00          23.039999             11.733   \n",
       "2024-03-15 21:00:00+00:00          18.359999              9.733   \n",
       "2024-03-15 22:00:00+00:00          24.840000              8.083   \n",
       "2024-03-15 23:00:00+00:00          30.239998              6.883   \n",
       "\n",
       "                           surface_pressure_lu  wind_speed_10m_lu  \\\n",
       "date                                                                \n",
       "2024-02-10 00:00:00+00:00           965.840881           3.219938   \n",
       "2024-02-10 01:00:00+00:00           965.755432           3.319036   \n",
       "2024-02-10 02:00:00+00:00           965.152222           2.414953   \n",
       "2024-02-10 03:00:00+00:00           964.560242           2.880000   \n",
       "2024-02-10 04:00:00+00:00           964.195679           2.545584   \n",
       "...                                        ...                ...   \n",
       "2024-03-15 19:00:00+00:00           985.817505           1.800000   \n",
       "2024-03-15 20:00:00+00:00           985.568359           1.835647   \n",
       "2024-03-15 21:00:00+00:00           985.440857           2.276840   \n",
       "2024-03-15 22:00:00+00:00           985.640686           2.160000   \n",
       "2024-03-15 23:00:00+00:00           985.503052           2.968636   \n",
       "\n",
       "                           wind_direction_10m_lu  wind_gusts_10m_lu  \\\n",
       "date                                                                  \n",
       "2024-02-10 00:00:00+00:00              26.564985              11.52   \n",
       "2024-02-10 01:00:00+00:00              12.528798              12.24   \n",
       "2024-02-10 02:00:00+00:00              26.564985              11.52   \n",
       "2024-02-10 03:00:00+00:00             360.000000               9.00   \n",
       "2024-02-10 04:00:00+00:00               8.130019               9.00   \n",
       "...                                          ...                ...   \n",
       "2024-03-15 19:00:00+00:00              90.000000               5.04   \n",
       "2024-03-15 20:00:00+00:00              78.690102               5.04   \n",
       "2024-03-15 21:00:00+00:00              71.564964               6.12   \n",
       "2024-03-15 22:00:00+00:00              90.000000               6.12   \n",
       "2024-03-15 23:00:00+00:00              75.963730               7.20   \n",
       "\n",
       "                           temperature_2m_in  surface_pressure_in  \\\n",
       "date                                                                \n",
       "2024-02-10 00:00:00+00:00             6.5915           925.835388   \n",
       "2024-02-10 01:00:00+00:00             7.4915           925.764587   \n",
       "2024-02-10 02:00:00+00:00             7.4415           925.659912   \n",
       "2024-02-10 03:00:00+00:00             7.5415           925.776306   \n",
       "2024-02-10 04:00:00+00:00             7.7415           925.449707   \n",
       "...                                      ...                  ...   \n",
       "2024-03-15 19:00:00+00:00             8.4415           949.750977   \n",
       "2024-03-15 20:00:00+00:00             8.7915           949.833313   \n",
       "2024-03-15 21:00:00+00:00             8.4915           949.576294   \n",
       "2024-03-15 22:00:00+00:00             8.0415           949.842651   \n",
       "2024-03-15 23:00:00+00:00             7.5415           949.538086   \n",
       "\n",
       "                           wind_speed_10m_in  wind_direction_10m_in  \\\n",
       "date                                                                  \n",
       "2024-02-10 00:00:00+00:00           6.034700             107.354111   \n",
       "2024-02-10 01:00:00+00:00           5.692100             108.435043   \n",
       "2024-02-10 02:00:00+00:00           5.804825             119.744789   \n",
       "2024-02-10 03:00:00+00:00           5.959060             115.016869   \n",
       "2024-02-10 04:00:00+00:00           5.804825             119.744789   \n",
       "...                                      ...                    ...   \n",
       "2024-03-15 19:00:00+00:00           3.893995             146.309906   \n",
       "2024-03-15 20:00:00+00:00           3.096837             144.462234   \n",
       "2024-03-15 21:00:00+00:00           4.379589               9.462248   \n",
       "2024-03-15 22:00:00+00:00           4.213692              70.016808   \n",
       "2024-03-15 23:00:00+00:00           4.198285              30.963696   \n",
       "\n",
       "                           wind_gusts_10m_in  temperature_2m_bo  \\\n",
       "date                                                              \n",
       "2024-02-10 00:00:00+00:00          40.680000           5.986500   \n",
       "2024-02-10 01:00:00+00:00          43.560001           8.836500   \n",
       "2024-02-10 02:00:00+00:00          42.839996           8.436501   \n",
       "2024-02-10 03:00:00+00:00          43.919998           8.186501   \n",
       "2024-02-10 04:00:00+00:00          44.279999           7.986500   \n",
       "...                                      ...                ...   \n",
       "2024-03-15 19:00:00+00:00          14.759999          14.636500   \n",
       "2024-03-15 20:00:00+00:00          15.840000          13.636500   \n",
       "2024-03-15 21:00:00+00:00          20.519999          12.786500   \n",
       "2024-03-15 22:00:00+00:00          21.240000          11.836500   \n",
       "2024-03-15 23:00:00+00:00          17.280001          10.636500   \n",
       "\n",
       "                           surface_pressure_bo  wind_speed_10m_bo  \\\n",
       "date                                                                \n",
       "2024-02-10 00:00:00+00:00           965.391174           4.896529   \n",
       "2024-02-10 01:00:00+00:00           965.050232           2.811690   \n",
       "2024-02-10 02:00:00+00:00           965.196960           1.297998   \n",
       "2024-02-10 03:00:00+00:00           964.974426           2.414953   \n",
       "2024-02-10 04:00:00+00:00           964.757751           1.609969   \n",
       "...                                        ...                ...   \n",
       "2024-03-15 19:00:00+00:00           982.346619           2.902413   \n",
       "2024-03-15 20:00:00+00:00           982.812622           3.671294   \n",
       "2024-03-15 21:00:00+00:00           983.198181           2.189795   \n",
       "2024-03-15 22:00:00+00:00           983.764832           1.018234   \n",
       "2024-03-15 23:00:00+00:00           983.817932           1.484318   \n",
       "\n",
       "                           wind_direction_10m_bo  wind_gusts_10m_bo  \n",
       "date                                                                 \n",
       "2024-02-10 00:00:00+00:00             342.897186          21.959999  \n",
       "2024-02-10 01:00:00+00:00             309.805511          24.480000  \n",
       "2024-02-10 02:00:00+00:00             303.690094          23.400000  \n",
       "2024-02-10 03:00:00+00:00             333.435028          21.240000  \n",
       "2024-02-10 04:00:00+00:00             333.435028          18.000000  \n",
       "...                                          ...                ...  \n",
       "2024-03-15 19:00:00+00:00             240.255203          16.199999  \n",
       "2024-03-15 20:00:00+00:00             191.309891          15.119999  \n",
       "2024-03-15 21:00:00+00:00             189.462250          15.119999  \n",
       "2024-03-15 22:00:00+00:00             135.000107          10.080000  \n",
       "2024-03-15 23:00:00+00:00              75.963730           7.559999  \n",
       "\n",
       "[840 rows x 20 columns]"
      ]
     },
     "execution_count": 11,
     "metadata": {},
     "output_type": "execute_result"
    }
   ],
   "source": [
    "correct"
   ]
  },
  {
   "cell_type": "code",
   "execution_count": 16,
   "id": "d80b138b-3265-495f-ad77-e0ea4d664d89",
   "metadata": {
    "scrolled": true
   },
   "outputs": [],
   "source": [
    "#Getting 'date' from the Multindex to be used in the future covariates\n",
    "\n",
    "correct['dayofyear'] = correct.index.get_level_values('date').dayofyear\n",
    "\n",
    "#sin and cos calculation \n",
    "\n",
    "correct['day_sin'] = np.sin(2 * np.pi * correct['dayofyear'] / 365.0)\n",
    "correct['day_cos'] = np.cos(2 * np.pi * correct['dayofyear'] / 365.0)"
   ]
  },
  {
   "cell_type": "code",
   "execution_count": 25,
   "id": "97bde049-9875-42ca-8857-ae53aeb2f1ef",
   "metadata": {},
   "outputs": [],
   "source": [
    "originalindex = correct.index"
   ]
  },
  {
   "cell_type": "code",
   "execution_count": 27,
   "id": "e58f3241-31d5-4676-bc4a-d8552f2f5172",
   "metadata": {},
   "outputs": [],
   "source": [
    "from darts.dataprocessing.transformers.scaler import Scaler\n",
    "from sklearn.preprocessing import MinMaxScaler\n",
    "scaler = MinMaxScaler()\n",
    "target_scaler = MinMaxScaler()\n",
    "target_scaler.fit(correct[['surface_pressure_zh']])\n",
    "scaled_data = pd.DataFrame(scaler.fit_transform(correct), columns=scaler.get_feature_names_out())\n",
    "scaled_data.index = originalindex"
   ]
  },
  {
   "cell_type": "code",
   "execution_count": 28,
   "id": "15281369-8041-40db-98e2-c4ed52c2ac57",
   "metadata": {},
   "outputs": [
    {
     "data": {
      "text/html": [
       "<div>\n",
       "<style scoped>\n",
       "    .dataframe tbody tr th:only-of-type {\n",
       "        vertical-align: middle;\n",
       "    }\n",
       "\n",
       "    .dataframe tbody tr th {\n",
       "        vertical-align: top;\n",
       "    }\n",
       "\n",
       "    .dataframe thead th {\n",
       "        text-align: right;\n",
       "    }\n",
       "</style>\n",
       "<table border=\"1\" class=\"dataframe\">\n",
       "  <thead>\n",
       "    <tr style=\"text-align: right;\">\n",
       "      <th></th>\n",
       "      <th>temperature_2m_zh</th>\n",
       "      <th>surface_pressure_zh</th>\n",
       "      <th>wind_speed_10m_zh</th>\n",
       "      <th>wind_direction_10m_zh</th>\n",
       "      <th>wind_gusts_10m_zh</th>\n",
       "      <th>temperature_2m_lu</th>\n",
       "      <th>surface_pressure_lu</th>\n",
       "      <th>wind_speed_10m_lu</th>\n",
       "      <th>wind_direction_10m_lu</th>\n",
       "      <th>wind_gusts_10m_lu</th>\n",
       "      <th>...</th>\n",
       "      <th>wind_direction_10m_in</th>\n",
       "      <th>wind_gusts_10m_in</th>\n",
       "      <th>temperature_2m_bo</th>\n",
       "      <th>surface_pressure_bo</th>\n",
       "      <th>wind_speed_10m_bo</th>\n",
       "      <th>wind_direction_10m_bo</th>\n",
       "      <th>wind_gusts_10m_bo</th>\n",
       "      <th>dayofyear</th>\n",
       "      <th>day_sin</th>\n",
       "      <th>day_cos</th>\n",
       "    </tr>\n",
       "    <tr>\n",
       "      <th>date</th>\n",
       "      <th></th>\n",
       "      <th></th>\n",
       "      <th></th>\n",
       "      <th></th>\n",
       "      <th></th>\n",
       "      <th></th>\n",
       "      <th></th>\n",
       "      <th></th>\n",
       "      <th></th>\n",
       "      <th></th>\n",
       "      <th></th>\n",
       "      <th></th>\n",
       "      <th></th>\n",
       "      <th></th>\n",
       "      <th></th>\n",
       "      <th></th>\n",
       "      <th></th>\n",
       "      <th></th>\n",
       "      <th></th>\n",
       "      <th></th>\n",
       "      <th></th>\n",
       "    </tr>\n",
       "  </thead>\n",
       "  <tbody>\n",
       "    <tr>\n",
       "      <th>2024-02-10 00:00:00+00:00</th>\n",
       "      <td>0.405914</td>\n",
       "      <td>0.151528</td>\n",
       "      <td>0.108727</td>\n",
       "      <td>0.496359</td>\n",
       "      <td>0.056452</td>\n",
       "      <td>0.400602</td>\n",
       "      <td>0.158775</td>\n",
       "      <td>0.223537</td>\n",
       "      <td>0.069014</td>\n",
       "      <td>0.200000</td>\n",
       "      <td>...</td>\n",
       "      <td>0.291581</td>\n",
       "      <td>0.535519</td>\n",
       "      <td>0.338673</td>\n",
       "      <td>0.195064</td>\n",
       "      <td>0.533494</td>\n",
       "      <td>0.952188</td>\n",
       "      <td>0.434343</td>\n",
       "      <td>0.0</td>\n",
       "      <td>0.0</td>\n",
       "      <td>1.0</td>\n",
       "    </tr>\n",
       "    <tr>\n",
       "      <th>2024-02-10 01:00:00+00:00</th>\n",
       "      <td>0.451613</td>\n",
       "      <td>0.138723</td>\n",
       "      <td>0.167289</td>\n",
       "      <td>0.435358</td>\n",
       "      <td>0.096774</td>\n",
       "      <td>0.406627</td>\n",
       "      <td>0.156639</td>\n",
       "      <td>0.230417</td>\n",
       "      <td>0.029823</td>\n",
       "      <td>0.219048</td>\n",
       "      <td>...</td>\n",
       "      <td>0.294612</td>\n",
       "      <td>0.579235</td>\n",
       "      <td>0.469108</td>\n",
       "      <td>0.186687</td>\n",
       "      <td>0.306343</td>\n",
       "      <td>0.859678</td>\n",
       "      <td>0.505051</td>\n",
       "      <td>0.0</td>\n",
       "      <td>0.0</td>\n",
       "      <td>1.0</td>\n",
       "    </tr>\n",
       "    <tr>\n",
       "      <th>2024-02-10 02:00:00+00:00</th>\n",
       "      <td>0.438172</td>\n",
       "      <td>0.122010</td>\n",
       "      <td>0.167289</td>\n",
       "      <td>0.305539</td>\n",
       "      <td>0.120968</td>\n",
       "      <td>0.394578</td>\n",
       "      <td>0.141561</td>\n",
       "      <td>0.167653</td>\n",
       "      <td>0.069014</td>\n",
       "      <td>0.200000</td>\n",
       "      <td>...</td>\n",
       "      <td>0.326325</td>\n",
       "      <td>0.568306</td>\n",
       "      <td>0.450801</td>\n",
       "      <td>0.190292</td>\n",
       "      <td>0.141421</td>\n",
       "      <td>0.842582</td>\n",
       "      <td>0.474747</td>\n",
       "      <td>0.0</td>\n",
       "      <td>0.0</td>\n",
       "      <td>1.0</td>\n",
       "    </tr>\n",
       "    <tr>\n",
       "      <th>2024-02-10 03:00:00+00:00</th>\n",
       "      <td>0.448925</td>\n",
       "      <td>0.110847</td>\n",
       "      <td>0.139791</td>\n",
       "      <td>0.244539</td>\n",
       "      <td>0.129032</td>\n",
       "      <td>0.388554</td>\n",
       "      <td>0.126764</td>\n",
       "      <td>0.199938</td>\n",
       "      <td>1.000000</td>\n",
       "      <td>0.133333</td>\n",
       "      <td>...</td>\n",
       "      <td>0.313068</td>\n",
       "      <td>0.584699</td>\n",
       "      <td>0.439359</td>\n",
       "      <td>0.184824</td>\n",
       "      <td>0.263117</td>\n",
       "      <td>0.925736</td>\n",
       "      <td>0.414141</td>\n",
       "      <td>0.0</td>\n",
       "      <td>0.0</td>\n",
       "      <td>1.0</td>\n",
       "    </tr>\n",
       "    <tr>\n",
       "      <th>2024-02-10 04:00:00+00:00</th>\n",
       "      <td>0.341398</td>\n",
       "      <td>0.093835</td>\n",
       "      <td>0.216341</td>\n",
       "      <td>0.185675</td>\n",
       "      <td>0.104839</td>\n",
       "      <td>0.400602</td>\n",
       "      <td>0.117651</td>\n",
       "      <td>0.176721</td>\n",
       "      <td>0.017541</td>\n",
       "      <td>0.133333</td>\n",
       "      <td>...</td>\n",
       "      <td>0.326325</td>\n",
       "      <td>0.590164</td>\n",
       "      <td>0.430206</td>\n",
       "      <td>0.179501</td>\n",
       "      <td>0.175412</td>\n",
       "      <td>0.925736</td>\n",
       "      <td>0.323232</td>\n",
       "      <td>0.0</td>\n",
       "      <td>0.0</td>\n",
       "      <td>1.0</td>\n",
       "    </tr>\n",
       "    <tr>\n",
       "      <th>...</th>\n",
       "      <td>...</td>\n",
       "      <td>...</td>\n",
       "      <td>...</td>\n",
       "      <td>...</td>\n",
       "      <td>...</td>\n",
       "      <td>...</td>\n",
       "      <td>...</td>\n",
       "      <td>...</td>\n",
       "      <td>...</td>\n",
       "      <td>...</td>\n",
       "      <td>...</td>\n",
       "      <td>...</td>\n",
       "      <td>...</td>\n",
       "      <td>...</td>\n",
       "      <td>...</td>\n",
       "      <td>...</td>\n",
       "      <td>...</td>\n",
       "      <td>...</td>\n",
       "      <td>...</td>\n",
       "      <td>...</td>\n",
       "      <td>...</td>\n",
       "    </tr>\n",
       "    <tr>\n",
       "      <th>2024-03-15 19:00:00+00:00</th>\n",
       "      <td>0.516129</td>\n",
       "      <td>0.661392</td>\n",
       "      <td>0.307525</td>\n",
       "      <td>0.622269</td>\n",
       "      <td>0.274194</td>\n",
       "      <td>0.680723</td>\n",
       "      <td>0.658117</td>\n",
       "      <td>0.124961</td>\n",
       "      <td>0.246131</td>\n",
       "      <td>0.028571</td>\n",
       "      <td>...</td>\n",
       "      <td>0.400813</td>\n",
       "      <td>0.142076</td>\n",
       "      <td>0.734554</td>\n",
       "      <td>0.611667</td>\n",
       "      <td>0.316228</td>\n",
       "      <td>0.665246</td>\n",
       "      <td>0.272727</td>\n",
       "      <td>1.0</td>\n",
       "      <td>1.0</td>\n",
       "      <td>0.0</td>\n",
       "    </tr>\n",
       "    <tr>\n",
       "      <th>2024-03-15 20:00:00+00:00</th>\n",
       "      <td>0.618280</td>\n",
       "      <td>0.674133</td>\n",
       "      <td>0.230905</td>\n",
       "      <td>0.629898</td>\n",
       "      <td>0.451613</td>\n",
       "      <td>0.650602</td>\n",
       "      <td>0.651890</td>\n",
       "      <td>0.127436</td>\n",
       "      <td>0.214553</td>\n",
       "      <td>0.028571</td>\n",
       "      <td>...</td>\n",
       "      <td>0.395632</td>\n",
       "      <td>0.158470</td>\n",
       "      <td>0.688787</td>\n",
       "      <td>0.623117</td>\n",
       "      <td>0.400000</td>\n",
       "      <td>0.528416</td>\n",
       "      <td>0.242424</td>\n",
       "      <td>1.0</td>\n",
       "      <td>1.0</td>\n",
       "      <td>0.0</td>\n",
       "    </tr>\n",
       "    <tr>\n",
       "      <th>2024-03-15 21:00:00+00:00</th>\n",
       "      <td>0.567204</td>\n",
       "      <td>0.670743</td>\n",
       "      <td>0.314123</td>\n",
       "      <td>0.520228</td>\n",
       "      <td>0.346774</td>\n",
       "      <td>0.530120</td>\n",
       "      <td>0.648703</td>\n",
       "      <td>0.158064</td>\n",
       "      <td>0.194658</td>\n",
       "      <td>0.057143</td>\n",
       "      <td>...</td>\n",
       "      <td>0.017093</td>\n",
       "      <td>0.229508</td>\n",
       "      <td>0.649886</td>\n",
       "      <td>0.632590</td>\n",
       "      <td>0.238586</td>\n",
       "      <td>0.523251</td>\n",
       "      <td>0.242424</td>\n",
       "      <td>1.0</td>\n",
       "      <td>1.0</td>\n",
       "      <td>0.0</td>\n",
       "    </tr>\n",
       "    <tr>\n",
       "      <th>2024-03-15 22:00:00+00:00</th>\n",
       "      <td>0.615591</td>\n",
       "      <td>0.689790</td>\n",
       "      <td>0.543633</td>\n",
       "      <td>0.599521</td>\n",
       "      <td>0.491936</td>\n",
       "      <td>0.430723</td>\n",
       "      <td>0.653698</td>\n",
       "      <td>0.149953</td>\n",
       "      <td>0.246131</td>\n",
       "      <td>0.057143</td>\n",
       "      <td>...</td>\n",
       "      <td>0.186888</td>\n",
       "      <td>0.240437</td>\n",
       "      <td>0.606407</td>\n",
       "      <td>0.646513</td>\n",
       "      <td>0.110940</td>\n",
       "      <td>0.370998</td>\n",
       "      <td>0.101010</td>\n",
       "      <td>1.0</td>\n",
       "      <td>1.0</td>\n",
       "      <td>0.0</td>\n",
       "    </tr>\n",
       "    <tr>\n",
       "      <th>2024-03-15 23:00:00+00:00</th>\n",
       "      <td>0.591398</td>\n",
       "      <td>0.692141</td>\n",
       "      <td>0.417933</td>\n",
       "      <td>0.630699</td>\n",
       "      <td>0.612903</td>\n",
       "      <td>0.358434</td>\n",
       "      <td>0.650257</td>\n",
       "      <td>0.206091</td>\n",
       "      <td>0.206940</td>\n",
       "      <td>0.085714</td>\n",
       "      <td>...</td>\n",
       "      <td>0.077383</td>\n",
       "      <td>0.180328</td>\n",
       "      <td>0.551487</td>\n",
       "      <td>0.647818</td>\n",
       "      <td>0.161722</td>\n",
       "      <td>0.205958</td>\n",
       "      <td>0.030303</td>\n",
       "      <td>1.0</td>\n",
       "      <td>1.0</td>\n",
       "      <td>0.0</td>\n",
       "    </tr>\n",
       "  </tbody>\n",
       "</table>\n",
       "<p>840 rows × 23 columns</p>\n",
       "</div>"
      ],
      "text/plain": [
       "                           temperature_2m_zh  surface_pressure_zh  \\\n",
       "date                                                                \n",
       "2024-02-10 00:00:00+00:00           0.405914             0.151528   \n",
       "2024-02-10 01:00:00+00:00           0.451613             0.138723   \n",
       "2024-02-10 02:00:00+00:00           0.438172             0.122010   \n",
       "2024-02-10 03:00:00+00:00           0.448925             0.110847   \n",
       "2024-02-10 04:00:00+00:00           0.341398             0.093835   \n",
       "...                                      ...                  ...   \n",
       "2024-03-15 19:00:00+00:00           0.516129             0.661392   \n",
       "2024-03-15 20:00:00+00:00           0.618280             0.674133   \n",
       "2024-03-15 21:00:00+00:00           0.567204             0.670743   \n",
       "2024-03-15 22:00:00+00:00           0.615591             0.689790   \n",
       "2024-03-15 23:00:00+00:00           0.591398             0.692141   \n",
       "\n",
       "                           wind_speed_10m_zh  wind_direction_10m_zh  \\\n",
       "date                                                                  \n",
       "2024-02-10 00:00:00+00:00           0.108727               0.496359   \n",
       "2024-02-10 01:00:00+00:00           0.167289               0.435358   \n",
       "2024-02-10 02:00:00+00:00           0.167289               0.305539   \n",
       "2024-02-10 03:00:00+00:00           0.139791               0.244539   \n",
       "2024-02-10 04:00:00+00:00           0.216341               0.185675   \n",
       "...                                      ...                    ...   \n",
       "2024-03-15 19:00:00+00:00           0.307525               0.622269   \n",
       "2024-03-15 20:00:00+00:00           0.230905               0.629898   \n",
       "2024-03-15 21:00:00+00:00           0.314123               0.520228   \n",
       "2024-03-15 22:00:00+00:00           0.543633               0.599521   \n",
       "2024-03-15 23:00:00+00:00           0.417933               0.630699   \n",
       "\n",
       "                           wind_gusts_10m_zh  temperature_2m_lu  \\\n",
       "date                                                              \n",
       "2024-02-10 00:00:00+00:00           0.056452           0.400602   \n",
       "2024-02-10 01:00:00+00:00           0.096774           0.406627   \n",
       "2024-02-10 02:00:00+00:00           0.120968           0.394578   \n",
       "2024-02-10 03:00:00+00:00           0.129032           0.388554   \n",
       "2024-02-10 04:00:00+00:00           0.104839           0.400602   \n",
       "...                                      ...                ...   \n",
       "2024-03-15 19:00:00+00:00           0.274194           0.680723   \n",
       "2024-03-15 20:00:00+00:00           0.451613           0.650602   \n",
       "2024-03-15 21:00:00+00:00           0.346774           0.530120   \n",
       "2024-03-15 22:00:00+00:00           0.491936           0.430723   \n",
       "2024-03-15 23:00:00+00:00           0.612903           0.358434   \n",
       "\n",
       "                           surface_pressure_lu  wind_speed_10m_lu  \\\n",
       "date                                                                \n",
       "2024-02-10 00:00:00+00:00             0.158775           0.223537   \n",
       "2024-02-10 01:00:00+00:00             0.156639           0.230417   \n",
       "2024-02-10 02:00:00+00:00             0.141561           0.167653   \n",
       "2024-02-10 03:00:00+00:00             0.126764           0.199938   \n",
       "2024-02-10 04:00:00+00:00             0.117651           0.176721   \n",
       "...                                        ...                ...   \n",
       "2024-03-15 19:00:00+00:00             0.658117           0.124961   \n",
       "2024-03-15 20:00:00+00:00             0.651890           0.127436   \n",
       "2024-03-15 21:00:00+00:00             0.648703           0.158064   \n",
       "2024-03-15 22:00:00+00:00             0.653698           0.149953   \n",
       "2024-03-15 23:00:00+00:00             0.650257           0.206091   \n",
       "\n",
       "                           wind_direction_10m_lu  wind_gusts_10m_lu  ...  \\\n",
       "date                                                                 ...   \n",
       "2024-02-10 00:00:00+00:00               0.069014           0.200000  ...   \n",
       "2024-02-10 01:00:00+00:00               0.029823           0.219048  ...   \n",
       "2024-02-10 02:00:00+00:00               0.069014           0.200000  ...   \n",
       "2024-02-10 03:00:00+00:00               1.000000           0.133333  ...   \n",
       "2024-02-10 04:00:00+00:00               0.017541           0.133333  ...   \n",
       "...                                          ...                ...  ...   \n",
       "2024-03-15 19:00:00+00:00               0.246131           0.028571  ...   \n",
       "2024-03-15 20:00:00+00:00               0.214553           0.028571  ...   \n",
       "2024-03-15 21:00:00+00:00               0.194658           0.057143  ...   \n",
       "2024-03-15 22:00:00+00:00               0.246131           0.057143  ...   \n",
       "2024-03-15 23:00:00+00:00               0.206940           0.085714  ...   \n",
       "\n",
       "                           wind_direction_10m_in  wind_gusts_10m_in  \\\n",
       "date                                                                  \n",
       "2024-02-10 00:00:00+00:00               0.291581           0.535519   \n",
       "2024-02-10 01:00:00+00:00               0.294612           0.579235   \n",
       "2024-02-10 02:00:00+00:00               0.326325           0.568306   \n",
       "2024-02-10 03:00:00+00:00               0.313068           0.584699   \n",
       "2024-02-10 04:00:00+00:00               0.326325           0.590164   \n",
       "...                                          ...                ...   \n",
       "2024-03-15 19:00:00+00:00               0.400813           0.142076   \n",
       "2024-03-15 20:00:00+00:00               0.395632           0.158470   \n",
       "2024-03-15 21:00:00+00:00               0.017093           0.229508   \n",
       "2024-03-15 22:00:00+00:00               0.186888           0.240437   \n",
       "2024-03-15 23:00:00+00:00               0.077383           0.180328   \n",
       "\n",
       "                           temperature_2m_bo  surface_pressure_bo  \\\n",
       "date                                                                \n",
       "2024-02-10 00:00:00+00:00           0.338673             0.195064   \n",
       "2024-02-10 01:00:00+00:00           0.469108             0.186687   \n",
       "2024-02-10 02:00:00+00:00           0.450801             0.190292   \n",
       "2024-02-10 03:00:00+00:00           0.439359             0.184824   \n",
       "2024-02-10 04:00:00+00:00           0.430206             0.179501   \n",
       "...                                      ...                  ...   \n",
       "2024-03-15 19:00:00+00:00           0.734554             0.611667   \n",
       "2024-03-15 20:00:00+00:00           0.688787             0.623117   \n",
       "2024-03-15 21:00:00+00:00           0.649886             0.632590   \n",
       "2024-03-15 22:00:00+00:00           0.606407             0.646513   \n",
       "2024-03-15 23:00:00+00:00           0.551487             0.647818   \n",
       "\n",
       "                           wind_speed_10m_bo  wind_direction_10m_bo  \\\n",
       "date                                                                  \n",
       "2024-02-10 00:00:00+00:00           0.533494               0.952188   \n",
       "2024-02-10 01:00:00+00:00           0.306343               0.859678   \n",
       "2024-02-10 02:00:00+00:00           0.141421               0.842582   \n",
       "2024-02-10 03:00:00+00:00           0.263117               0.925736   \n",
       "2024-02-10 04:00:00+00:00           0.175412               0.925736   \n",
       "...                                      ...                    ...   \n",
       "2024-03-15 19:00:00+00:00           0.316228               0.665246   \n",
       "2024-03-15 20:00:00+00:00           0.400000               0.528416   \n",
       "2024-03-15 21:00:00+00:00           0.238586               0.523251   \n",
       "2024-03-15 22:00:00+00:00           0.110940               0.370998   \n",
       "2024-03-15 23:00:00+00:00           0.161722               0.205958   \n",
       "\n",
       "                           wind_gusts_10m_bo  dayofyear  day_sin  day_cos  \n",
       "date                                                                       \n",
       "2024-02-10 00:00:00+00:00           0.434343        0.0      0.0      1.0  \n",
       "2024-02-10 01:00:00+00:00           0.505051        0.0      0.0      1.0  \n",
       "2024-02-10 02:00:00+00:00           0.474747        0.0      0.0      1.0  \n",
       "2024-02-10 03:00:00+00:00           0.414141        0.0      0.0      1.0  \n",
       "2024-02-10 04:00:00+00:00           0.323232        0.0      0.0      1.0  \n",
       "...                                      ...        ...      ...      ...  \n",
       "2024-03-15 19:00:00+00:00           0.272727        1.0      1.0      0.0  \n",
       "2024-03-15 20:00:00+00:00           0.242424        1.0      1.0      0.0  \n",
       "2024-03-15 21:00:00+00:00           0.242424        1.0      1.0      0.0  \n",
       "2024-03-15 22:00:00+00:00           0.101010        1.0      1.0      0.0  \n",
       "2024-03-15 23:00:00+00:00           0.030303        1.0      1.0      0.0  \n",
       "\n",
       "[840 rows x 23 columns]"
      ]
     },
     "execution_count": 28,
     "metadata": {},
     "output_type": "execute_result"
    }
   ],
   "source": [
    "scaled_data"
   ]
  },
  {
   "cell_type": "code",
   "execution_count": 29,
   "id": "72d6e8e4-827f-46b1-91c8-4d361cc5d5c3",
   "metadata": {},
   "outputs": [],
   "source": [
    "target = scaled_data[['surface_pressure_zh']]\n",
    "past_cov = scaled_data.drop(columns=['dayofyear', 'day_sin', 'day_cos'])\n",
    "future_cov = scaled_data[['dayofyear', 'day_sin', 'day_cos']]"
   ]
  },
  {
   "cell_type": "code",
   "execution_count": 30,
   "id": "8a29261d-5f70-428d-92e1-5427d93a4925",
   "metadata": {},
   "outputs": [],
   "source": [
    "from darts import TimeSeries\n",
    "from darts.models.forecasting.tft_model import TFTModel\n",
    "from darts.metrics import mse\n",
    "from darts.metrics import smape, mae\n",
    "from torchmetrics.regression import MeanAbsoluteError"
   ]
  },
  {
   "cell_type": "code",
   "execution_count": 79,
   "id": "2ea11f19-8156-41c3-b994-8dd0eb8e71b5",
   "metadata": {},
   "outputs": [],
   "source": [
    "train_start = '2024-02-10 00:00:00+00:00'\n",
    "train_end = '2024-03-03 23:00:00+00:00' #70% = 21 days\n",
    "train_future_end ='2024-03-04 02:00:00+00:00'\n",
    "\n",
    "val_start = '2024-03-04 00:00:00+00:00'\n",
    "val_end = '2024-03-12 20:00:00+00:00' \n",
    "val_future_end = '2024-03-12 23:00:00+00:00'\n",
    "\n",
    "test_start = '2024-03-13 00:00:00+00:00'\n",
    "test_end = '2024-03-15 23:00:00+00:00'\n",
    "\n",
    "y_train = target.loc[train_start:train_end]\n",
    "past_cov_train = past_cov.loc[train_start:train_end]\n",
    "future_cov_train = future_cov.loc[train_start:train_future_end]\n",
    "\n",
    "y_val = target.loc[val_start:val_end]\n",
    "past_cov_val = past_cov.loc[val_start:val_end]\n",
    "future_cov_val = future_cov.loc[val_start:val_future_end]\n",
    "\n",
    "y_test = target.loc[test_start:test_end]\n",
    "\n",
    "y_train_backtest = target.loc[train_start:val_end]\n",
    "past_cov_train_backtest = past_cov.loc[train_start:val_end]\n",
    "future_cov_train_backtest = future_cov.loc[train_start:val_future_end]\n"
   ]
  },
  {
   "cell_type": "code",
   "execution_count": 80,
   "id": "0e2a37ae-f835-48f9-8c60-d3cf7617d6a7",
   "metadata": {},
   "outputs": [
    {
     "name": "stderr",
     "output_type": "stream",
     "text": [
      "The provided DatetimeIndex was associated with a timezone, which is currently not supported by xarray. To avoid unexpected behaviour, the tz information was removed. Consider calling `ts.time_index.tz_localize(UTC)` when exporting the results.To plot the series with the right time steps, consider setting the matplotlib.pyplot `rcParams['timezone']` parameter to automatically convert the time axis back to the original timezone.\n",
      "The provided DatetimeIndex was associated with a timezone, which is currently not supported by xarray. To avoid unexpected behaviour, the tz information was removed. Consider calling `ts.time_index.tz_localize(UTC)` when exporting the results.To plot the series with the right time steps, consider setting the matplotlib.pyplot `rcParams['timezone']` parameter to automatically convert the time axis back to the original timezone.\n",
      "The provided DatetimeIndex was associated with a timezone, which is currently not supported by xarray. To avoid unexpected behaviour, the tz information was removed. Consider calling `ts.time_index.tz_localize(UTC)` when exporting the results.To plot the series with the right time steps, consider setting the matplotlib.pyplot `rcParams['timezone']` parameter to automatically convert the time axis back to the original timezone.\n",
      "The provided DatetimeIndex was associated with a timezone, which is currently not supported by xarray. To avoid unexpected behaviour, the tz information was removed. Consider calling `ts.time_index.tz_localize(UTC)` when exporting the results.To plot the series with the right time steps, consider setting the matplotlib.pyplot `rcParams['timezone']` parameter to automatically convert the time axis back to the original timezone.\n",
      "The provided DatetimeIndex was associated with a timezone, which is currently not supported by xarray. To avoid unexpected behaviour, the tz information was removed. Consider calling `ts.time_index.tz_localize(UTC)` when exporting the results.To plot the series with the right time steps, consider setting the matplotlib.pyplot `rcParams['timezone']` parameter to automatically convert the time axis back to the original timezone.\n",
      "The provided DatetimeIndex was associated with a timezone, which is currently not supported by xarray. To avoid unexpected behaviour, the tz information was removed. Consider calling `ts.time_index.tz_localize(UTC)` when exporting the results.To plot the series with the right time steps, consider setting the matplotlib.pyplot `rcParams['timezone']` parameter to automatically convert the time axis back to the original timezone.\n",
      "The provided DatetimeIndex was associated with a timezone, which is currently not supported by xarray. To avoid unexpected behaviour, the tz information was removed. Consider calling `ts.time_index.tz_localize(UTC)` when exporting the results.To plot the series with the right time steps, consider setting the matplotlib.pyplot `rcParams['timezone']` parameter to automatically convert the time axis back to the original timezone.\n",
      "The provided DatetimeIndex was associated with a timezone, which is currently not supported by xarray. To avoid unexpected behaviour, the tz information was removed. Consider calling `ts.time_index.tz_localize(UTC)` when exporting the results.To plot the series with the right time steps, consider setting the matplotlib.pyplot `rcParams['timezone']` parameter to automatically convert the time axis back to the original timezone.\n",
      "The provided DatetimeIndex was associated with a timezone, which is currently not supported by xarray. To avoid unexpected behaviour, the tz information was removed. Consider calling `ts.time_index.tz_localize(UTC)` when exporting the results.To plot the series with the right time steps, consider setting the matplotlib.pyplot `rcParams['timezone']` parameter to automatically convert the time axis back to the original timezone.\n",
      "The provided DatetimeIndex was associated with a timezone, which is currently not supported by xarray. To avoid unexpected behaviour, the tz information was removed. Consider calling `ts.time_index.tz_localize(UTC)` when exporting the results.To plot the series with the right time steps, consider setting the matplotlib.pyplot `rcParams['timezone']` parameter to automatically convert the time axis back to the original timezone.\n"
     ]
    }
   ],
   "source": [
    "y_train_series = TimeSeries.from_dataframe(y_train)\n",
    "past_cov_train_series = TimeSeries.from_dataframe(past_cov_train)\n",
    "future_cov_train_series = TimeSeries.from_dataframe(future_cov_train)\n",
    "\n",
    "y_val_series = TimeSeries.from_dataframe(y_val)\n",
    "past_cov_val_series = TimeSeries.from_dataframe(past_cov_val)\n",
    "future_cov_val_series = TimeSeries.from_dataframe(future_cov_val)\n",
    "\n",
    "y_test_series = TimeSeries.from_dataframe(y_test)\n",
    "\n",
    "y_train_backtest_series = TimeSeries.from_dataframe(y_train_backtest)\n",
    "past_cov_train_backtest_series = TimeSeries.from_dataframe(past_cov_train_backtest)\n",
    "future_cov_train_backtest_series = TimeSeries.from_dataframe(future_cov_train_backtest)"
   ]
  },
  {
   "cell_type": "code",
   "execution_count": 81,
   "id": "c4331caa-006d-4040-b7d6-349f3bb0a5eb",
   "metadata": {},
   "outputs": [
    {
     "data": {
      "text/plain": [
       "552"
      ]
     },
     "execution_count": 81,
     "metadata": {},
     "output_type": "execute_result"
    }
   ],
   "source": [
    "len(y_train_series)"
   ]
  },
  {
   "cell_type": "code",
   "execution_count": 82,
   "id": "e2fd3057-c600-40f5-90bc-29b874a43358",
   "metadata": {},
   "outputs": [],
   "source": [
    "# TFTModel:\n",
    "input_chunk_length = 24\n",
    "output_chunk_length = 3"
   ]
  },
  {
   "cell_type": "code",
   "execution_count": 89,
   "id": "d8c45030-5955-4252-abd3-334948dd2853",
   "metadata": {
    "scrolled": true
   },
   "outputs": [
    {
     "name": "stderr",
     "output_type": "stream",
     "text": [
      "GPU available: True (cuda), used: True\n",
      "TPU available: False, using: 0 TPU cores\n",
      "IPU available: False, using: 0 IPUs\n",
      "HPU available: False, using: 0 HPUs\n",
      "LOCAL_RANK: 0 - CUDA_VISIBLE_DEVICES: [0]\n",
      "\n",
      "   | Name                              | Type                             | Params\n",
      "----------------------------------------------------------------------------------------\n",
      "0  | train_metrics                     | MetricCollection                 | 0     \n",
      "1  | val_metrics                       | MetricCollection                 | 0     \n",
      "2  | input_embeddings                  | _MultiEmbedding                  | 0     \n",
      "3  | static_covariates_vsn             | _VariableSelectionNetwork        | 0     \n",
      "4  | encoder_vsn                       | _VariableSelectionNetwork        | 47.3 K\n",
      "5  | decoder_vsn                       | _VariableSelectionNetwork        | 5.2 K \n",
      "6  | static_context_grn                | _GatedResidualNetwork            | 16.8 K\n",
      "7  | static_context_hidden_encoder_grn | _GatedResidualNetwork            | 16.8 K\n",
      "8  | static_context_cell_encoder_grn   | _GatedResidualNetwork            | 16.8 K\n",
      "9  | static_context_enrichment         | _GatedResidualNetwork            | 16.8 K\n",
      "10 | lstm_encoder                      | LSTM                             | 66.6 K\n",
      "11 | lstm_decoder                      | LSTM                             | 66.6 K\n",
      "12 | post_lstm_gan                     | _GateAddNorm                     | 8.4 K \n",
      "13 | static_enrichment_grn             | _GatedResidualNetwork            | 20.9 K\n",
      "14 | multihead_attn                    | _InterpretableMultiHeadAttention | 9.4 K \n",
      "15 | post_attn_gan                     | _GateAddNorm                     | 8.4 K \n",
      "16 | feed_forward_block                | _GatedResidualNetwork            | 16.8 K\n",
      "17 | pre_output_gan                    | _GateAddNorm                     | 8.4 K \n",
      "18 | output_layer                      | Linear                           | 1.1 K \n",
      "----------------------------------------------------------------------------------------\n",
      "326 K     Trainable params\n",
      "0         Non-trainable params\n",
      "326 K     Total params\n",
      "1.304     Total estimated model params size (MB)\n"
     ]
    },
    {
     "data": {
      "application/vnd.jupyter.widget-view+json": {
       "model_id": "",
       "version_major": 2,
       "version_minor": 0
      },
      "text/plain": [
       "Sanity Checking: |                                                                                | 0/? [00:00…"
      ]
     },
     "metadata": {},
     "output_type": "display_data"
    },
    {
     "name": "stderr",
     "output_type": "stream",
     "text": [
      "/home/elena/.pyenv/versions/3.10.6/envs/jawP_projectV2/lib/python3.10/site-packages/pytorch_lightning/core/module.py:507: You called `self.log('val_MeanAbsoluteError', ..., logger=True)` but have no logger configured. You can enable one by doing `Trainer(logger=ALogger(...))`\n"
     ]
    },
    {
     "data": {
      "application/vnd.jupyter.widget-view+json": {
       "model_id": "8abfd04c378547abbfe5962c7f269947",
       "version_major": 2,
       "version_minor": 0
      },
      "text/plain": [
       "Training: |                                                                                       | 0/? [00:00…"
      ]
     },
     "metadata": {},
     "output_type": "display_data"
    },
    {
     "name": "stderr",
     "output_type": "stream",
     "text": [
      "/home/elena/.pyenv/versions/3.10.6/envs/jawP_projectV2/lib/python3.10/site-packages/pytorch_lightning/core/module.py:507: You called `self.log('train_MeanAbsoluteError', ..., logger=True)` but have no logger configured. You can enable one by doing `Trainer(logger=ALogger(...))`\n"
     ]
    },
    {
     "data": {
      "application/vnd.jupyter.widget-view+json": {
       "model_id": "",
       "version_major": 2,
       "version_minor": 0
      },
      "text/plain": [
       "Validation: |                                                                                     | 0/? [00:00…"
      ]
     },
     "metadata": {},
     "output_type": "display_data"
    },
    {
     "data": {
      "application/vnd.jupyter.widget-view+json": {
       "model_id": "",
       "version_major": 2,
       "version_minor": 0
      },
      "text/plain": [
       "Validation: |                                                                                     | 0/? [00:00…"
      ]
     },
     "metadata": {},
     "output_type": "display_data"
    },
    {
     "data": {
      "application/vnd.jupyter.widget-view+json": {
       "model_id": "",
       "version_major": 2,
       "version_minor": 0
      },
      "text/plain": [
       "Validation: |                                                                                     | 0/? [00:00…"
      ]
     },
     "metadata": {},
     "output_type": "display_data"
    },
    {
     "data": {
      "application/vnd.jupyter.widget-view+json": {
       "model_id": "",
       "version_major": 2,
       "version_minor": 0
      },
      "text/plain": [
       "Validation: |                                                                                     | 0/? [00:00…"
      ]
     },
     "metadata": {},
     "output_type": "display_data"
    },
    {
     "data": {
      "application/vnd.jupyter.widget-view+json": {
       "model_id": "",
       "version_major": 2,
       "version_minor": 0
      },
      "text/plain": [
       "Validation: |                                                                                     | 0/? [00:00…"
      ]
     },
     "metadata": {},
     "output_type": "display_data"
    },
    {
     "data": {
      "application/vnd.jupyter.widget-view+json": {
       "model_id": "",
       "version_major": 2,
       "version_minor": 0
      },
      "text/plain": [
       "Validation: |                                                                                     | 0/? [00:00…"
      ]
     },
     "metadata": {},
     "output_type": "display_data"
    },
    {
     "data": {
      "application/vnd.jupyter.widget-view+json": {
       "model_id": "",
       "version_major": 2,
       "version_minor": 0
      },
      "text/plain": [
       "Validation: |                                                                                     | 0/? [00:00…"
      ]
     },
     "metadata": {},
     "output_type": "display_data"
    },
    {
     "data": {
      "application/vnd.jupyter.widget-view+json": {
       "model_id": "",
       "version_major": 2,
       "version_minor": 0
      },
      "text/plain": [
       "Validation: |                                                                                     | 0/? [00:00…"
      ]
     },
     "metadata": {},
     "output_type": "display_data"
    },
    {
     "data": {
      "application/vnd.jupyter.widget-view+json": {
       "model_id": "",
       "version_major": 2,
       "version_minor": 0
      },
      "text/plain": [
       "Validation: |                                                                                     | 0/? [00:00…"
      ]
     },
     "metadata": {},
     "output_type": "display_data"
    },
    {
     "data": {
      "application/vnd.jupyter.widget-view+json": {
       "model_id": "",
       "version_major": 2,
       "version_minor": 0
      },
      "text/plain": [
       "Validation: |                                                                                     | 0/? [00:00…"
      ]
     },
     "metadata": {},
     "output_type": "display_data"
    },
    {
     "data": {
      "application/vnd.jupyter.widget-view+json": {
       "model_id": "",
       "version_major": 2,
       "version_minor": 0
      },
      "text/plain": [
       "Validation: |                                                                                     | 0/? [00:00…"
      ]
     },
     "metadata": {},
     "output_type": "display_data"
    },
    {
     "data": {
      "application/vnd.jupyter.widget-view+json": {
       "model_id": "",
       "version_major": 2,
       "version_minor": 0
      },
      "text/plain": [
       "Validation: |                                                                                     | 0/? [00:00…"
      ]
     },
     "metadata": {},
     "output_type": "display_data"
    },
    {
     "data": {
      "application/vnd.jupyter.widget-view+json": {
       "model_id": "",
       "version_major": 2,
       "version_minor": 0
      },
      "text/plain": [
       "Validation: |                                                                                     | 0/? [00:00…"
      ]
     },
     "metadata": {},
     "output_type": "display_data"
    },
    {
     "data": {
      "application/vnd.jupyter.widget-view+json": {
       "model_id": "",
       "version_major": 2,
       "version_minor": 0
      },
      "text/plain": [
       "Validation: |                                                                                     | 0/? [00:00…"
      ]
     },
     "metadata": {},
     "output_type": "display_data"
    },
    {
     "data": {
      "application/vnd.jupyter.widget-view+json": {
       "model_id": "",
       "version_major": 2,
       "version_minor": 0
      },
      "text/plain": [
       "Validation: |                                                                                     | 0/? [00:00…"
      ]
     },
     "metadata": {},
     "output_type": "display_data"
    },
    {
     "data": {
      "application/vnd.jupyter.widget-view+json": {
       "model_id": "",
       "version_major": 2,
       "version_minor": 0
      },
      "text/plain": [
       "Validation: |                                                                                     | 0/? [00:00…"
      ]
     },
     "metadata": {},
     "output_type": "display_data"
    },
    {
     "data": {
      "application/vnd.jupyter.widget-view+json": {
       "model_id": "",
       "version_major": 2,
       "version_minor": 0
      },
      "text/plain": [
       "Validation: |                                                                                     | 0/? [00:00…"
      ]
     },
     "metadata": {},
     "output_type": "display_data"
    },
    {
     "data": {
      "application/vnd.jupyter.widget-view+json": {
       "model_id": "",
       "version_major": 2,
       "version_minor": 0
      },
      "text/plain": [
       "Validation: |                                                                                     | 0/? [00:00…"
      ]
     },
     "metadata": {},
     "output_type": "display_data"
    },
    {
     "data": {
      "application/vnd.jupyter.widget-view+json": {
       "model_id": "",
       "version_major": 2,
       "version_minor": 0
      },
      "text/plain": [
       "Validation: |                                                                                     | 0/? [00:00…"
      ]
     },
     "metadata": {},
     "output_type": "display_data"
    },
    {
     "data": {
      "application/vnd.jupyter.widget-view+json": {
       "model_id": "",
       "version_major": 2,
       "version_minor": 0
      },
      "text/plain": [
       "Validation: |                                                                                     | 0/? [00:00…"
      ]
     },
     "metadata": {},
     "output_type": "display_data"
    },
    {
     "data": {
      "application/vnd.jupyter.widget-view+json": {
       "model_id": "",
       "version_major": 2,
       "version_minor": 0
      },
      "text/plain": [
       "Validation: |                                                                                     | 0/? [00:00…"
      ]
     },
     "metadata": {},
     "output_type": "display_data"
    },
    {
     "data": {
      "application/vnd.jupyter.widget-view+json": {
       "model_id": "",
       "version_major": 2,
       "version_minor": 0
      },
      "text/plain": [
       "Validation: |                                                                                     | 0/? [00:00…"
      ]
     },
     "metadata": {},
     "output_type": "display_data"
    },
    {
     "data": {
      "application/vnd.jupyter.widget-view+json": {
       "model_id": "",
       "version_major": 2,
       "version_minor": 0
      },
      "text/plain": [
       "Validation: |                                                                                     | 0/? [00:00…"
      ]
     },
     "metadata": {},
     "output_type": "display_data"
    },
    {
     "data": {
      "application/vnd.jupyter.widget-view+json": {
       "model_id": "",
       "version_major": 2,
       "version_minor": 0
      },
      "text/plain": [
       "Validation: |                                                                                     | 0/? [00:00…"
      ]
     },
     "metadata": {},
     "output_type": "display_data"
    },
    {
     "data": {
      "application/vnd.jupyter.widget-view+json": {
       "model_id": "",
       "version_major": 2,
       "version_minor": 0
      },
      "text/plain": [
       "Validation: |                                                                                     | 0/? [00:00…"
      ]
     },
     "metadata": {},
     "output_type": "display_data"
    },
    {
     "data": {
      "application/vnd.jupyter.widget-view+json": {
       "model_id": "",
       "version_major": 2,
       "version_minor": 0
      },
      "text/plain": [
       "Validation: |                                                                                     | 0/? [00:00…"
      ]
     },
     "metadata": {},
     "output_type": "display_data"
    },
    {
     "data": {
      "application/vnd.jupyter.widget-view+json": {
       "model_id": "",
       "version_major": 2,
       "version_minor": 0
      },
      "text/plain": [
       "Validation: |                                                                                     | 0/? [00:00…"
      ]
     },
     "metadata": {},
     "output_type": "display_data"
    },
    {
     "data": {
      "application/vnd.jupyter.widget-view+json": {
       "model_id": "",
       "version_major": 2,
       "version_minor": 0
      },
      "text/plain": [
       "Validation: |                                                                                     | 0/? [00:00…"
      ]
     },
     "metadata": {},
     "output_type": "display_data"
    },
    {
     "data": {
      "application/vnd.jupyter.widget-view+json": {
       "model_id": "",
       "version_major": 2,
       "version_minor": 0
      },
      "text/plain": [
       "Validation: |                                                                                     | 0/? [00:00…"
      ]
     },
     "metadata": {},
     "output_type": "display_data"
    },
    {
     "data": {
      "application/vnd.jupyter.widget-view+json": {
       "model_id": "",
       "version_major": 2,
       "version_minor": 0
      },
      "text/plain": [
       "Validation: |                                                                                     | 0/? [00:00…"
      ]
     },
     "metadata": {},
     "output_type": "display_data"
    },
    {
     "data": {
      "application/vnd.jupyter.widget-view+json": {
       "model_id": "",
       "version_major": 2,
       "version_minor": 0
      },
      "text/plain": [
       "Validation: |                                                                                     | 0/? [00:00…"
      ]
     },
     "metadata": {},
     "output_type": "display_data"
    },
    {
     "data": {
      "application/vnd.jupyter.widget-view+json": {
       "model_id": "",
       "version_major": 2,
       "version_minor": 0
      },
      "text/plain": [
       "Validation: |                                                                                     | 0/? [00:00…"
      ]
     },
     "metadata": {},
     "output_type": "display_data"
    },
    {
     "data": {
      "application/vnd.jupyter.widget-view+json": {
       "model_id": "",
       "version_major": 2,
       "version_minor": 0
      },
      "text/plain": [
       "Validation: |                                                                                     | 0/? [00:00…"
      ]
     },
     "metadata": {},
     "output_type": "display_data"
    },
    {
     "data": {
      "application/vnd.jupyter.widget-view+json": {
       "model_id": "",
       "version_major": 2,
       "version_minor": 0
      },
      "text/plain": [
       "Validation: |                                                                                     | 0/? [00:00…"
      ]
     },
     "metadata": {},
     "output_type": "display_data"
    },
    {
     "data": {
      "application/vnd.jupyter.widget-view+json": {
       "model_id": "",
       "version_major": 2,
       "version_minor": 0
      },
      "text/plain": [
       "Validation: |                                                                                     | 0/? [00:00…"
      ]
     },
     "metadata": {},
     "output_type": "display_data"
    },
    {
     "data": {
      "application/vnd.jupyter.widget-view+json": {
       "model_id": "",
       "version_major": 2,
       "version_minor": 0
      },
      "text/plain": [
       "Validation: |                                                                                     | 0/? [00:00…"
      ]
     },
     "metadata": {},
     "output_type": "display_data"
    },
    {
     "data": {
      "application/vnd.jupyter.widget-view+json": {
       "model_id": "",
       "version_major": 2,
       "version_minor": 0
      },
      "text/plain": [
       "Validation: |                                                                                     | 0/? [00:00…"
      ]
     },
     "metadata": {},
     "output_type": "display_data"
    },
    {
     "data": {
      "application/vnd.jupyter.widget-view+json": {
       "model_id": "",
       "version_major": 2,
       "version_minor": 0
      },
      "text/plain": [
       "Validation: |                                                                                     | 0/? [00:00…"
      ]
     },
     "metadata": {},
     "output_type": "display_data"
    },
    {
     "data": {
      "application/vnd.jupyter.widget-view+json": {
       "model_id": "",
       "version_major": 2,
       "version_minor": 0
      },
      "text/plain": [
       "Validation: |                                                                                     | 0/? [00:00…"
      ]
     },
     "metadata": {},
     "output_type": "display_data"
    },
    {
     "data": {
      "application/vnd.jupyter.widget-view+json": {
       "model_id": "",
       "version_major": 2,
       "version_minor": 0
      },
      "text/plain": [
       "Validation: |                                                                                     | 0/? [00:00…"
      ]
     },
     "metadata": {},
     "output_type": "display_data"
    },
    {
     "data": {
      "application/vnd.jupyter.widget-view+json": {
       "model_id": "",
       "version_major": 2,
       "version_minor": 0
      },
      "text/plain": [
       "Validation: |                                                                                     | 0/? [00:00…"
      ]
     },
     "metadata": {},
     "output_type": "display_data"
    },
    {
     "data": {
      "application/vnd.jupyter.widget-view+json": {
       "model_id": "",
       "version_major": 2,
       "version_minor": 0
      },
      "text/plain": [
       "Validation: |                                                                                     | 0/? [00:00…"
      ]
     },
     "metadata": {},
     "output_type": "display_data"
    },
    {
     "data": {
      "application/vnd.jupyter.widget-view+json": {
       "model_id": "",
       "version_major": 2,
       "version_minor": 0
      },
      "text/plain": [
       "Validation: |                                                                                     | 0/? [00:00…"
      ]
     },
     "metadata": {},
     "output_type": "display_data"
    },
    {
     "data": {
      "application/vnd.jupyter.widget-view+json": {
       "model_id": "",
       "version_major": 2,
       "version_minor": 0
      },
      "text/plain": [
       "Validation: |                                                                                     | 0/? [00:00…"
      ]
     },
     "metadata": {},
     "output_type": "display_data"
    },
    {
     "data": {
      "application/vnd.jupyter.widget-view+json": {
       "model_id": "",
       "version_major": 2,
       "version_minor": 0
      },
      "text/plain": [
       "Validation: |                                                                                     | 0/? [00:00…"
      ]
     },
     "metadata": {},
     "output_type": "display_data"
    },
    {
     "data": {
      "application/vnd.jupyter.widget-view+json": {
       "model_id": "76819e9075674b3aa0a5b73a93c450a0",
       "version_major": 2,
       "version_minor": 0
      },
      "text/plain": [
       "Validation: |                                                                                     | 0/? [00:00…"
      ]
     },
     "metadata": {},
     "output_type": "display_data"
    },
    {
     "data": {
      "application/vnd.jupyter.widget-view+json": {
       "model_id": "fbaf7c29c2054c708dcf14af2998f708",
       "version_major": 2,
       "version_minor": 0
      },
      "text/plain": [
       "Validation: |                                                                                     | 0/? [00:00…"
      ]
     },
     "metadata": {},
     "output_type": "display_data"
    },
    {
     "data": {
      "application/vnd.jupyter.widget-view+json": {
       "model_id": "8c02a8a567b641a6ab22d1c6d0d01ab8",
       "version_major": 2,
       "version_minor": 0
      },
      "text/plain": [
       "Validation: |                                                                                     | 0/? [00:00…"
      ]
     },
     "metadata": {},
     "output_type": "display_data"
    },
    {
     "data": {
      "application/vnd.jupyter.widget-view+json": {
       "model_id": "cb6db8d35ab5426ca46c87aae02505e0",
       "version_major": 2,
       "version_minor": 0
      },
      "text/plain": [
       "Validation: |                                                                                     | 0/? [00:00…"
      ]
     },
     "metadata": {},
     "output_type": "display_data"
    },
    {
     "data": {
      "application/vnd.jupyter.widget-view+json": {
       "model_id": "9fcd2e8a525b4c3daeb377276d9e80b5",
       "version_major": 2,
       "version_minor": 0
      },
      "text/plain": [
       "Validation: |                                                                                     | 0/? [00:00…"
      ]
     },
     "metadata": {},
     "output_type": "display_data"
    },
    {
     "data": {
      "application/vnd.jupyter.widget-view+json": {
       "model_id": "7c65d5c07432458391c7bee350bd335a",
       "version_major": 2,
       "version_minor": 0
      },
      "text/plain": [
       "Validation: |                                                                                     | 0/? [00:00…"
      ]
     },
     "metadata": {},
     "output_type": "display_data"
    },
    {
     "data": {
      "application/vnd.jupyter.widget-view+json": {
       "model_id": "7dfffdbc76374182b6b810c64e5f76c9",
       "version_major": 2,
       "version_minor": 0
      },
      "text/plain": [
       "Validation: |                                                                                     | 0/? [00:00…"
      ]
     },
     "metadata": {},
     "output_type": "display_data"
    },
    {
     "data": {
      "application/vnd.jupyter.widget-view+json": {
       "model_id": "3d463d5299d34374a4d98f9f0d12e598",
       "version_major": 2,
       "version_minor": 0
      },
      "text/plain": [
       "Validation: |                                                                                     | 0/? [00:00…"
      ]
     },
     "metadata": {},
     "output_type": "display_data"
    },
    {
     "data": {
      "application/vnd.jupyter.widget-view+json": {
       "model_id": "6f058458d0eb44cbb59101d4df0d07f4",
       "version_major": 2,
       "version_minor": 0
      },
      "text/plain": [
       "Validation: |                                                                                     | 0/? [00:00…"
      ]
     },
     "metadata": {},
     "output_type": "display_data"
    },
    {
     "data": {
      "application/vnd.jupyter.widget-view+json": {
       "model_id": "22fdbd0fd44f4787bdd88f8693f0ce45",
       "version_major": 2,
       "version_minor": 0
      },
      "text/plain": [
       "Validation: |                                                                                     | 0/? [00:00…"
      ]
     },
     "metadata": {},
     "output_type": "display_data"
    },
    {
     "data": {
      "application/vnd.jupyter.widget-view+json": {
       "model_id": "0555e29181c74e51a89641d5cd74f7e1",
       "version_major": 2,
       "version_minor": 0
      },
      "text/plain": [
       "Validation: |                                                                                     | 0/? [00:00…"
      ]
     },
     "metadata": {},
     "output_type": "display_data"
    },
    {
     "data": {
      "application/vnd.jupyter.widget-view+json": {
       "model_id": "2840d4a3f902478babb2262e14b1cc78",
       "version_major": 2,
       "version_minor": 0
      },
      "text/plain": [
       "Validation: |                                                                                     | 0/? [00:00…"
      ]
     },
     "metadata": {},
     "output_type": "display_data"
    },
    {
     "data": {
      "application/vnd.jupyter.widget-view+json": {
       "model_id": "f3a194ab6d2d40a19c3fe204cd5c269e",
       "version_major": 2,
       "version_minor": 0
      },
      "text/plain": [
       "Validation: |                                                                                     | 0/? [00:00…"
      ]
     },
     "metadata": {},
     "output_type": "display_data"
    },
    {
     "data": {
      "application/vnd.jupyter.widget-view+json": {
       "model_id": "6e48e1cf244749c19b4cfc2710305bb2",
       "version_major": 2,
       "version_minor": 0
      },
      "text/plain": [
       "Validation: |                                                                                     | 0/? [00:00…"
      ]
     },
     "metadata": {},
     "output_type": "display_data"
    },
    {
     "data": {
      "application/vnd.jupyter.widget-view+json": {
       "model_id": "6a9159654bf94965b088ba9f5d61605d",
       "version_major": 2,
       "version_minor": 0
      },
      "text/plain": [
       "Validation: |                                                                                     | 0/? [00:00…"
      ]
     },
     "metadata": {},
     "output_type": "display_data"
    },
    {
     "data": {
      "application/vnd.jupyter.widget-view+json": {
       "model_id": "0d208591097a46228426c4a279c5a712",
       "version_major": 2,
       "version_minor": 0
      },
      "text/plain": [
       "Validation: |                                                                                     | 0/? [00:00…"
      ]
     },
     "metadata": {},
     "output_type": "display_data"
    },
    {
     "data": {
      "application/vnd.jupyter.widget-view+json": {
       "model_id": "dbbdc1037c884c0c9f10007cc57adc28",
       "version_major": 2,
       "version_minor": 0
      },
      "text/plain": [
       "Validation: |                                                                                     | 0/? [00:00…"
      ]
     },
     "metadata": {},
     "output_type": "display_data"
    },
    {
     "data": {
      "application/vnd.jupyter.widget-view+json": {
       "model_id": "52e0004ea3f84444a1223b176e470cba",
       "version_major": 2,
       "version_minor": 0
      },
      "text/plain": [
       "Validation: |                                                                                     | 0/? [00:00…"
      ]
     },
     "metadata": {},
     "output_type": "display_data"
    },
    {
     "data": {
      "application/vnd.jupyter.widget-view+json": {
       "model_id": "873a76f10c074e209544c12e75207587",
       "version_major": 2,
       "version_minor": 0
      },
      "text/plain": [
       "Validation: |                                                                                     | 0/? [00:00…"
      ]
     },
     "metadata": {},
     "output_type": "display_data"
    },
    {
     "data": {
      "application/vnd.jupyter.widget-view+json": {
       "model_id": "33fd5698e78249f5a0ead04205587332",
       "version_major": 2,
       "version_minor": 0
      },
      "text/plain": [
       "Validation: |                                                                                     | 0/? [00:00…"
      ]
     },
     "metadata": {},
     "output_type": "display_data"
    },
    {
     "data": {
      "text/plain": [
       "TFTModel(output_chunk_shift=0, hidden_size=64, lstm_layers=2, num_attention_heads=8, full_attention=False, feed_forward=GatedResidualNetwork, dropout=0.2, hidden_continuous_size=8, categorical_embedding_sizes=None, add_relative_index=False, loss_fn=None, likelihood=None, norm_type=LayerNorm, use_static_covariates=True, input_chunk_length=24, output_chunk_length=3, pl_trainer_kwargs={'callbacks': [<pytorch_lightning.callbacks.early_stopping.EarlyStopping object at 0x7f50d1e06710>], 'accelerator': 'gpu', 'devices': [0]}, batch_size=16, torch_metrics=MeanAbsoluteError(), n_epochs=100)"
      ]
     },
     "execution_count": 89,
     "metadata": {},
     "output_type": "execute_result"
    }
   ],
   "source": [
    "from pytorch_lightning.callbacks.early_stopping import EarlyStopping\n",
    "\n",
    "# stop training when validation loss does not decrease more than 0.05 (`min_delta`) over\n",
    "# a period of 5 epochs (`patience`)\n",
    "my_stopper = EarlyStopping(\n",
    "    monitor=\"val_loss\",\n",
    "    patience=100,\n",
    "    min_delta=0.0001,\n",
    "    mode='min',\n",
    ")\n",
    "\n",
    "# use GPU\n",
    "pl_trainer_kwargs={\"callbacks\": [my_stopper],\n",
    "                   \"accelerator\": \"gpu\",\n",
    "                   \"devices\": [0]}\n",
    "\n",
    "# use CPU\n",
    "#pl_trainer_kwargs={\"callbacks\": [my_stopper],\n",
    "                   #\"accelerator\": \"cpu\"}\n",
    "\n",
    "# Advanced tuning\n",
    "tft = TFTModel(input_chunk_length =input_chunk_length ,\n",
    "               output_chunk_length = output_chunk_length,\n",
    "               pl_trainer_kwargs = pl_trainer_kwargs,\n",
    "               lstm_layers=2,\n",
    "               num_attention_heads=8,\n",
    "               dropout=0.2,\n",
    "               batch_size=16,\n",
    "               hidden_size=64,\n",
    "               torch_metrics=MeanAbsoluteError(),\n",
    "               n_epochs=200,\n",
    "               # add_encoders=add_encoders\n",
    "               )\n",
    "\n",
    "tft.fit(series=y_train_series,\n",
    "        past_covariates = past_cov_train_series,\n",
    "        future_covariates = future_cov_train_series,\n",
    "        val_series=y_val_series,\n",
    "        val_past_covariates=past_cov_val_series,\n",
    "        val_future_covariates=future_cov_val_series)"
   ]
  },
  {
   "cell_type": "code",
   "execution_count": 77,
   "id": "57b82113-1631-486a-846e-cf5d4d690ac2",
   "metadata": {
    "jp-MarkdownHeadingCollapsed": true
   },
   "outputs": [],
   "source": [
    "# Advanced tuning\n",
    "# tft = TFTModel(input_chunk_length =input_chunk_length ,\n",
    "#                output_chunk_length = output_chunk_length,\n",
    "#                pl_trainer_kwargs = pl_trainer_kwargs,\n",
    "#                lstm_layers=2,\n",
    "#                num_attention_heads=8,\n",
    "#                dropout=0.2,\n",
    "#                batch_size=16,\n",
    "#                hidden_size=64,\n",
    "#                torch_metrics=MeanAbsoluteError(),\n",
    "#                n_epochs=1000,\n",
    "#                # add_encoders=add_encoders\n",
    "#                )\n",
    "\n",
    "##tft = TFTModel(input_chunk_length =input_chunk_length ,                \n",
    "#               output_chunk_length = output_chunk_length,\n",
    "#               pl_trainer_kwargs = pl_trainer_kwargs,\n",
    "#               torch_metrics=MeanAbsoluteError(),\n",
    "#               n_epochs=50\n",
    "#               )"
   ]
  },
  {
   "cell_type": "code",
   "execution_count": 90,
   "id": "070e0579-c364-486a-936a-877cc3359177",
   "metadata": {},
   "outputs": [
    {
     "name": "stderr",
     "output_type": "stream",
     "text": [
      "GPU available: True (cuda), used: True\n",
      "TPU available: False, using: 0 TPU cores\n",
      "IPU available: False, using: 0 IPUs\n",
      "HPU available: False, using: 0 HPUs\n",
      "LOCAL_RANK: 0 - CUDA_VISIBLE_DEVICES: [0]\n"
     ]
    },
    {
     "data": {
      "application/vnd.jupyter.widget-view+json": {
       "model_id": "3c20aa51ceba41bf8124c7328981490f",
       "version_major": 2,
       "version_minor": 0
      },
      "text/plain": [
       "Predicting: |                                                                                     | 0/? [00:00…"
      ]
     },
     "metadata": {},
     "output_type": "display_data"
    }
   ],
   "source": [
    "preds = tft.predict(n=output_chunk_length,\n",
    "                   series=y_val_series,\n",
    "                   past_covariates = past_cov_val_series,\n",
    "                   future_covariates = future_cov_val_series)"
   ]
  },
  {
   "cell_type": "code",
   "execution_count": 91,
   "id": "86ca9321-6c42-4458-bc47-8b8ca6fd782c",
   "metadata": {},
   "outputs": [
    {
     "data": {
      "text/plain": [
       "<Axes: xlabel='date'>"
      ]
     },
     "execution_count": 91,
     "metadata": {},
     "output_type": "execute_result"
    },
    {
     "data": {
      "image/png": "[encoded data removed]",
      "text/plain": [
       "<Figure size 640x480 with 1 Axes>"
      ]
     },
     "metadata": {},
     "output_type": "display_data"
    }
   ],
   "source": [
    "preds.plot(label='prediction_pressure')\n",
    "y_test_series[:output_chunk_length].plot()"
   ]
  },
  {
   "cell_type": "code",
   "execution_count": 102,
   "id": "c74d4e92-bd93-44f6-a561-45cfb0cb6532",
   "metadata": {},
   "outputs": [
    {
     "name": "stderr",
     "output_type": "stream",
     "text": [
      "`start` value `0` corresponding to timestamp `2024-02-10 00:00:00` is before the first predictable/trainable historical forecasting point for series at index: 0. Ignoring `start` for this series and beginning at first trainable/predictable time: 2024-02-11 00:00:00. To hide these warnings, set `show_warnings=False`.\n",
      "`predict()` was called with `n > output_chunk_length`: using auto-regression to forecast the values after `output_chunk_length` points. The model will access `(n - output_chunk_length)` future values of your `past_covariates` (relative to the first predicted time step). To hide this warning, set `show_warnings=False`.\n",
      "GPU available: True (cuda), used: True\n",
      "TPU available: False, using: 0 TPU cores\n",
      "IPU available: False, using: 0 IPUs\n",
      "HPU available: False, using: 0 HPUs\n",
      "LOCAL_RANK: 0 - CUDA_VISIBLE_DEVICES: [0]\n"
     ]
    }
   ],
   "source": [
    "historical_fcast_tft = tft.historical_forecasts(\n",
    "        series=y_train_backtest_series,\n",
    "        past_covariates=past_cov_train_backtest_series,\n",
    "        future_covariates=future_cov_train_backtest_series,\n",
    "        start=0,\n",
    "        forecast_horizon=7,\n",
    "        verbose=False,\n",
    "        retrain=False\n",
    ")"
   ]
  },
  {
   "cell_type": "code",
   "execution_count": 103,
   "id": "d1ae116e-538b-4028-b741-a2d0de4921a0",
   "metadata": {},
   "outputs": [
    {
     "data": {
      "text/plain": [
       "(Timedelta('30 days 14:00:00'),\n",
       " Timestamp('2024-02-11 06:00:00'),\n",
       " Timestamp('2024-03-12 20:00:00'))"
      ]
     },
     "execution_count": 103,
     "metadata": {},
     "output_type": "execute_result"
    }
   ],
   "source": [
    "historical_fcast_tft.duration,historical_fcast_tft.start_time(), historical_fcast_tft.end_time() "
   ]
  },
  {
   "cell_type": "code",
   "execution_count": 104,
   "id": "bd0f790d-5f2f-4c05-b091-42b0edcc1f2e",
   "metadata": {},
   "outputs": [
    {
     "data": {
      "text/plain": [
       "(Timedelta('31 days 20:00:00'),\n",
       " Timestamp('2024-02-10 00:00:00'),\n",
       " Timestamp('2024-03-12 20:00:00'))"
      ]
     },
     "execution_count": 104,
     "metadata": {},
     "output_type": "execute_result"
    }
   ],
   "source": [
    "y_train_backtest_series.duration, y_train_backtest_series.start_time(), y_train_backtest_series.end_time()"
   ]
  },
  {
   "cell_type": "code",
   "execution_count": 96,
   "id": "885da592-8c6a-4018-9701-56510b07213f",
   "metadata": {},
   "outputs": [
    {
     "ename": "ValueError",
     "evalue": "setting an array element with a sequence. The requested array would exceed the maximum number of dimension of 32.",
     "output_type": "error",
     "traceback": [
      "\u001b[0;31m---------------------------------------------------------------------------\u001b[0m",
      "\u001b[0;31mValueError\u001b[0m                                Traceback (most recent call last)",
      "Cell \u001b[0;32mIn[96], line 3\u001b[0m\n\u001b[1;32m      1\u001b[0m y_train_backtest_series\u001b[38;5;241m.\u001b[39mplot(label\u001b[38;5;241m=\u001b[39m\u001b[38;5;124m\"\u001b[39m\u001b[38;5;124mdata\u001b[39m\u001b[38;5;124m\"\u001b[39m)\n\u001b[1;32m      2\u001b[0m historical_fcast_tft\u001b[38;5;241m.\u001b[39mplot(low_quantile\u001b[38;5;241m=\u001b[39m\u001b[38;5;241m0.01\u001b[39m, high_quantile\u001b[38;5;241m=\u001b[39m\u001b[38;5;241m0.99\u001b[39m,label\u001b[38;5;241m=\u001b[39m\u001b[38;5;124m\"\u001b[39m\u001b[38;5;124mbacktest ahead forecast (TFTModel)\u001b[39m\u001b[38;5;124m\"\u001b[39m)\n\u001b[0;32m----> 3\u001b[0m \u001b[38;5;28mprint\u001b[39m(\u001b[38;5;124m\"\u001b[39m\u001b[38;5;124mSMAPE = \u001b[39m\u001b[38;5;132;01m{:.2f}\u001b[39;00m\u001b[38;5;124m%\u001b[39m\u001b[38;5;124m\"\u001b[39m\u001b[38;5;241m.\u001b[39mformat(smape(\u001b[43mtarget_scaler\u001b[49m\u001b[38;5;241;43m.\u001b[39;49m\u001b[43minverse_transform\u001b[49m\u001b[43m(\u001b[49m\u001b[43mhistorical_fcast_tft\u001b[49m\u001b[43m)\u001b[49m,target_scaler\u001b[38;5;241m.\u001b[39minverse_transform(y_train_backtest_series))))\n\u001b[1;32m      4\u001b[0m \u001b[38;5;28mprint\u001b[39m(\u001b[38;5;124m\"\u001b[39m\u001b[38;5;124mMAE = \u001b[39m\u001b[38;5;132;01m{:.2f}\u001b[39;00m\u001b[38;5;124m\"\u001b[39m\u001b[38;5;241m.\u001b[39mformat(mae(historical_fcast_tft, y_train_backtest_series)))\n",
      "File \u001b[0;32m~/.pyenv/versions/3.10.6/envs/jawP_projectV2/lib/python3.10/site-packages/sklearn/preprocessing/_data.py:565\u001b[0m, in \u001b[0;36mMinMaxScaler.inverse_transform\u001b[0;34m(self, X)\u001b[0m\n\u001b[1;32m    561\u001b[0m check_is_fitted(\u001b[38;5;28mself\u001b[39m)\n\u001b[1;32m    563\u001b[0m xp, _ \u001b[38;5;241m=\u001b[39m get_namespace(X)\n\u001b[0;32m--> 565\u001b[0m X \u001b[38;5;241m=\u001b[39m \u001b[43mcheck_array\u001b[49m\u001b[43m(\u001b[49m\n\u001b[1;32m    566\u001b[0m \u001b[43m    \u001b[49m\u001b[43mX\u001b[49m\u001b[43m,\u001b[49m\n\u001b[1;32m    567\u001b[0m \u001b[43m    \u001b[49m\u001b[43mcopy\u001b[49m\u001b[38;5;241;43m=\u001b[39;49m\u001b[38;5;28;43mself\u001b[39;49m\u001b[38;5;241;43m.\u001b[39;49m\u001b[43mcopy\u001b[49m\u001b[43m,\u001b[49m\n\u001b[1;32m    568\u001b[0m \u001b[43m    \u001b[49m\u001b[43mdtype\u001b[49m\u001b[38;5;241;43m=\u001b[39;49m\u001b[43m_array_api\u001b[49m\u001b[38;5;241;43m.\u001b[39;49m\u001b[43msupported_float_dtypes\u001b[49m\u001b[43m(\u001b[49m\u001b[43mxp\u001b[49m\u001b[43m)\u001b[49m\u001b[43m,\u001b[49m\n\u001b[1;32m    569\u001b[0m \u001b[43m    \u001b[49m\u001b[43mforce_all_finite\u001b[49m\u001b[38;5;241;43m=\u001b[39;49m\u001b[38;5;124;43m\"\u001b[39;49m\u001b[38;5;124;43mallow-nan\u001b[39;49m\u001b[38;5;124;43m\"\u001b[39;49m\u001b[43m,\u001b[49m\n\u001b[1;32m    570\u001b[0m \u001b[43m\u001b[49m\u001b[43m)\u001b[49m\n\u001b[1;32m    572\u001b[0m X \u001b[38;5;241m-\u001b[39m\u001b[38;5;241m=\u001b[39m \u001b[38;5;28mself\u001b[39m\u001b[38;5;241m.\u001b[39mmin_\n\u001b[1;32m    573\u001b[0m X \u001b[38;5;241m/\u001b[39m\u001b[38;5;241m=\u001b[39m \u001b[38;5;28mself\u001b[39m\u001b[38;5;241m.\u001b[39mscale_\n",
      "File \u001b[0;32m~/.pyenv/versions/3.10.6/envs/jawP_projectV2/lib/python3.10/site-packages/sklearn/utils/validation.py:997\u001b[0m, in \u001b[0;36mcheck_array\u001b[0;34m(array, accept_sparse, accept_large_sparse, dtype, order, copy, force_all_finite, ensure_2d, allow_nd, ensure_min_samples, ensure_min_features, estimator, input_name)\u001b[0m\n\u001b[1;32m    995\u001b[0m         array \u001b[38;5;241m=\u001b[39m xp\u001b[38;5;241m.\u001b[39mastype(array, dtype, copy\u001b[38;5;241m=\u001b[39m\u001b[38;5;28;01mFalse\u001b[39;00m)\n\u001b[1;32m    996\u001b[0m     \u001b[38;5;28;01melse\u001b[39;00m:\n\u001b[0;32m--> 997\u001b[0m         array \u001b[38;5;241m=\u001b[39m \u001b[43m_asarray_with_order\u001b[49m\u001b[43m(\u001b[49m\u001b[43marray\u001b[49m\u001b[43m,\u001b[49m\u001b[43m \u001b[49m\u001b[43morder\u001b[49m\u001b[38;5;241;43m=\u001b[39;49m\u001b[43morder\u001b[49m\u001b[43m,\u001b[49m\u001b[43m \u001b[49m\u001b[43mdtype\u001b[49m\u001b[38;5;241;43m=\u001b[39;49m\u001b[43mdtype\u001b[49m\u001b[43m,\u001b[49m\u001b[43m \u001b[49m\u001b[43mxp\u001b[49m\u001b[38;5;241;43m=\u001b[39;49m\u001b[43mxp\u001b[49m\u001b[43m)\u001b[49m\n\u001b[1;32m    998\u001b[0m \u001b[38;5;28;01mexcept\u001b[39;00m ComplexWarning \u001b[38;5;28;01mas\u001b[39;00m complex_warning:\n\u001b[1;32m    999\u001b[0m     \u001b[38;5;28;01mraise\u001b[39;00m \u001b[38;5;167;01mValueError\u001b[39;00m(\n\u001b[1;32m   1000\u001b[0m         \u001b[38;5;124m\"\u001b[39m\u001b[38;5;124mComplex data not supported\u001b[39m\u001b[38;5;130;01m\\n\u001b[39;00m\u001b[38;5;132;01m{}\u001b[39;00m\u001b[38;5;130;01m\\n\u001b[39;00m\u001b[38;5;124m\"\u001b[39m\u001b[38;5;241m.\u001b[39mformat(array)\n\u001b[1;32m   1001\u001b[0m     ) \u001b[38;5;28;01mfrom\u001b[39;00m \u001b[38;5;21;01mcomplex_warning\u001b[39;00m\n",
      "File \u001b[0;32m~/.pyenv/versions/3.10.6/envs/jawP_projectV2/lib/python3.10/site-packages/sklearn/utils/_array_api.py:521\u001b[0m, in \u001b[0;36m_asarray_with_order\u001b[0;34m(array, dtype, order, copy, xp)\u001b[0m\n\u001b[1;32m    519\u001b[0m     array \u001b[38;5;241m=\u001b[39m numpy\u001b[38;5;241m.\u001b[39marray(array, order\u001b[38;5;241m=\u001b[39morder, dtype\u001b[38;5;241m=\u001b[39mdtype)\n\u001b[1;32m    520\u001b[0m \u001b[38;5;28;01melse\u001b[39;00m:\n\u001b[0;32m--> 521\u001b[0m     array \u001b[38;5;241m=\u001b[39m \u001b[43mnumpy\u001b[49m\u001b[38;5;241;43m.\u001b[39;49m\u001b[43masarray\u001b[49m\u001b[43m(\u001b[49m\u001b[43marray\u001b[49m\u001b[43m,\u001b[49m\u001b[43m \u001b[49m\u001b[43morder\u001b[49m\u001b[38;5;241;43m=\u001b[39;49m\u001b[43morder\u001b[49m\u001b[43m,\u001b[49m\u001b[43m \u001b[49m\u001b[43mdtype\u001b[49m\u001b[38;5;241;43m=\u001b[39;49m\u001b[43mdtype\u001b[49m\u001b[43m)\u001b[49m\n\u001b[1;32m    523\u001b[0m \u001b[38;5;66;03m# At this point array is a NumPy ndarray. We convert it to an array\u001b[39;00m\n\u001b[1;32m    524\u001b[0m \u001b[38;5;66;03m# container that is consistent with the input's namespace.\u001b[39;00m\n\u001b[1;32m    525\u001b[0m \u001b[38;5;28;01mreturn\u001b[39;00m xp\u001b[38;5;241m.\u001b[39masarray(array)\n",
      "\u001b[0;31mValueError\u001b[0m: setting an array element with a sequence. The requested array would exceed the maximum number of dimension of 32."
     ]
    },
    {
     "data": {
      "image/png": "[encoded data removed]",
      "text/plain": [
       "<Figure size 640x480 with 1 Axes>"
      ]
     },
     "metadata": {},
     "output_type": "display_data"
    }
   ],
   "source": [
    "y_train_backtest_series.plot(label=\"data\")\n",
    "historical_fcast_tft.plot(low_quantile=0.01, high_quantile=0.99,label=\"backtest ahead forecast (TFTModel)\")\n",
    "print(\"SMAPE = {:.2f}%\".format(smape(target_scaler.inverse_transform(historical_fcast_tft),target_scaler.inverse_transform(y_train_backtest_series))))\n",
    "print(\"MAE = {:.2f}\".format(mae(historical_fcast_tft, y_train_backtest_series)))"
   ]
  },
  {
   "cell_type": "code",
   "execution_count": 105,
   "id": "42648ab2-43c1-405e-bec2-3aed3bc965b0",
   "metadata": {},
   "outputs": [],
   "source": [
    "tft.save('tft_v1_1monthdata_3h')"
   ]
  },
  {
   "cell_type": "code",
   "execution_count": null,
   "id": "7dfe6b48-2612-44d7-b128-cd14ebfcbec4",
   "metadata": {},
   "outputs": [],
   "source": []
  }
 ],
 "metadata": {
  "kernelspec": {
   "display_name": "Python 3 (ipykernel)",
   "language": "python",
   "name": "python3"
  },
  "language_info": {
   "codemirror_mode": {
    "name": "ipython",
    "version": 3
   },
   "file_extension": ".py",
   "mimetype": "text/x-python",
   "name": "python",
   "nbconvert_exporter": "python",
   "pygments_lexer": "ipython3",
   "version": "3.10.6"
  }
 },
 "nbformat": 4,
 "nbformat_minor": 5
}
