{
 "cells": [
  {
   "cell_type": "code",
   "execution_count": null,
   "id": "13bed4a8-4230-4b0e-924c-3c3a1a841d0e",
   "metadata": {},
   "outputs": [],
   "source": [
    "#!pip install -q torch\n",
    "#!pip install -q darts\n",
    "#!pip install -q torchmetrics"
   ]
  },
  {
   "cell_type": "code",
   "execution_count": null,
   "id": "a956997f-6c80-4fca-9ced-538beba08bcf",
   "metadata": {},
   "outputs": [],
   "source": [
    "from torchmetrics.regression import SymmetricMeanAbsolutePercentageError\n",
    "import torch\n",
    "import numpy as np\n",
    "import pandas as pd\n",
    "from darts import TimeSeries"
   ]
  },
  {
   "cell_type": "code",
   "execution_count": null,
   "id": "ede1a916-2170-43a0-9ba0-223fae29c03f",
   "metadata": {},
   "outputs": [],
   "source": [
    "!pip install openmeteo-requests\n",
    "!pip install requests-cache retry-requests numpy pandas\n",
    "\n",
    "\n",
    "import openmeteo_requests\n",
    "\n",
    "import requests_cache\n",
    "\n",
    "from retry_requests import retry\n",
    "# Setup the Open-Meteo API client with cache and retry on error\n",
    "cache_session = requests_cache.CachedSession('.cache', expire_after = -1)\n",
    "retry_session = retry(cache_session, retries = 5, backoff_factor = 0.2)\n",
    "openmeteo = openmeteo_requests.Client(session = retry_session)"
   ]
  },
  {
   "cell_type": "code",
   "execution_count": null,
   "id": "2fed2f2d-0e62-426a-8e83-3636f58302ec",
   "metadata": {},
   "outputs": [],
   "source": [
    "\n",
    "def make_dataframe(openmeteo_response):\n",
    "\n",
    "    hourly = openmeteo_response.Hourly()\n",
    "    _start = pd.to_datetime(hourly.Time(), unit = \"s\", utc = True)\n",
    "    _end = pd.to_datetime(hourly.TimeEnd(), unit = \"s\", utc = True)\n",
    "    _delta = pd.Timedelta(seconds = hourly.Interval())\n",
    "\n",
    "    data = {\n",
    "        \"date\": pd.date_range(_start, _end, freq=_delta, inclusive=\"left\"),\n",
    "        \"temperature_2m\": hourly.Variables(0).ValuesAsNumpy(),\n",
    "        \"surface_pressure\": hourly.Variables(1).ValuesAsNumpy(),\n",
    "        \"wind_speed_10m\": hourly.Variables(2).ValuesAsNumpy(),\n",
    "        \"wind_direction_10m\": hourly.Variables(3).ValuesAsNumpy(),\n",
    "        \"wind_gusts_10m\": hourly.Variables(4).ValuesAsNumpy(),\n",
    "    }\n",
    "\n",
    "    return pd.DataFrame(data).set_index(\"date\")"
   ]
  },
  {
   "cell_type": "code",
   "execution_count": null,
   "id": "10c0f7fe-e328-464c-ab9a-abd6ee4798ea",
   "metadata": {},
   "outputs": [],
   "source": [
    "# Make sure all required weather variables are listed here\n",
    "# The order of variables in hourly or daily is important to assign them correctly below\n",
    "url = \"https://archive-api.open-meteo.com/v1/archive\"\n",
    "params = {\n",
    "\t\"latitude\": [47.36, 46, 47.26, 46.5],\n",
    "\t\"longitude\": [8.55, 8.95, 11.39, 11.35],\n",
    "\t\"start_date\": \"2024-02-10\",\n",
    "\t\"end_date\": \"2024-03-15\",\n",
    "\t\"hourly\": [\"temperature_2m\", \"surface_pressure\", \"wind_speed_10m\", \"wind_direction_10m\", \"wind_gusts_10m\"]\n",
    "}\n",
    "original_data = openmeteo.weather_api(url, params=params)\n",
    "data = dict(zip((\"Zurich\", \"Lugano\", \"Innsbruck\", \"Bolzano\"), original_data))\n",
    "data = pd.concat({key: make_dataframe(val) for key, val in data.items()})\n",
    "\n",
    "city_codes = {\"Zurich\": 1, \"Lugano\": 2, \"Innsbruck\": 3, \"Bolzano\": 4}\n",
    "data['city_code'] = data.index.get_level_values(0).map(city_codes)"
   ]
  },
  {
   "cell_type": "code",
   "execution_count": null,
   "id": "35070c45-5589-4731-99db-ae03110933d4",
   "metadata": {},
   "outputs": [],
   "source": [
    "original_data = dict(zip((\"Zurich\", \"Lugano\", \"Innsbruck\", \"Bolzano\"), original_data))\n",
    "original_data = pd.concat({key: make_dataframe(val) for key, val in original_data.items()})"
   ]
  },
  {
   "cell_type": "code",
   "execution_count": null,
   "id": "2e3d6884-823f-4d96-9009-64eb950f8efb",
   "metadata": {},
   "outputs": [],
   "source": [
    "original_data.loc[('Zurich')]"
   ]
  },
  {
   "cell_type": "code",
   "execution_count": null,
   "id": "3c7bddd1-beb1-4793-a52b-7ec9510ef564",
   "metadata": {},
   "outputs": [],
   "source": [
    "correct = pd.DataFrame()"
   ]
  },
  {
   "cell_type": "code",
   "execution_count": null,
   "id": "ffa81baf-2ee4-4a72-9eab-627ff41e9285",
   "metadata": {},
   "outputs": [],
   "source": [
    "correct.index = original_data.loc[('Zurich')].index"
   ]
  },
  {
   "cell_type": "code",
   "execution_count": null,
   "id": "fbb29046-15af-414c-839b-b733bbeff34e",
   "metadata": {},
   "outputs": [],
   "source": [
    "correct['temperature_2m_zh'] = original_data.loc[('Zurich')].temperature_2m\n",
    "correct['surface_pressure_zh'] = original_data.loc[('Zurich')].surface_pressure\n",
    "correct['wind_speed_10m_zh'] = original_data.loc[('Zurich')].wind_speed_10m\n",
    "correct['wind_direction_10m_zh'] = original_data.loc[('Zurich')].wind_direction_10m\n",
    "correct['wind_gusts_10m_zh'] = original_data.loc[('Zurich')].wind_gusts_10m\n",
    "\n",
    "correct['temperature_2m_lu'] = original_data.loc[('Lugano')].temperature_2m\n",
    "correct['surface_pressure_lu'] = original_data.loc[('Lugano')].surface_pressure\n",
    "correct['wind_speed_10m_lu'] = original_data.loc[('Lugano')].wind_speed_10m\n",
    "correct['wind_direction_10m_lu'] = original_data.loc[('Lugano')].wind_direction_10m\n",
    "correct['wind_gusts_10m_lu'] = original_data.loc[('Lugano')].wind_gusts_10m\n",
    "\n",
    "correct['temperature_2m_in'] = original_data.loc[('Innsbruck')].temperature_2m\n",
    "correct['surface_pressure_in'] = original_data.loc[('Innsbruck')].surface_pressure\n",
    "correct['wind_speed_10m_in'] = original_data.loc[('Innsbruck')].wind_speed_10m\n",
    "correct['wind_direction_10m_in'] = original_data.loc[('Innsbruck')].wind_direction_10m\n",
    "correct['wind_gusts_10m_in'] = original_data.loc[('Innsbruck')].wind_gusts_10m\n",
    "\n",
    "correct['temperature_2m_bo'] = original_data.loc[('Bolzano')].temperature_2m\n",
    "correct['surface_pressure_bo'] = original_data.loc[('Bolzano')].surface_pressure\n",
    "correct['wind_speed_10m_bo'] = original_data.loc[('Bolzano')].wind_speed_10m\n",
    "correct['wind_direction_10m_bo'] = original_data.loc[('Bolzano')].wind_direction_10m\n",
    "correct['wind_gusts_10m_bo'] = original_data.loc[('Bolzano')].wind_gusts_10m"
   ]
  },
  {
   "cell_type": "code",
   "execution_count": null,
   "id": "655ad0b1-dca0-404c-9b93-95b36fb5c2d4",
   "metadata": {},
   "outputs": [],
   "source": [
    "correct"
   ]
  },
  {
   "cell_type": "code",
   "execution_count": null,
   "id": "d80b138b-3265-495f-ad77-e0ea4d664d89",
   "metadata": {
    "scrolled": true
   },
   "outputs": [],
   "source": [
    "#Getting 'date' from the Multindex to be used in the future covariates\n",
    "\n",
    "correct['dayofyear'] = correct.index.get_level_values('date').dayofyear\n",
    "\n",
    "#sin and cos calculation\n",
    "\n",
    "correct['day_sin'] = np.sin(2 * np.pi * correct['dayofyear'] / 365.0)\n",
    "correct['day_cos'] = np.cos(2 * np.pi * correct['dayofyear'] / 365.0)"
   ]
  },
  {
   "cell_type": "code",
   "execution_count": null,
   "id": "97bde049-9875-42ca-8857-ae53aeb2f1ef",
   "metadata": {},
   "outputs": [],
   "source": [
    "originalindex = correct.index"
   ]
  },
  {
   "cell_type": "code",
   "execution_count": null,
   "id": "e58f3241-31d5-4676-bc4a-d8552f2f5172",
   "metadata": {},
   "outputs": [],
   "source": [
    "from darts.dataprocessing.transformers.scaler import Scaler\n",
    "from sklearn.preprocessing import MinMaxScaler\n",
    "scaler = MinMaxScaler()\n",
    "target_scaler = MinMaxScaler()\n",
    "target_scaler.fit(correct[['surface_pressure_zh']])\n",
    "scaled_data = pd.DataFrame(scaler.fit_transform(correct), columns=scaler.get_feature_names_out())\n",
    "scaled_data.index = originalindex"
   ]
  },
  {
   "cell_type": "code",
   "execution_count": null,
   "id": "15281369-8041-40db-98e2-c4ed52c2ac57",
   "metadata": {},
   "outputs": [],
   "source": [
    "scaled_data"
   ]
  },
  {
   "cell_type": "code",
   "execution_count": null,
   "id": "72d6e8e4-827f-46b1-91c8-4d361cc5d5c3",
   "metadata": {},
   "outputs": [],
   "source": [
    "target = scaled_data[['surface_pressure_zh']]\n",
    "past_cov = scaled_data.drop(columns=['dayofyear', 'day_sin', 'day_cos'])\n",
    "future_cov = scaled_data[['dayofyear', 'day_sin', 'day_cos']]"
   ]
  },
  {
   "cell_type": "code",
   "execution_count": null,
   "id": "8a29261d-5f70-428d-92e1-5427d93a4925",
   "metadata": {},
   "outputs": [],
   "source": [
    "from darts import TimeSeries\n",
    "from darts.models.forecasting.tft_model import TFTModel\n",
    "from darts.metrics import mse\n",
    "from darts.metrics import smape, mae\n",
    "from torchmetrics.regression import MeanAbsoluteError"
   ]
  },
  {
   "cell_type": "code",
   "execution_count": null,
   "id": "2ea11f19-8156-41c3-b994-8dd0eb8e71b5",
   "metadata": {},
   "outputs": [],
   "source": [
    "train_start = '2024-02-10 00:00:00+00:00'\n",
    "train_end = '2024-03-03 23:00:00+00:00' #70% = 21 days\n",
    "train_future_end ='2024-03-04 02:00:00+00:00'\n",
    "\n",
    "val_start = '2024-03-04 00:00:00+00:00'\n",
    "val_end = '2024-03-12 20:00:00+00:00'\n",
    "val_future_end = '2024-03-12 23:00:00+00:00'\n",
    "\n",
    "test_start = '2024-03-13 00:00:00+00:00'\n",
    "test_end = '2024-03-15 23:00:00+00:00'\n",
    "\n",
    "y_train = target.loc[train_start:train_end]\n",
    "past_cov_train = past_cov.loc[train_start:train_end]\n",
    "future_cov_train = future_cov.loc[train_start:train_future_end]\n",
    "\n",
    "y_val = target.loc[val_start:val_end]\n",
    "past_cov_val = past_cov.loc[val_start:val_end]\n",
    "future_cov_val = future_cov.loc[val_start:val_future_end]\n",
    "\n",
    "y_test = target.loc[test_start:test_end]\n",
    "\n",
    "y_train_backtest = target.loc[train_start:val_end]\n",
    "past_cov_train_backtest = past_cov.loc[train_start:val_end]\n",
    "future_cov_train_backtest = future_cov.loc[train_start:val_future_end]\n"
   ]
  },
  {
   "cell_type": "code",
   "execution_count": null,
   "id": "0e2a37ae-f835-48f9-8c60-d3cf7617d6a7",
   "metadata": {},
   "outputs": [],
   "source": [
    "y_train_series = TimeSeries.from_dataframe(y_train)\n",
    "past_cov_train_series = TimeSeries.from_dataframe(past_cov_train)\n",
    "future_cov_train_series = TimeSeries.from_dataframe(future_cov_train)\n",
    "\n",
    "y_val_series = TimeSeries.from_dataframe(y_val)\n",
    "past_cov_val_series = TimeSeries.from_dataframe(past_cov_val)\n",
    "future_cov_val_series = TimeSeries.from_dataframe(future_cov_val)\n",
    "\n",
    "y_test_series = TimeSeries.from_dataframe(y_test)\n",
    "\n",
    "y_train_backtest_series = TimeSeries.from_dataframe(y_train_backtest)\n",
    "past_cov_train_backtest_series = TimeSeries.from_dataframe(past_cov_train_backtest)\n",
    "future_cov_train_backtest_series = TimeSeries.from_dataframe(future_cov_train_backtest)"
   ]
  },
  {
   "cell_type": "code",
   "execution_count": null,
   "id": "c4331caa-006d-4040-b7d6-349f3bb0a5eb",
   "metadata": {},
   "outputs": [],
   "source": [
    "len(y_train_series)"
   ]
  },
  {
   "cell_type": "code",
   "execution_count": null,
   "id": "e2fd3057-c600-40f5-90bc-29b874a43358",
   "metadata": {},
   "outputs": [],
   "source": [
    "# TFTModel:\n",
    "input_chunk_length = 24\n",
    "output_chunk_length = 3"
   ]
  },
  {
   "cell_type": "code",
   "execution_count": null,
   "id": "d8c45030-5955-4252-abd3-334948dd2853",
   "metadata": {
    "scrolled": true
   },
   "outputs": [],
   "source": [
    "from pytorch_lightning.callbacks.early_stopping import EarlyStopping\n",
    "\n",
    "# stop training when validation loss does not decrease more than 0.05 (`min_delta`) over\n",
    "# a period of 5 epochs (`patience`)\n",
    "my_stopper = EarlyStopping(\n",
    "    monitor=\"val_loss\",\n",
    "    patience=100,\n",
    "    min_delta=0.0001,\n",
    "    mode='min',\n",
    ")\n",
    "\n",
    "# use GPU\n",
    "pl_trainer_kwargs={\"callbacks\": [my_stopper],\n",
    "                   \"accelerator\": \"gpu\",\n",
    "                   \"devices\": [0]}\n",
    "\n",
    "# use CPU\n",
    "#pl_trainer_kwargs={\"callbacks\": [my_stopper],\n",
    "                   #\"accelerator\": \"cpu\"}\n",
    "\n",
    "# Advanced tuning\n",
    "tft = TFTModel(input_chunk_length =input_chunk_length ,\n",
    "               output_chunk_length = output_chunk_length,\n",
    "               pl_trainer_kwargs = pl_trainer_kwargs,\n",
    "               lstm_layers=2,\n",
    "               num_attention_heads=8,\n",
    "               dropout=0.2,\n",
    "               batch_size=16,\n",
    "               hidden_size=64,\n",
    "               torch_metrics=MeanAbsoluteError(),\n",
    "               n_epochs=200,\n",
    "               # add_encoders=add_encoders\n",
    "               )\n",
    "\n",
    "tft.fit(series=y_train_series,\n",
    "        past_covariates = past_cov_train_series,\n",
    "        future_covariates = future_cov_train_series,\n",
    "        val_series=y_val_series,\n",
    "        val_past_covariates=past_cov_val_series,\n",
    "        val_future_covariates=future_cov_val_series)"
   ]
  },
  {
   "cell_type": "code",
   "execution_count": null,
   "id": "57b82113-1631-486a-846e-cf5d4d690ac2",
   "metadata": {
    "jp-MarkdownHeadingCollapsed": true
   },
   "outputs": [],
   "source": [
    "# Advanced tuning\n",
    "# tft = TFTModel(input_chunk_length =input_chunk_length ,\n",
    "#                output_chunk_length = output_chunk_length,\n",
    "#                pl_trainer_kwargs = pl_trainer_kwargs,\n",
    "#                lstm_layers=2,\n",
    "#                num_attention_heads=8,\n",
    "#                dropout=0.2,\n",
    "#                batch_size=16,\n",
    "#                hidden_size=64,\n",
    "#                torch_metrics=MeanAbsoluteError(),\n",
    "#                n_epochs=1000,\n",
    "#                # add_encoders=add_encoders\n",
    "#                )\n",
    "\n",
    "##tft = TFTModel(input_chunk_length =input_chunk_length ,\n",
    "#               output_chunk_length = output_chunk_length,\n",
    "#               pl_trainer_kwargs = pl_trainer_kwargs,\n",
    "#               torch_metrics=MeanAbsoluteError(),\n",
    "#               n_epochs=50\n",
    "#               )"
   ]
  },
  {
   "cell_type": "code",
   "execution_count": null,
   "id": "070e0579-c364-486a-936a-877cc3359177",
   "metadata": {},
   "outputs": [],
   "source": [
    "preds = tft.predict(n=output_chunk_length,\n",
    "                   series=y_val_series,\n",
    "                   past_covariates = past_cov_val_series,\n",
    "                   future_covariates = future_cov_val_series)"
   ]
  },
  {
   "cell_type": "code",
   "execution_count": null,
   "id": "86ca9321-6c42-4458-bc47-8b8ca6fd782c",
   "metadata": {},
   "outputs": [],
   "source": [
    "preds.plot(label='prediction_pressure')\n",
    "y_test_series[:output_chunk_length].plot()"
   ]
  },
  {
   "cell_type": "code",
   "execution_count": null,
   "id": "c74d4e92-bd93-44f6-a561-45cfb0cb6532",
   "metadata": {},
   "outputs": [],
   "source": [
    "historical_fcast_tft = tft.historical_forecasts(\n",
    "        series=y_train_backtest_series,\n",
    "        past_covariates=past_cov_train_backtest_series,\n",
    "        future_covariates=future_cov_train_backtest_series,\n",
    "        start=0,\n",
    "        forecast_horizon=7,\n",
    "        verbose=False,\n",
    "        retrain=False\n",
    ")"
   ]
  },
  {
   "cell_type": "code",
   "execution_count": null,
   "id": "d1ae116e-538b-4028-b741-a2d0de4921a0",
   "metadata": {},
   "outputs": [],
   "source": [
    "historical_fcast_tft.duration,historical_fcast_tft.start_time(), historical_fcast_tft.end_time()"
   ]
  },
  {
   "cell_type": "code",
   "execution_count": null,
   "id": "bd0f790d-5f2f-4c05-b091-42b0edcc1f2e",
   "metadata": {},
   "outputs": [],
   "source": [
    "y_train_backtest_series.duration, y_train_backtest_series.start_time(), y_train_backtest_series.end_time()"
   ]
  },
  {
   "cell_type": "code",
   "execution_count": null,
   "id": "885da592-8c6a-4018-9701-56510b07213f",
   "metadata": {},
   "outputs": [],
   "source": [
    "y_train_backtest_series.plot(label=\"data\")\n",
    "historical_fcast_tft.plot(low_quantile=0.01, high_quantile=0.99,label=\"backtest ahead forecast (TFTModel)\")\n",
    "print(\"SMAPE = {:.2f}%\".format(smape(target_scaler.inverse_transform(historical_fcast_tft),target_scaler.inverse_transform(y_train_backtest_series))))\n",
    "print(\"MAE = {:.2f}\".format(mae(historical_fcast_tft, y_train_backtest_series)))"
   ]
  },
  {
   "cell_type": "code",
   "execution_count": null,
   "id": "42648ab2-43c1-405e-bec2-3aed3bc965b0",
   "metadata": {},
   "outputs": [],
   "source": [
    "tft.save('tft_v1_1monthdata_3h')"
   ]
  },
  {
   "cell_type": "code",
   "execution_count": null,
   "id": "7dfe6b48-2612-44d7-b128-cd14ebfcbec4",
   "metadata": {},
   "outputs": [],
   "source": []
  }
 ],
 "metadata": {
  "kernelspec": {
   "display_name": "Python 3 (ipykernel)",
   "language": "python",
   "name": "python3"
  },
  "language_info": {
   "codemirror_mode": {
    "name": "ipython",
    "version": 3
   },
   "file_extension": ".py",
   "mimetype": "text/x-python",
   "name": "python",
   "nbconvert_exporter": "python",
   "pygments_lexer": "ipython3",
   "version": "3.10.6"
  }
 },
 "nbformat": 4,
 "nbformat_minor": 5
}
