{
 "cells": [
  {
   "cell_type": "code",
   "execution_count": 1,
   "id": "13bed4a8-4230-4b0e-924c-3c3a1a841d0e",
   "metadata": {},
   "outputs": [],
   "source": [
    "!pip install -q torch\n",
    "!pip install -q darts\n",
    "!pip install -q torchmetrics"
   ]
  },
  {
   "cell_type": "code",
   "execution_count": 41,
   "id": "a956997f-6c80-4fca-9ced-538beba08bcf",
   "metadata": {},
   "outputs": [],
   "source": [
    "from torchmetrics.regression import SymmetricMeanAbsolutePercentageError\n",
    "import torch\n",
    "import numpy as np\n",
    "import pandas as pd\n",
    "from darts import TimeSeries"
   ]
  },
  {
   "cell_type": "code",
   "execution_count": 42,
   "id": "ede1a916-2170-43a0-9ba0-223fae29c03f",
   "metadata": {},
   "outputs": [
    {
     "name": "stdout",
     "output_type": "stream",
     "text": [
      "Requirement already satisfied: openmeteo-requests in /home/elena/.pyenv/versions/3.10.6/envs/jawP_projectV2/lib/python3.10/site-packages (1.2.0)\n",
      "Requirement already satisfied: openmeteo-sdk>=1.4.0 in /home/elena/.pyenv/versions/3.10.6/envs/jawP_projectV2/lib/python3.10/site-packages (from openmeteo-requests) (1.11.3)\n",
      "Requirement already satisfied: requests in /home/elena/.pyenv/versions/3.10.6/envs/jawP_projectV2/lib/python3.10/site-packages (from openmeteo-requests) (2.31.0)\n",
      "Requirement already satisfied: flatbuffers>=24.0.0 in /home/elena/.pyenv/versions/3.10.6/envs/jawP_projectV2/lib/python3.10/site-packages (from openmeteo-sdk>=1.4.0->openmeteo-requests) (24.3.7)\n",
      "Requirement already satisfied: charset-normalizer<4,>=2 in /home/elena/.pyenv/versions/3.10.6/envs/jawP_projectV2/lib/python3.10/site-packages (from requests->openmeteo-requests) (3.3.2)\n",
      "Requirement already satisfied: idna<4,>=2.5 in /home/elena/.pyenv/versions/3.10.6/envs/jawP_projectV2/lib/python3.10/site-packages (from requests->openmeteo-requests) (3.6)\n",
      "Requirement already satisfied: urllib3<3,>=1.21.1 in /home/elena/.pyenv/versions/3.10.6/envs/jawP_projectV2/lib/python3.10/site-packages (from requests->openmeteo-requests) (2.2.1)\n",
      "Requirement already satisfied: certifi>=2017.4.17 in /home/elena/.pyenv/versions/3.10.6/envs/jawP_projectV2/lib/python3.10/site-packages (from requests->openmeteo-requests) (2024.2.2)\n",
      "Requirement already satisfied: requests-cache in /home/elena/.pyenv/versions/3.10.6/envs/jawP_projectV2/lib/python3.10/site-packages (1.2.0)\n",
      "Requirement already satisfied: retry-requests in /home/elena/.pyenv/versions/3.10.6/envs/jawP_projectV2/lib/python3.10/site-packages (2.0.0)\n",
      "Requirement already satisfied: numpy in /home/elena/.pyenv/versions/3.10.6/envs/jawP_projectV2/lib/python3.10/site-packages (1.26.4)\n",
      "Requirement already satisfied: pandas in /home/elena/.pyenv/versions/3.10.6/envs/jawP_projectV2/lib/python3.10/site-packages (2.2.1)\n",
      "Requirement already satisfied: attrs>=21.2 in /home/elena/.pyenv/versions/3.10.6/envs/jawP_projectV2/lib/python3.10/site-packages (from requests-cache) (23.2.0)\n",
      "Requirement already satisfied: cattrs>=22.2 in /home/elena/.pyenv/versions/3.10.6/envs/jawP_projectV2/lib/python3.10/site-packages (from requests-cache) (23.2.3)\n",
      "Requirement already satisfied: platformdirs>=2.5 in /home/elena/.pyenv/versions/3.10.6/envs/jawP_projectV2/lib/python3.10/site-packages (from requests-cache) (4.2.0)\n",
      "Requirement already satisfied: requests>=2.22 in /home/elena/.pyenv/versions/3.10.6/envs/jawP_projectV2/lib/python3.10/site-packages (from requests-cache) (2.31.0)\n",
      "Requirement already satisfied: url-normalize>=1.4 in /home/elena/.pyenv/versions/3.10.6/envs/jawP_projectV2/lib/python3.10/site-packages (from requests-cache) (1.4.3)\n",
      "Requirement already satisfied: urllib3>=1.25.5 in /home/elena/.pyenv/versions/3.10.6/envs/jawP_projectV2/lib/python3.10/site-packages (from requests-cache) (2.2.1)\n",
      "Requirement already satisfied: python-dateutil>=2.8.2 in /home/elena/.pyenv/versions/3.10.6/envs/jawP_projectV2/lib/python3.10/site-packages (from pandas) (2.9.0.post0)\n",
      "Requirement already satisfied: pytz>=2020.1 in /home/elena/.pyenv/versions/3.10.6/envs/jawP_projectV2/lib/python3.10/site-packages (from pandas) (2024.1)\n",
      "Requirement already satisfied: tzdata>=2022.7 in /home/elena/.pyenv/versions/3.10.6/envs/jawP_projectV2/lib/python3.10/site-packages (from pandas) (2024.1)\n",
      "Requirement already satisfied: exceptiongroup>=1.1.1 in /home/elena/.pyenv/versions/3.10.6/envs/jawP_projectV2/lib/python3.10/site-packages (from cattrs>=22.2->requests-cache) (1.2.0)\n",
      "Requirement already satisfied: typing-extensions!=4.6.3,>=4.1.0 in /home/elena/.pyenv/versions/3.10.6/envs/jawP_projectV2/lib/python3.10/site-packages (from cattrs>=22.2->requests-cache) (4.10.0)\n",
      "Requirement already satisfied: six>=1.5 in /home/elena/.pyenv/versions/3.10.6/envs/jawP_projectV2/lib/python3.10/site-packages (from python-dateutil>=2.8.2->pandas) (1.16.0)\n",
      "Requirement already satisfied: charset-normalizer<4,>=2 in /home/elena/.pyenv/versions/3.10.6/envs/jawP_projectV2/lib/python3.10/site-packages (from requests>=2.22->requests-cache) (3.3.2)\n",
      "Requirement already satisfied: idna<4,>=2.5 in /home/elena/.pyenv/versions/3.10.6/envs/jawP_projectV2/lib/python3.10/site-packages (from requests>=2.22->requests-cache) (3.6)\n",
      "Requirement already satisfied: certifi>=2017.4.17 in /home/elena/.pyenv/versions/3.10.6/envs/jawP_projectV2/lib/python3.10/site-packages (from requests>=2.22->requests-cache) (2024.2.2)\n"
     ]
    }
   ],
   "source": [
    "!pip install openmeteo-requests\n",
    "!pip install requests-cache retry-requests numpy pandas\n",
    "\n",
    "\n",
    "import openmeteo_requests\n",
    "\n",
    "import requests_cache\n",
    "\n",
    "from retry_requests import retry\n",
    "# Setup the Open-Meteo API client with cache and retry on error\n",
    "cache_session = requests_cache.CachedSession('.cache', expire_after = -1)\n",
    "retry_session = retry(cache_session, retries = 5, backoff_factor = 0.2)\n",
    "openmeteo = openmeteo_requests.Client(session = retry_session)"
   ]
  },
  {
   "cell_type": "code",
   "execution_count": 43,
   "id": "2fed2f2d-0e62-426a-8e83-3636f58302ec",
   "metadata": {},
   "outputs": [],
   "source": [
    "\n",
    "def make_dataframe(openmeteo_response):\n",
    "\n",
    "    hourly = openmeteo_response.Hourly()\n",
    "    _start = pd.to_datetime(hourly.Time(), unit = \"s\", utc = True)\n",
    "    _end = pd.to_datetime(hourly.TimeEnd(), unit = \"s\", utc = True)\n",
    "    _delta = pd.Timedelta(seconds = hourly.Interval())\n",
    "\n",
    "    data = {\n",
    "        \"date\": pd.date_range(_start, _end, freq=_delta, inclusive=\"left\"),\n",
    "        \"temperature_2m\": hourly.Variables(0).ValuesAsNumpy(),\n",
    "        \"surface_pressure\": hourly.Variables(1).ValuesAsNumpy(),\n",
    "        \"wind_speed_10m\": hourly.Variables(2).ValuesAsNumpy(),\n",
    "        \"wind_direction_10m\": hourly.Variables(3).ValuesAsNumpy(),\n",
    "        \"wind_gusts_10m\": hourly.Variables(4).ValuesAsNumpy(),\n",
    "    }\n",
    "\n",
    "    return pd.DataFrame(data).set_index(\"date\")"
   ]
  },
  {
   "cell_type": "code",
   "execution_count": 44,
   "id": "10c0f7fe-e328-464c-ab9a-abd6ee4798ea",
   "metadata": {},
   "outputs": [],
   "source": [
    "# Make sure all required weather variables are listed here\n",
    "# The order of variables in hourly or daily is important to assign them correctly below\n",
    "url = \"https://archive-api.open-meteo.com/v1/archive\"\n",
    "params = {\n",
    "\t\"latitude\": [47.36, 46, 47.26, 46.5],\n",
    "\t\"longitude\": [8.55, 8.95, 11.39, 11.35],\n",
    "\t\"start_date\": \"2024-01-01\",\n",
    "\t\"end_date\": \"2024-03-15\",\n",
    "\t\"hourly\": [\"temperature_2m\", \"surface_pressure\", \"wind_speed_10m\", \"wind_direction_10m\", \"wind_gusts_10m\"]\n",
    "}\n",
    "original_data = openmeteo.weather_api(url, params=params)\n",
    "data = dict(zip((\"Zurich\", \"Lugano\", \"Innsbruck\", \"Bolzano\"), original_data))\n",
    "data = pd.concat({key: make_dataframe(val) for key, val in data.items()})\n",
    "\n",
    "city_codes = {\"Zurich\": 1, \"Lugano\": 2, \"Innsbruck\": 3, \"Bolzano\": 4}\n",
    "data['city_code'] = data.index.get_level_values(0).map(city_codes)"
   ]
  },
  {
   "cell_type": "code",
   "execution_count": 45,
   "id": "35070c45-5589-4731-99db-ae03110933d4",
   "metadata": {},
   "outputs": [],
   "source": [
    "original_data = dict(zip((\"Zurich\", \"Lugano\", \"Innsbruck\", \"Bolzano\"), original_data))\n",
    "original_data = pd.concat({key: make_dataframe(val) for key, val in original_data.items()})"
   ]
  },
  {
   "cell_type": "code",
   "execution_count": 46,
   "id": "2e3d6884-823f-4d96-9009-64eb950f8efb",
   "metadata": {},
   "outputs": [
    {
     "data": {
      "text/html": [
       "<div>\n",
       "<style scoped>\n",
       "    .dataframe tbody tr th:only-of-type {\n",
       "        vertical-align: middle;\n",
       "    }\n",
       "\n",
       "    .dataframe tbody tr th {\n",
       "        vertical-align: top;\n",
       "    }\n",
       "\n",
       "    .dataframe thead th {\n",
       "        text-align: right;\n",
       "    }\n",
       "</style>\n",
       "<table border=\"1\" class=\"dataframe\">\n",
       "  <thead>\n",
       "    <tr style=\"text-align: right;\">\n",
       "      <th></th>\n",
       "      <th>temperature_2m</th>\n",
       "      <th>surface_pressure</th>\n",
       "      <th>wind_speed_10m</th>\n",
       "      <th>wind_direction_10m</th>\n",
       "      <th>wind_gusts_10m</th>\n",
       "    </tr>\n",
       "    <tr>\n",
       "      <th>date</th>\n",
       "      <th></th>\n",
       "      <th></th>\n",
       "      <th></th>\n",
       "      <th></th>\n",
       "      <th></th>\n",
       "    </tr>\n",
       "  </thead>\n",
       "  <tbody>\n",
       "    <tr>\n",
       "      <th>2023-01-01 00:00:00+00:00</th>\n",
       "      <td>8.140000</td>\n",
       "      <td>973.382080</td>\n",
       "      <td>10.308830</td>\n",
       "      <td>245.224884</td>\n",
       "      <td>16.559999</td>\n",
       "    </tr>\n",
       "    <tr>\n",
       "      <th>2023-01-01 01:00:00+00:00</th>\n",
       "      <td>8.990001</td>\n",
       "      <td>973.148743</td>\n",
       "      <td>6.130579</td>\n",
       "      <td>183.366394</td>\n",
       "      <td>19.799999</td>\n",
       "    </tr>\n",
       "    <tr>\n",
       "      <th>2023-01-01 02:00:00+00:00</th>\n",
       "      <td>7.890000</td>\n",
       "      <td>972.958252</td>\n",
       "      <td>8.121970</td>\n",
       "      <td>192.804260</td>\n",
       "      <td>17.280001</td>\n",
       "    </tr>\n",
       "    <tr>\n",
       "      <th>2023-01-01 03:00:00+00:00</th>\n",
       "      <td>8.790000</td>\n",
       "      <td>972.829041</td>\n",
       "      <td>7.993298</td>\n",
       "      <td>172.234924</td>\n",
       "      <td>18.000000</td>\n",
       "    </tr>\n",
       "    <tr>\n",
       "      <th>2023-01-01 04:00:00+00:00</th>\n",
       "      <td>8.440001</td>\n",
       "      <td>973.243835</td>\n",
       "      <td>7.594207</td>\n",
       "      <td>185.440247</td>\n",
       "      <td>19.080000</td>\n",
       "    </tr>\n",
       "    <tr>\n",
       "      <th>...</th>\n",
       "      <td>...</td>\n",
       "      <td>...</td>\n",
       "      <td>...</td>\n",
       "      <td>...</td>\n",
       "      <td>...</td>\n",
       "    </tr>\n",
       "    <tr>\n",
       "      <th>2024-03-15 19:00:00+00:00</th>\n",
       "      <td>7.590000</td>\n",
       "      <td>967.487000</td>\n",
       "      <td>7.127636</td>\n",
       "      <td>224.999893</td>\n",
       "      <td>15.119999</td>\n",
       "    </tr>\n",
       "    <tr>\n",
       "      <th>2024-03-15 20:00:00+00:00</th>\n",
       "      <td>9.490001</td>\n",
       "      <td>968.099182</td>\n",
       "      <td>5.351785</td>\n",
       "      <td>227.726379</td>\n",
       "      <td>23.039999</td>\n",
       "    </tr>\n",
       "    <tr>\n",
       "      <th>2024-03-15 21:00:00+00:00</th>\n",
       "      <td>8.540000</td>\n",
       "      <td>967.936279</td>\n",
       "      <td>7.280550</td>\n",
       "      <td>188.530685</td>\n",
       "      <td>18.359999</td>\n",
       "    </tr>\n",
       "    <tr>\n",
       "      <th>2024-03-15 22:00:00+00:00</th>\n",
       "      <td>9.440001</td>\n",
       "      <td>968.851440</td>\n",
       "      <td>12.599998</td>\n",
       "      <td>216.869980</td>\n",
       "      <td>24.840000</td>\n",
       "    </tr>\n",
       "    <tr>\n",
       "      <th>2024-03-15 23:00:00+00:00</th>\n",
       "      <td>8.990001</td>\n",
       "      <td>968.964417</td>\n",
       "      <td>9.686609</td>\n",
       "      <td>228.012863</td>\n",
       "      <td>30.239998</td>\n",
       "    </tr>\n",
       "  </tbody>\n",
       "</table>\n",
       "<p>10560 rows × 5 columns</p>\n",
       "</div>"
      ],
      "text/plain": [
       "                           temperature_2m  surface_pressure  wind_speed_10m  \\\n",
       "date                                                                          \n",
       "2023-01-01 00:00:00+00:00        8.140000        973.382080       10.308830   \n",
       "2023-01-01 01:00:00+00:00        8.990001        973.148743        6.130579   \n",
       "2023-01-01 02:00:00+00:00        7.890000        972.958252        8.121970   \n",
       "2023-01-01 03:00:00+00:00        8.790000        972.829041        7.993298   \n",
       "2023-01-01 04:00:00+00:00        8.440001        973.243835        7.594207   \n",
       "...                                   ...               ...             ...   \n",
       "2024-03-15 19:00:00+00:00        7.590000        967.487000        7.127636   \n",
       "2024-03-15 20:00:00+00:00        9.490001        968.099182        5.351785   \n",
       "2024-03-15 21:00:00+00:00        8.540000        967.936279        7.280550   \n",
       "2024-03-15 22:00:00+00:00        9.440001        968.851440       12.599998   \n",
       "2024-03-15 23:00:00+00:00        8.990001        968.964417        9.686609   \n",
       "\n",
       "                           wind_direction_10m  wind_gusts_10m  \n",
       "date                                                           \n",
       "2023-01-01 00:00:00+00:00          245.224884       16.559999  \n",
       "2023-01-01 01:00:00+00:00          183.366394       19.799999  \n",
       "2023-01-01 02:00:00+00:00          192.804260       17.280001  \n",
       "2023-01-01 03:00:00+00:00          172.234924       18.000000  \n",
       "2023-01-01 04:00:00+00:00          185.440247       19.080000  \n",
       "...                                       ...             ...  \n",
       "2024-03-15 19:00:00+00:00          224.999893       15.119999  \n",
       "2024-03-15 20:00:00+00:00          227.726379       23.039999  \n",
       "2024-03-15 21:00:00+00:00          188.530685       18.359999  \n",
       "2024-03-15 22:00:00+00:00          216.869980       24.840000  \n",
       "2024-03-15 23:00:00+00:00          228.012863       30.239998  \n",
       "\n",
       "[10560 rows x 5 columns]"
      ]
     },
     "execution_count": 46,
     "metadata": {},
     "output_type": "execute_result"
    }
   ],
   "source": [
    "original_data.loc[('Zurich')]"
   ]
  },
  {
   "cell_type": "code",
   "execution_count": 47,
   "id": "3c7bddd1-beb1-4793-a52b-7ec9510ef564",
   "metadata": {},
   "outputs": [],
   "source": [
    "correct = pd.DataFrame()"
   ]
  },
  {
   "cell_type": "code",
   "execution_count": 48,
   "id": "ffa81baf-2ee4-4a72-9eab-627ff41e9285",
   "metadata": {},
   "outputs": [],
   "source": [
    "correct.index = original_data.loc[('Zurich')].index"
   ]
  },
  {
   "cell_type": "code",
   "execution_count": 49,
   "id": "fbb29046-15af-414c-839b-b733bbeff34e",
   "metadata": {},
   "outputs": [],
   "source": [
    "correct['temperature_2m_zh'] = original_data.loc[('Zurich')].temperature_2m\n",
    "correct['surface_pressure_zh'] = original_data.loc[('Zurich')].surface_pressure\n",
    "correct['wind_speed_10m_zh'] = original_data.loc[('Zurich')].wind_speed_10m\n",
    "correct['wind_direction_10m_zh'] = original_data.loc[('Zurich')].wind_direction_10m\n",
    "correct['wind_gusts_10m_zh'] = original_data.loc[('Zurich')].wind_gusts_10m\n",
    "\n",
    "correct['temperature_2m_lu'] = original_data.loc[('Lugano')].temperature_2m\n",
    "correct['surface_pressure_lu'] = original_data.loc[('Lugano')].surface_pressure\n",
    "correct['wind_speed_10m_lu'] = original_data.loc[('Lugano')].wind_speed_10m\n",
    "correct['wind_direction_10m_lu'] = original_data.loc[('Lugano')].wind_direction_10m\n",
    "correct['wind_gusts_10m_lu'] = original_data.loc[('Lugano')].wind_gusts_10m\n",
    "\n",
    "correct['temperature_2m_in'] = original_data.loc[('Innsbruck')].temperature_2m\n",
    "correct['surface_pressure_in'] = original_data.loc[('Innsbruck')].surface_pressure\n",
    "correct['wind_speed_10m_in'] = original_data.loc[('Innsbruck')].wind_speed_10m\n",
    "correct['wind_direction_10m_in'] = original_data.loc[('Innsbruck')].wind_direction_10m\n",
    "correct['wind_gusts_10m_in'] = original_data.loc[('Innsbruck')].wind_gusts_10m\n",
    "\n",
    "correct['temperature_2m_bo'] = original_data.loc[('Bolzano')].temperature_2m\n",
    "correct['surface_pressure_bo'] = original_data.loc[('Bolzano')].surface_pressure\n",
    "correct['wind_speed_10m_bo'] = original_data.loc[('Bolzano')].wind_speed_10m\n",
    "correct['wind_direction_10m_bo'] = original_data.loc[('Bolzano')].wind_direction_10m\n",
    "correct['wind_gusts_10m_bo'] = original_data.loc[('Bolzano')].wind_gusts_10m"
   ]
  },
  {
   "cell_type": "code",
   "execution_count": 50,
   "id": "d80b138b-3265-495f-ad77-e0ea4d664d89",
   "metadata": {
    "scrolled": true
   },
   "outputs": [],
   "source": [
    "#Getting 'date' from the Multindex to be used in the future covariates\n",
    "\n",
    "correct['dayofyear'] = correct.index.get_level_values('date').dayofyear\n",
    "\n",
    "#sin and cos calculation \n",
    "\n",
    "correct['day_sin'] = np.sin(2 * np.pi * correct['dayofyear'] / 365.0)\n",
    "correct['day_cos'] = np.cos(2 * np.pi * correct['dayofyear'] / 365.0)"
   ]
  },
  {
   "cell_type": "code",
   "execution_count": 51,
   "id": "97bde049-9875-42ca-8857-ae53aeb2f1ef",
   "metadata": {},
   "outputs": [],
   "source": [
    "originalindex = correct.index"
   ]
  },
  {
   "cell_type": "code",
   "execution_count": 52,
   "id": "eafa2d6e-88ea-4d39-900f-cca8be55a15b",
   "metadata": {},
   "outputs": [
    {
     "data": {
      "text/plain": [
       "Index(['temperature_2m_zh', 'surface_pressure_zh', 'wind_speed_10m_zh',\n",
       "       'wind_direction_10m_zh', 'wind_gusts_10m_zh', 'temperature_2m_lu',\n",
       "       'surface_pressure_lu', 'wind_speed_10m_lu', 'wind_direction_10m_lu',\n",
       "       'wind_gusts_10m_lu', 'temperature_2m_in', 'surface_pressure_in',\n",
       "       'wind_speed_10m_in', 'wind_direction_10m_in', 'wind_gusts_10m_in',\n",
       "       'temperature_2m_bo', 'surface_pressure_bo', 'wind_speed_10m_bo',\n",
       "       'wind_direction_10m_bo', 'wind_gusts_10m_bo', 'dayofyear', 'day_sin',\n",
       "       'day_cos'],\n",
       "      dtype='object')"
      ]
     },
     "execution_count": 52,
     "metadata": {},
     "output_type": "execute_result"
    }
   ],
   "source": [
    "correct.columns"
   ]
  },
  {
   "cell_type": "code",
   "execution_count": 53,
   "id": "e58f3241-31d5-4676-bc4a-d8552f2f5172",
   "metadata": {},
   "outputs": [],
   "source": [
    "from darts.dataprocessing.transformers.scaler import Scaler\n",
    "from sklearn.preprocessing import MinMaxScaler\n",
    "scaler = MinMaxScaler()\n",
    "target_scaler = MinMaxScaler()\n",
    "target_scaler.fit(correct[['surface_pressure_zh']])\n",
    "scaled_data = pd.DataFrame(scaler.fit_transform(correct), columns=scaler.get_feature_names_out())\n",
    "scaled_data.index = originalindex"
   ]
  },
  {
   "cell_type": "code",
   "execution_count": 54,
   "id": "72d6e8e4-827f-46b1-91c8-4d361cc5d5c3",
   "metadata": {},
   "outputs": [],
   "source": [
    "target = scaled_data[['surface_pressure_zh']]\n",
    "past_cov = scaled_data.drop(columns=['dayofyear', 'day_sin', 'day_cos'])\n",
    "future_cov = scaled_data[['dayofyear', 'day_sin', 'day_cos']]"
   ]
  },
  {
   "cell_type": "code",
   "execution_count": 55,
   "id": "8a29261d-5f70-428d-92e1-5427d93a4925",
   "metadata": {},
   "outputs": [],
   "source": [
    "from darts import TimeSeries\n",
    "from darts.models.forecasting.tft_model import TFTModel\n",
    "from darts.metrics import mse\n",
    "from darts.metrics import smape, mae\n",
    "from torchmetrics.regression import MeanAbsoluteError"
   ]
  },
  {
   "cell_type": "code",
   "execution_count": 56,
   "id": "2ea11f19-8156-41c3-b994-8dd0eb8e71b5",
   "metadata": {},
   "outputs": [],
   "source": [
    "train_start = '2023-01-01 00:00:00+00:00'\n",
    "train_end = '2023-10-30 23:00:00+00:00' #70% = 21 days\n",
    "train_future_end ='2023-10-31 02:00:00+00:00'\n",
    "\n",
    "val_start = '2023-10-31 00:00:00+00:00'\n",
    "val_end = '2024-02-15 20:00:00+00:00' \n",
    "val_future_end = '2024-02-15 23:00:00+00:00'\n",
    "\n",
    "test_start = '2024-02-16 00:00:00+00:00'\n",
    "test_end = '2024-03-15 23:00:00+00:00'\n",
    "\n",
    "y_train = target.loc[train_start:train_end]\n",
    "past_cov_train = past_cov.loc[train_start:train_end]\n",
    "future_cov_train = future_cov.loc[train_start:train_future_end]\n",
    "\n",
    "y_val = target.loc[val_start:val_end]\n",
    "past_cov_val = past_cov.loc[val_start:val_end]\n",
    "future_cov_val = future_cov.loc[val_start:val_future_end]\n",
    "\n",
    "y_test = target.loc[test_start:test_end]\n",
    "\n",
    "y_train_backtest = target.loc[train_start:val_end]\n",
    "past_cov_train_backtest = past_cov.loc[train_start:val_end]\n",
    "future_cov_train_backtest = future_cov.loc[train_start:val_future_end]\n"
   ]
  },
  {
   "cell_type": "code",
   "execution_count": null,
   "id": "596127f9-5fef-47f9-9d9c-d3325a626fbc",
   "metadata": {},
   "outputs": [],
   "source": []
  },
  {
   "cell_type": "code",
   "execution_count": 57,
   "id": "0e2a37ae-f835-48f9-8c60-d3cf7617d6a7",
   "metadata": {},
   "outputs": [
    {
     "name": "stderr",
     "output_type": "stream",
     "text": [
      "The provided DatetimeIndex was associated with a timezone, which is currently not supported by xarray. To avoid unexpected behaviour, the tz information was removed. Consider calling `ts.time_index.tz_localize(UTC)` when exporting the results.To plot the series with the right time steps, consider setting the matplotlib.pyplot `rcParams['timezone']` parameter to automatically convert the time axis back to the original timezone.\n",
      "The provided DatetimeIndex was associated with a timezone, which is currently not supported by xarray. To avoid unexpected behaviour, the tz information was removed. Consider calling `ts.time_index.tz_localize(UTC)` when exporting the results.To plot the series with the right time steps, consider setting the matplotlib.pyplot `rcParams['timezone']` parameter to automatically convert the time axis back to the original timezone.\n",
      "The provided DatetimeIndex was associated with a timezone, which is currently not supported by xarray. To avoid unexpected behaviour, the tz information was removed. Consider calling `ts.time_index.tz_localize(UTC)` when exporting the results.To plot the series with the right time steps, consider setting the matplotlib.pyplot `rcParams['timezone']` parameter to automatically convert the time axis back to the original timezone.\n",
      "The provided DatetimeIndex was associated with a timezone, which is currently not supported by xarray. To avoid unexpected behaviour, the tz information was removed. Consider calling `ts.time_index.tz_localize(UTC)` when exporting the results.To plot the series with the right time steps, consider setting the matplotlib.pyplot `rcParams['timezone']` parameter to automatically convert the time axis back to the original timezone.\n",
      "The provided DatetimeIndex was associated with a timezone, which is currently not supported by xarray. To avoid unexpected behaviour, the tz information was removed. Consider calling `ts.time_index.tz_localize(UTC)` when exporting the results.To plot the series with the right time steps, consider setting the matplotlib.pyplot `rcParams['timezone']` parameter to automatically convert the time axis back to the original timezone.\n",
      "The provided DatetimeIndex was associated with a timezone, which is currently not supported by xarray. To avoid unexpected behaviour, the tz information was removed. Consider calling `ts.time_index.tz_localize(UTC)` when exporting the results.To plot the series with the right time steps, consider setting the matplotlib.pyplot `rcParams['timezone']` parameter to automatically convert the time axis back to the original timezone.\n",
      "The provided DatetimeIndex was associated with a timezone, which is currently not supported by xarray. To avoid unexpected behaviour, the tz information was removed. Consider calling `ts.time_index.tz_localize(UTC)` when exporting the results.To plot the series with the right time steps, consider setting the matplotlib.pyplot `rcParams['timezone']` parameter to automatically convert the time axis back to the original timezone.\n",
      "The provided DatetimeIndex was associated with a timezone, which is currently not supported by xarray. To avoid unexpected behaviour, the tz information was removed. Consider calling `ts.time_index.tz_localize(UTC)` when exporting the results.To plot the series with the right time steps, consider setting the matplotlib.pyplot `rcParams['timezone']` parameter to automatically convert the time axis back to the original timezone.\n",
      "The provided DatetimeIndex was associated with a timezone, which is currently not supported by xarray. To avoid unexpected behaviour, the tz information was removed. Consider calling `ts.time_index.tz_localize(UTC)` when exporting the results.To plot the series with the right time steps, consider setting the matplotlib.pyplot `rcParams['timezone']` parameter to automatically convert the time axis back to the original timezone.\n",
      "The provided DatetimeIndex was associated with a timezone, which is currently not supported by xarray. To avoid unexpected behaviour, the tz information was removed. Consider calling `ts.time_index.tz_localize(UTC)` when exporting the results.To plot the series with the right time steps, consider setting the matplotlib.pyplot `rcParams['timezone']` parameter to automatically convert the time axis back to the original timezone.\n"
     ]
    }
   ],
   "source": [
    "y_train_series = TimeSeries.from_dataframe(y_train)\n",
    "past_cov_train_series = TimeSeries.from_dataframe(past_cov_train)\n",
    "future_cov_train_series = TimeSeries.from_dataframe(future_cov_train)\n",
    "\n",
    "y_val_series = TimeSeries.from_dataframe(y_val)\n",
    "past_cov_val_series = TimeSeries.from_dataframe(past_cov_val)\n",
    "future_cov_val_series = TimeSeries.from_dataframe(future_cov_val)\n",
    "\n",
    "y_test_series = TimeSeries.from_dataframe(y_test)\n",
    "\n",
    "y_train_backtest_series = TimeSeries.from_dataframe(y_train_backtest)\n",
    "past_cov_train_backtest_series = TimeSeries.from_dataframe(past_cov_train_backtest)\n",
    "future_cov_train_backtest_series = TimeSeries.from_dataframe(future_cov_train_backtest)"
   ]
  },
  {
   "cell_type": "code",
   "execution_count": null,
   "id": "e8839997-bb55-4bfa-a502-fb0019d1c0e5",
   "metadata": {},
   "outputs": [],
   "source": [
    "\n"
   ]
  },
  {
   "cell_type": "code",
   "execution_count": 58,
   "id": "e2fd3057-c600-40f5-90bc-29b874a43358",
   "metadata": {},
   "outputs": [],
   "source": [
    "# TFTModel:\n",
    "input_chunk_length = 24\n",
    "output_chunk_length = 3"
   ]
  },
  {
   "cell_type": "code",
   "execution_count": 59,
   "id": "d8c45030-5955-4252-abd3-334948dd2853",
   "metadata": {
    "scrolled": true
   },
   "outputs": [
    {
     "name": "stderr",
     "output_type": "stream",
     "text": [
      "GPU available: True (cuda), used: True\n",
      "TPU available: False, using: 0 TPU cores\n",
      "IPU available: False, using: 0 IPUs\n",
      "HPU available: False, using: 0 HPUs\n",
      "LOCAL_RANK: 0 - CUDA_VISIBLE_DEVICES: [0]\n",
      "\n",
      "   | Name                              | Type                             | Params\n",
      "----------------------------------------------------------------------------------------\n",
      "0  | train_metrics                     | MetricCollection                 | 0     \n",
      "1  | val_metrics                       | MetricCollection                 | 0     \n",
      "2  | input_embeddings                  | _MultiEmbedding                  | 0     \n",
      "3  | static_covariates_vsn             | _VariableSelectionNetwork        | 0     \n",
      "4  | encoder_vsn                       | _VariableSelectionNetwork        | 47.3 K\n",
      "5  | decoder_vsn                       | _VariableSelectionNetwork        | 5.2 K \n",
      "6  | static_context_grn                | _GatedResidualNetwork            | 16.8 K\n",
      "7  | static_context_hidden_encoder_grn | _GatedResidualNetwork            | 16.8 K\n",
      "8  | static_context_cell_encoder_grn   | _GatedResidualNetwork            | 16.8 K\n",
      "9  | static_context_enrichment         | _GatedResidualNetwork            | 16.8 K\n",
      "10 | lstm_encoder                      | LSTM                             | 66.6 K\n",
      "11 | lstm_decoder                      | LSTM                             | 66.6 K\n",
      "12 | post_lstm_gan                     | _GateAddNorm                     | 8.4 K \n",
      "13 | static_enrichment_grn             | _GatedResidualNetwork            | 20.9 K\n",
      "14 | multihead_attn                    | _InterpretableMultiHeadAttention | 9.4 K \n",
      "15 | post_attn_gan                     | _GateAddNorm                     | 8.4 K \n",
      "16 | feed_forward_block                | _GatedResidualNetwork            | 16.8 K\n",
      "17 | pre_output_gan                    | _GateAddNorm                     | 8.4 K \n",
      "18 | output_layer                      | Linear                           | 1.1 K \n",
      "----------------------------------------------------------------------------------------\n",
      "326 K     Trainable params\n",
      "0         Non-trainable params\n",
      "326 K     Total params\n",
      "1.304     Total estimated model params size (MB)\n"
     ]
    },
    {
     "data": {
      "application/vnd.jupyter.widget-view+json": {
       "model_id": "",
       "version_major": 2,
       "version_minor": 0
      },
      "text/plain": [
       "Sanity Checking: |                                                                                | 0/? [00:00…"
      ]
     },
     "metadata": {},
     "output_type": "display_data"
    },
    {
     "name": "stderr",
     "output_type": "stream",
     "text": [
      "/home/elena/.pyenv/versions/3.10.6/envs/jawP_projectV2/lib/python3.10/site-packages/pytorch_lightning/core/module.py:507: You called `self.log('val_MeanAbsoluteError', ..., logger=True)` but have no logger configured. You can enable one by doing `Trainer(logger=ALogger(...))`\n"
     ]
    },
    {
     "data": {
      "application/vnd.jupyter.widget-view+json": {
       "model_id": "3be3f5fc0c1245c28ac6c972e91330eb",
       "version_major": 2,
       "version_minor": 0
      },
      "text/plain": [
       "Training: |                                                                                       | 0/? [00:00…"
      ]
     },
     "metadata": {},
     "output_type": "display_data"
    },
    {
     "name": "stderr",
     "output_type": "stream",
     "text": [
      "/home/elena/.pyenv/versions/3.10.6/envs/jawP_projectV2/lib/python3.10/site-packages/pytorch_lightning/core/module.py:507: You called `self.log('train_MeanAbsoluteError', ..., logger=True)` but have no logger configured. You can enable one by doing `Trainer(logger=ALogger(...))`\n"
     ]
    },
    {
     "data": {
      "application/vnd.jupyter.widget-view+json": {
       "model_id": "",
       "version_major": 2,
       "version_minor": 0
      },
      "text/plain": [
       "Validation: |                                                                                     | 0/? [00:00…"
      ]
     },
     "metadata": {},
     "output_type": "display_data"
    },
    {
     "data": {
      "application/vnd.jupyter.widget-view+json": {
       "model_id": "",
       "version_major": 2,
       "version_minor": 0
      },
      "text/plain": [
       "Validation: |                                                                                     | 0/? [00:00…"
      ]
     },
     "metadata": {},
     "output_type": "display_data"
    },
    {
     "name": "stderr",
     "output_type": "stream",
     "text": [
      "`Trainer.fit` stopped: `max_epochs=2` reached.\n"
     ]
    },
    {
     "data": {
      "text/plain": [
       "TFTModel(output_chunk_shift=0, hidden_size=64, lstm_layers=2, num_attention_heads=8, full_attention=False, feed_forward=GatedResidualNetwork, dropout=0.2, hidden_continuous_size=8, categorical_embedding_sizes=None, add_relative_index=False, loss_fn=None, likelihood=None, norm_type=LayerNorm, use_static_covariates=True, input_chunk_length=24, output_chunk_length=3, pl_trainer_kwargs={'callbacks': [<pytorch_lightning.callbacks.early_stopping.EarlyStopping object at 0x7fe9b51057b0>], 'accelerator': 'gpu', 'devices': [0]}, batch_size=16, torch_metrics=MeanAbsoluteError(), n_epochs=2)"
      ]
     },
     "execution_count": 59,
     "metadata": {},
     "output_type": "execute_result"
    }
   ],
   "source": [
    "from pytorch_lightning.callbacks.early_stopping import EarlyStopping\n",
    "\n",
    "# stop training when validation loss does not decrease more than 0.05 (`min_delta`) over\n",
    "# a period of 5 epochs (`patience`)\n",
    "my_stopper = EarlyStopping(\n",
    "    monitor=\"val_loss\",\n",
    "    patience=100,\n",
    "    min_delta=0.0001,\n",
    "    mode='min',\n",
    ")\n",
    "\n",
    "# use GPU\n",
    "pl_trainer_kwargs={\"callbacks\": [my_stopper],\n",
    "                   \"accelerator\": \"gpu\",\n",
    "                   \"devices\": [0]}\n",
    "\n",
    "# use CPU\n",
    "#pl_trainer_kwargs={\"callbacks\": [my_stopper],\n",
    "                   #\"accelerator\": \"cpu\"}\n",
    "\n",
    "# Advanced tuning\n",
    "tft = TFTModel(input_chunk_length =input_chunk_length ,\n",
    "               output_chunk_length = output_chunk_length,\n",
    "               pl_trainer_kwargs = pl_trainer_kwargs,\n",
    "               lstm_layers=2,\n",
    "               num_attention_heads=8,\n",
    "               dropout=0.2,\n",
    "               batch_size=16,\n",
    "               hidden_size=64,\n",
    "               torch_metrics=MeanAbsoluteError(),\n",
    "               n_epochs=2,\n",
    "               # add_encoders=add_encoders\n",
    "               )\n",
    "\n",
    "tft.fit(series=y_train_series,\n",
    "        past_covariates = past_cov_train_series,\n",
    "        future_covariates = future_cov_train_series,\n",
    "        val_series=y_val_series,\n",
    "        val_past_covariates=past_cov_val_series,\n",
    "        val_future_covariates=future_cov_val_series)"
   ]
  },
  {
   "cell_type": "code",
   "execution_count": 60,
   "id": "57b82113-1631-486a-846e-cf5d4d690ac2",
   "metadata": {
    "jp-MarkdownHeadingCollapsed": true
   },
   "outputs": [],
   "source": [
    "##tft = TFTModel(input_chunk_length =input_chunk_length ,                \n",
    "#               output_chunk_length = output_chunk_length,\n",
    "#               pl_trainer_kwargs = pl_trainer_kwargs,\n",
    "#               torch_metrics=MeanAbsoluteError(),\n",
    "#               n_epochs=50\n",
    "#               )"
   ]
  },
  {
   "cell_type": "code",
   "execution_count": 62,
   "id": "070e0579-c364-486a-936a-877cc3359177",
   "metadata": {},
   "outputs": [
    {
     "name": "stderr",
     "output_type": "stream",
     "text": [
      "GPU available: True (cuda), used: True\n",
      "TPU available: False, using: 0 TPU cores\n",
      "IPU available: False, using: 0 IPUs\n",
      "HPU available: False, using: 0 HPUs\n",
      "LOCAL_RANK: 0 - CUDA_VISIBLE_DEVICES: [0]\n"
     ]
    },
    {
     "data": {
      "application/vnd.jupyter.widget-view+json": {
       "model_id": "de21b135678e44679e166a42dfacfba2",
       "version_major": 2,
       "version_minor": 0
      },
      "text/plain": [
       "Predicting: |                                                                                     | 0/? [00:00…"
      ]
     },
     "metadata": {},
     "output_type": "display_data"
    }
   ],
   "source": [
    "preds = tft.predict(n=output_chunk_length,\n",
    "                   series=y_val_series,\n",
    "                   past_covariates = past_cov_val_series,\n",
    "                   future_covariates = future_cov_val_series)"
   ]
  },
  {
   "cell_type": "code",
   "execution_count": 63,
   "id": "6c7aa949-6351-4c98-952e-36d4ed1050a4",
   "metadata": {},
   "outputs": [
    {
     "data": {
      "text/html": [
       "<div><svg style=\"position: absolute; width: 0; height: 0; overflow: hidden\">\n",
       "<defs>\n",
       "<symbol id=\"icon-database\" viewBox=\"0 0 32 32\">\n",
       "<path d=\"M16 0c-8.837 0-16 2.239-16 5v4c0 2.761 7.163 5 16 5s16-2.239 16-5v-4c0-2.761-7.163-5-16-5z\"></path>\n",
       "<path d=\"M16 17c-8.837 0-16-2.239-16-5v6c0 2.761 7.163 5 16 5s16-2.239 16-5v-6c0 2.761-7.163 5-16 5z\"></path>\n",
       "<path d=\"M16 26c-8.837 0-16-2.239-16-5v6c0 2.761 7.163 5 16 5s16-2.239 16-5v-6c0 2.761-7.163 5-16 5z\"></path>\n",
       "</symbol>\n",
       "<symbol id=\"icon-file-text2\" viewBox=\"0 0 32 32\">\n",
       "<path d=\"M28.681 7.159c-0.694-0.947-1.662-2.053-2.724-3.116s-2.169-2.030-3.116-2.724c-1.612-1.182-2.393-1.319-2.841-1.319h-15.5c-1.378 0-2.5 1.121-2.5 2.5v27c0 1.378 1.122 2.5 2.5 2.5h23c1.378 0 2.5-1.122 2.5-2.5v-19.5c0-0.448-0.137-1.23-1.319-2.841zM24.543 5.457c0.959 0.959 1.712 1.825 2.268 2.543h-4.811v-4.811c0.718 0.556 1.584 1.309 2.543 2.268zM28 29.5c0 0.271-0.229 0.5-0.5 0.5h-23c-0.271 0-0.5-0.229-0.5-0.5v-27c0-0.271 0.229-0.5 0.5-0.5 0 0 15.499-0 15.5 0v7c0 0.552 0.448 1 1 1h7v19.5z\"></path>\n",
       "<path d=\"M23 26h-14c-0.552 0-1-0.448-1-1s0.448-1 1-1h14c0.552 0 1 0.448 1 1s-0.448 1-1 1z\"></path>\n",
       "<path d=\"M23 22h-14c-0.552 0-1-0.448-1-1s0.448-1 1-1h14c0.552 0 1 0.448 1 1s-0.448 1-1 1z\"></path>\n",
       "<path d=\"M23 18h-14c-0.552 0-1-0.448-1-1s0.448-1 1-1h14c0.552 0 1 0.448 1 1s-0.448 1-1 1z\"></path>\n",
       "</symbol>\n",
       "</defs>\n",
       "</svg>\n",
       "<style>/* CSS stylesheet for displaying xarray objects in jupyterlab.\n",
       " *\n",
       " */\n",
       "\n",
       ":root {\n",
       "  --xr-font-color0: var(--jp-content-font-color0, rgba(0, 0, 0, 1));\n",
       "  --xr-font-color2: var(--jp-content-font-color2, rgba(0, 0, 0, 0.54));\n",
       "  --xr-font-color3: var(--jp-content-font-color3, rgba(0, 0, 0, 0.38));\n",
       "  --xr-border-color: var(--jp-border-color2, #e0e0e0);\n",
       "  --xr-disabled-color: var(--jp-layout-color3, #bdbdbd);\n",
       "  --xr-background-color: var(--jp-layout-color0, white);\n",
       "  --xr-background-color-row-even: var(--jp-layout-color1, white);\n",
       "  --xr-background-color-row-odd: var(--jp-layout-color2, #eeeeee);\n",
       "}\n",
       "\n",
       "html[theme=dark],\n",
       "body[data-theme=dark],\n",
       "body.vscode-dark {\n",
       "  --xr-font-color0: rgba(255, 255, 255, 1);\n",
       "  --xr-font-color2: rgba(255, 255, 255, 0.54);\n",
       "  --xr-font-color3: rgba(255, 255, 255, 0.38);\n",
       "  --xr-border-color: #1F1F1F;\n",
       "  --xr-disabled-color: #515151;\n",
       "  --xr-background-color: #111111;\n",
       "  --xr-background-color-row-even: #111111;\n",
       "  --xr-background-color-row-odd: #313131;\n",
       "}\n",
       "\n",
       ".xr-wrap {\n",
       "  display: block !important;\n",
       "  min-width: 300px;\n",
       "  max-width: 700px;\n",
       "}\n",
       "\n",
       ".xr-text-repr-fallback {\n",
       "  /* fallback to plain text repr when CSS is not injected (untrusted notebook) */\n",
       "  display: none;\n",
       "}\n",
       "\n",
       ".xr-header {\n",
       "  padding-top: 6px;\n",
       "  padding-bottom: 6px;\n",
       "  margin-bottom: 4px;\n",
       "  border-bottom: solid 1px var(--xr-border-color);\n",
       "}\n",
       "\n",
       ".xr-header > div,\n",
       ".xr-header > ul {\n",
       "  display: inline;\n",
       "  margin-top: 0;\n",
       "  margin-bottom: 0;\n",
       "}\n",
       "\n",
       ".xr-obj-type,\n",
       ".xr-array-name {\n",
       "  margin-left: 2px;\n",
       "  margin-right: 10px;\n",
       "}\n",
       "\n",
       ".xr-obj-type {\n",
       "  color: var(--xr-font-color2);\n",
       "}\n",
       "\n",
       ".xr-sections {\n",
       "  padding-left: 0 !important;\n",
       "  display: grid;\n",
       "  grid-template-columns: 150px auto auto 1fr 20px 20px;\n",
       "}\n",
       "\n",
       ".xr-section-item {\n",
       "  display: contents;\n",
       "}\n",
       "\n",
       ".xr-section-item input {\n",
       "  display: none;\n",
       "}\n",
       "\n",
       ".xr-section-item input + label {\n",
       "  color: var(--xr-disabled-color);\n",
       "}\n",
       "\n",
       ".xr-section-item input:enabled + label {\n",
       "  cursor: pointer;\n",
       "  color: var(--xr-font-color2);\n",
       "}\n",
       "\n",
       ".xr-section-item input:enabled + label:hover {\n",
       "  color: var(--xr-font-color0);\n",
       "}\n",
       "\n",
       ".xr-section-summary {\n",
       "  grid-column: 1;\n",
       "  color: var(--xr-font-color2);\n",
       "  font-weight: 500;\n",
       "}\n",
       "\n",
       ".xr-section-summary > span {\n",
       "  display: inline-block;\n",
       "  padding-left: 0.5em;\n",
       "}\n",
       "\n",
       ".xr-section-summary-in:disabled + label {\n",
       "  color: var(--xr-font-color2);\n",
       "}\n",
       "\n",
       ".xr-section-summary-in + label:before {\n",
       "  display: inline-block;\n",
       "  content: '►';\n",
       "  font-size: 11px;\n",
       "  width: 15px;\n",
       "  text-align: center;\n",
       "}\n",
       "\n",
       ".xr-section-summary-in:disabled + label:before {\n",
       "  color: var(--xr-disabled-color);\n",
       "}\n",
       "\n",
       ".xr-section-summary-in:checked + label:before {\n",
       "  content: '▼';\n",
       "}\n",
       "\n",
       ".xr-section-summary-in:checked + label > span {\n",
       "  display: none;\n",
       "}\n",
       "\n",
       ".xr-section-summary,\n",
       ".xr-section-inline-details {\n",
       "  padding-top: 4px;\n",
       "  padding-bottom: 4px;\n",
       "}\n",
       "\n",
       ".xr-section-inline-details {\n",
       "  grid-column: 2 / -1;\n",
       "}\n",
       "\n",
       ".xr-section-details {\n",
       "  display: none;\n",
       "  grid-column: 1 / -1;\n",
       "  margin-bottom: 5px;\n",
       "}\n",
       "\n",
       ".xr-section-summary-in:checked ~ .xr-section-details {\n",
       "  display: contents;\n",
       "}\n",
       "\n",
       ".xr-array-wrap {\n",
       "  grid-column: 1 / -1;\n",
       "  display: grid;\n",
       "  grid-template-columns: 20px auto;\n",
       "}\n",
       "\n",
       ".xr-array-wrap > label {\n",
       "  grid-column: 1;\n",
       "  vertical-align: top;\n",
       "}\n",
       "\n",
       ".xr-preview {\n",
       "  color: var(--xr-font-color3);\n",
       "}\n",
       "\n",
       ".xr-array-preview,\n",
       ".xr-array-data {\n",
       "  padding: 0 5px !important;\n",
       "  grid-column: 2;\n",
       "}\n",
       "\n",
       ".xr-array-data,\n",
       ".xr-array-in:checked ~ .xr-array-preview {\n",
       "  display: none;\n",
       "}\n",
       "\n",
       ".xr-array-in:checked ~ .xr-array-data,\n",
       ".xr-array-preview {\n",
       "  display: inline-block;\n",
       "}\n",
       "\n",
       ".xr-dim-list {\n",
       "  display: inline-block !important;\n",
       "  list-style: none;\n",
       "  padding: 0 !important;\n",
       "  margin: 0;\n",
       "}\n",
       "\n",
       ".xr-dim-list li {\n",
       "  display: inline-block;\n",
       "  padding: 0;\n",
       "  margin: 0;\n",
       "}\n",
       "\n",
       ".xr-dim-list:before {\n",
       "  content: '(';\n",
       "}\n",
       "\n",
       ".xr-dim-list:after {\n",
       "  content: ')';\n",
       "}\n",
       "\n",
       ".xr-dim-list li:not(:last-child):after {\n",
       "  content: ',';\n",
       "  padding-right: 5px;\n",
       "}\n",
       "\n",
       ".xr-has-index {\n",
       "  font-weight: bold;\n",
       "}\n",
       "\n",
       ".xr-var-list,\n",
       ".xr-var-item {\n",
       "  display: contents;\n",
       "}\n",
       "\n",
       ".xr-var-item > div,\n",
       ".xr-var-item label,\n",
       ".xr-var-item > .xr-var-name span {\n",
       "  background-color: var(--xr-background-color-row-even);\n",
       "  margin-bottom: 0;\n",
       "}\n",
       "\n",
       ".xr-var-item > .xr-var-name:hover span {\n",
       "  padding-right: 5px;\n",
       "}\n",
       "\n",
       ".xr-var-list > li:nth-child(odd) > div,\n",
       ".xr-var-list > li:nth-child(odd) > label,\n",
       ".xr-var-list > li:nth-child(odd) > .xr-var-name span {\n",
       "  background-color: var(--xr-background-color-row-odd);\n",
       "}\n",
       "\n",
       ".xr-var-name {\n",
       "  grid-column: 1;\n",
       "}\n",
       "\n",
       ".xr-var-dims {\n",
       "  grid-column: 2;\n",
       "}\n",
       "\n",
       ".xr-var-dtype {\n",
       "  grid-column: 3;\n",
       "  text-align: right;\n",
       "  color: var(--xr-font-color2);\n",
       "}\n",
       "\n",
       ".xr-var-preview {\n",
       "  grid-column: 4;\n",
       "}\n",
       "\n",
       ".xr-index-preview {\n",
       "  grid-column: 2 / 5;\n",
       "  color: var(--xr-font-color2);\n",
       "}\n",
       "\n",
       ".xr-var-name,\n",
       ".xr-var-dims,\n",
       ".xr-var-dtype,\n",
       ".xr-preview,\n",
       ".xr-attrs dt {\n",
       "  white-space: nowrap;\n",
       "  overflow: hidden;\n",
       "  text-overflow: ellipsis;\n",
       "  padding-right: 10px;\n",
       "}\n",
       "\n",
       ".xr-var-name:hover,\n",
       ".xr-var-dims:hover,\n",
       ".xr-var-dtype:hover,\n",
       ".xr-attrs dt:hover {\n",
       "  overflow: visible;\n",
       "  width: auto;\n",
       "  z-index: 1;\n",
       "}\n",
       "\n",
       ".xr-var-attrs,\n",
       ".xr-var-data,\n",
       ".xr-index-data {\n",
       "  display: none;\n",
       "  background-color: var(--xr-background-color) !important;\n",
       "  padding-bottom: 5px !important;\n",
       "}\n",
       "\n",
       ".xr-var-attrs-in:checked ~ .xr-var-attrs,\n",
       ".xr-var-data-in:checked ~ .xr-var-data,\n",
       ".xr-index-data-in:checked ~ .xr-index-data {\n",
       "  display: block;\n",
       "}\n",
       "\n",
       ".xr-var-data > table {\n",
       "  float: right;\n",
       "}\n",
       "\n",
       ".xr-var-name span,\n",
       ".xr-var-data,\n",
       ".xr-index-name div,\n",
       ".xr-index-data,\n",
       ".xr-attrs {\n",
       "  padding-left: 25px !important;\n",
       "}\n",
       "\n",
       ".xr-attrs,\n",
       ".xr-var-attrs,\n",
       ".xr-var-data,\n",
       ".xr-index-data {\n",
       "  grid-column: 1 / -1;\n",
       "}\n",
       "\n",
       "dl.xr-attrs {\n",
       "  padding: 0;\n",
       "  margin: 0;\n",
       "  display: grid;\n",
       "  grid-template-columns: 125px auto;\n",
       "}\n",
       "\n",
       ".xr-attrs dt,\n",
       ".xr-attrs dd {\n",
       "  padding: 0;\n",
       "  margin: 0;\n",
       "  float: left;\n",
       "  padding-right: 10px;\n",
       "  width: auto;\n",
       "}\n",
       "\n",
       ".xr-attrs dt {\n",
       "  font-weight: normal;\n",
       "  grid-column: 1;\n",
       "}\n",
       "\n",
       ".xr-attrs dt:hover span {\n",
       "  display: inline-block;\n",
       "  background: var(--xr-background-color);\n",
       "  padding-right: 10px;\n",
       "}\n",
       "\n",
       ".xr-attrs dd {\n",
       "  grid-column: 2;\n",
       "  white-space: pre-wrap;\n",
       "  word-break: break-all;\n",
       "}\n",
       "\n",
       ".xr-icon-database,\n",
       ".xr-icon-file-text2,\n",
       ".xr-no-icon {\n",
       "  display: inline-block;\n",
       "  vertical-align: middle;\n",
       "  width: 1em;\n",
       "  height: 1.5em !important;\n",
       "  stroke-width: 0;\n",
       "  stroke: currentColor;\n",
       "  fill: currentColor;\n",
       "}\n",
       "</style><pre class='xr-text-repr-fallback'>&lt;TimeSeries (DataArray) (date: 3, component: 1, sample: 1)&gt; Size: 24B\n",
       "array([[[0.64338238]],\n",
       "\n",
       "       [[0.59445181]],\n",
       "\n",
       "       [[0.59545006]]])\n",
       "Coordinates:\n",
       "  * date       (date) datetime64[ns] 24B 2024-02-15T21:00:00 ... 2024-02-15T2...\n",
       "  * component  (component) object 8B &#x27;surface_pressure_zh&#x27;\n",
       "Dimensions without coordinates: sample\n",
       "Attributes:\n",
       "    static_covariates:  None\n",
       "    hierarchy:          None</pre><div class='xr-wrap' style='display:none'><div class='xr-header'><div class='xr-obj-type'>TimeSeries (DataArray)</div><div class='xr-array-name'></div><ul class='xr-dim-list'><li><span class='xr-has-index'>date</span>: 3</li><li><span class='xr-has-index'>component</span>: 1</li><li><span>sample</span>: 1</li></ul></div><ul class='xr-sections'><li class='xr-section-item'><div class='xr-array-wrap'><input id='section-44498e2b-718d-4c70-9133-5051aecf08d1' class='xr-array-in' type='checkbox' checked><label for='section-44498e2b-718d-4c70-9133-5051aecf08d1' title='Show/hide data repr'><svg class='icon xr-icon-database'><use xlink:href='#icon-database'></use></svg></label><div class='xr-array-preview xr-preview'><span>0.6434 0.5945 0.5955</span></div><div class='xr-array-data'><pre>array([[[0.64338238]],\n",
       "\n",
       "       [[0.59445181]],\n",
       "\n",
       "       [[0.59545006]]])</pre></div></div></li><li class='xr-section-item'><input id='section-4cda7185-aae0-4f1d-98e9-06d8eeb50aad' class='xr-section-summary-in' type='checkbox'  checked><label for='section-4cda7185-aae0-4f1d-98e9-06d8eeb50aad' class='xr-section-summary' >Coordinates: <span>(2)</span></label><div class='xr-section-inline-details'></div><div class='xr-section-details'><ul class='xr-var-list'><li class='xr-var-item'><div class='xr-var-name'><span class='xr-has-index'>date</span></div><div class='xr-var-dims'>(date)</div><div class='xr-var-dtype'>datetime64[ns]</div><div class='xr-var-preview xr-preview'>2024-02-15T21:00:00 ... 2024-02-...</div><input id='attrs-e33ff6b3-8dee-42ae-8915-eb2d5c91a951' class='xr-var-attrs-in' type='checkbox' disabled><label for='attrs-e33ff6b3-8dee-42ae-8915-eb2d5c91a951' title='Show/Hide attributes'><svg class='icon xr-icon-file-text2'><use xlink:href='#icon-file-text2'></use></svg></label><input id='data-44c23d6f-a57f-4bcc-a5fb-4a8172ed694b' class='xr-var-data-in' type='checkbox'><label for='data-44c23d6f-a57f-4bcc-a5fb-4a8172ed694b' title='Show/Hide data repr'><svg class='icon xr-icon-database'><use xlink:href='#icon-database'></use></svg></label><div class='xr-var-attrs'><dl class='xr-attrs'></dl></div><div class='xr-var-data'><pre>array([&#x27;2024-02-15T21:00:00.000000000&#x27;, &#x27;2024-02-15T22:00:00.000000000&#x27;,\n",
       "       &#x27;2024-02-15T23:00:00.000000000&#x27;], dtype=&#x27;datetime64[ns]&#x27;)</pre></div></li><li class='xr-var-item'><div class='xr-var-name'><span class='xr-has-index'>component</span></div><div class='xr-var-dims'>(component)</div><div class='xr-var-dtype'>object</div><div class='xr-var-preview xr-preview'>&#x27;surface_pressure_zh&#x27;</div><input id='attrs-7907b0bd-c912-4841-8acd-553b467c3e07' class='xr-var-attrs-in' type='checkbox' disabled><label for='attrs-7907b0bd-c912-4841-8acd-553b467c3e07' title='Show/Hide attributes'><svg class='icon xr-icon-file-text2'><use xlink:href='#icon-file-text2'></use></svg></label><input id='data-bab28923-4525-4b33-8a85-141c1daf4379' class='xr-var-data-in' type='checkbox'><label for='data-bab28923-4525-4b33-8a85-141c1daf4379' title='Show/Hide data repr'><svg class='icon xr-icon-database'><use xlink:href='#icon-database'></use></svg></label><div class='xr-var-attrs'><dl class='xr-attrs'></dl></div><div class='xr-var-data'><pre>array([&#x27;surface_pressure_zh&#x27;], dtype=object)</pre></div></li></ul></div></li><li class='xr-section-item'><input id='section-b3ded2b8-cf3f-4beb-b0ec-caef02d166b0' class='xr-section-summary-in' type='checkbox'  ><label for='section-b3ded2b8-cf3f-4beb-b0ec-caef02d166b0' class='xr-section-summary' >Indexes: <span>(2)</span></label><div class='xr-section-inline-details'></div><div class='xr-section-details'><ul class='xr-var-list'><li class='xr-var-item'><div class='xr-index-name'><div>date</div></div><div class='xr-index-preview'>PandasIndex</div><div></div><input id='index-f148ff2d-fa3f-4223-b26c-3e03426bafa9' class='xr-index-data-in' type='checkbox'/><label for='index-f148ff2d-fa3f-4223-b26c-3e03426bafa9' title='Show/Hide index repr'><svg class='icon xr-icon-database'><use xlink:href='#icon-database'></use></svg></label><div class='xr-index-data'><pre>PandasIndex(DatetimeIndex([&#x27;2024-02-15 21:00:00&#x27;, &#x27;2024-02-15 22:00:00&#x27;,\n",
       "               &#x27;2024-02-15 23:00:00&#x27;],\n",
       "              dtype=&#x27;datetime64[ns]&#x27;, name=&#x27;date&#x27;, freq=&#x27;h&#x27;))</pre></div></li><li class='xr-var-item'><div class='xr-index-name'><div>component</div></div><div class='xr-index-preview'>PandasIndex</div><div></div><input id='index-9e4ff317-74f1-433c-a4bc-c594dd82a6e3' class='xr-index-data-in' type='checkbox'/><label for='index-9e4ff317-74f1-433c-a4bc-c594dd82a6e3' title='Show/Hide index repr'><svg class='icon xr-icon-database'><use xlink:href='#icon-database'></use></svg></label><div class='xr-index-data'><pre>PandasIndex(Index([&#x27;surface_pressure_zh&#x27;], dtype=&#x27;object&#x27;, name=&#x27;component&#x27;))</pre></div></li></ul></div></li><li class='xr-section-item'><input id='section-e697964f-b46c-4a4c-bcfb-80f97913f873' class='xr-section-summary-in' type='checkbox'  checked><label for='section-e697964f-b46c-4a4c-bcfb-80f97913f873' class='xr-section-summary' >Attributes: <span>(2)</span></label><div class='xr-section-inline-details'></div><div class='xr-section-details'><dl class='xr-attrs'><dt><span>static_covariates :</span></dt><dd>None</dd><dt><span>hierarchy :</span></dt><dd>None</dd></dl></div></li></ul></div></div>"
      ],
      "text/plain": [
       "<TimeSeries (DataArray) (date: 3, component: 1, sample: 1)> Size: 24B\n",
       "array([[[0.64338238]],\n",
       "\n",
       "       [[0.59445181]],\n",
       "\n",
       "       [[0.59545006]]])\n",
       "Coordinates:\n",
       "  * date       (date) datetime64[ns] 24B 2024-02-15T21:00:00 ... 2024-02-15T2...\n",
       "  * component  (component) object 8B 'surface_pressure_zh'\n",
       "Dimensions without coordinates: sample\n",
       "Attributes:\n",
       "    static_covariates:  None\n",
       "    hierarchy:          None"
      ]
     },
     "execution_count": 63,
     "metadata": {},
     "output_type": "execute_result"
    }
   ],
   "source": [
    "preds"
   ]
  },
  {
   "cell_type": "code",
   "execution_count": 66,
   "id": "96ce60c5-b90f-477e-9d00-915336abdd3e",
   "metadata": {},
   "outputs": [
    {
     "name": "stdout",
     "output_type": "stream",
     "text": [
      "Original predictions (pressure values): [970.38307696 967.42996587 967.49021334]\n"
     ]
    }
   ],
   "source": [
    "from sklearn.preprocessing import MinMaxScaler\n",
    "\n",
    "# Assuming you have 'scaled_data' DataFrame containing your scaled data\n",
    "\n",
    "# Example predictions\n",
    "\n",
    "# Inverse transform predictions using target_scaler\n",
    "original_preds = target_scaler.inverse_transform(preds.reshape(-1, 1))\n",
    "\n",
    "print(\"Original predictions (pressure values):\", original_preds.flatten())\n"
   ]
  },
  {
   "cell_type": "code",
   "execution_count": 124,
   "id": "86ca9321-6c42-4458-bc47-8b8ca6fd782c",
   "metadata": {
    "scrolled": true
   },
   "outputs": [
    {
     "data": {
      "text/plain": [
       "<Axes: xlabel='date'>"
      ]
     },
     "execution_count": 124,
     "metadata": {},
     "output_type": "execute_result"
    },
    {
     "data": {
      "image/png": "[encoded data removed]",
      "text/plain": [
       "<Figure size 640x480 with 1 Axes>"
      ]
     },
     "metadata": {},
     "output_type": "display_data"
    }
   ],
   "source": [
    "preds.plot(label='prediction_pressure')\n",
    "y_test_series[:output_chunk_length].plot()"
   ]
  },
  {
   "cell_type": "code",
   "execution_count": 125,
   "id": "c74d4e92-bd93-44f6-a561-45cfb0cb6532",
   "metadata": {},
   "outputs": [
    {
     "name": "stderr",
     "output_type": "stream",
     "text": [
      "`start` value `0` corresponding to timestamp `2023-01-01 00:00:00` is before the first predictable/trainable historical forecasting point for series at index: 0. Ignoring `start` for this series and beginning at first trainable/predictable time: 2023-01-02 00:00:00. To hide these warnings, set `show_warnings=False`.\n",
      "`predict()` was called with `n > output_chunk_length`: using auto-regression to forecast the values after `output_chunk_length` points. The model will access `(n - output_chunk_length)` future values of your `past_covariates` (relative to the first predicted time step). To hide this warning, set `show_warnings=False`.\n",
      "GPU available: True (cuda), used: True\n",
      "TPU available: False, using: 0 TPU cores\n",
      "IPU available: False, using: 0 IPUs\n",
      "HPU available: False, using: 0 HPUs\n",
      "LOCAL_RANK: 0 - CUDA_VISIBLE_DEVICES: [0]\n"
     ]
    }
   ],
   "source": [
    "historical_fcast_tft = tft.historical_forecasts(\n",
    "        series=y_train_backtest_series,\n",
    "        past_covariates=past_cov_train_backtest_series,\n",
    "        future_covariates=future_cov_train_backtest_series,\n",
    "        start=0,\n",
    "        forecast_horizon=7,\n",
    "        verbose=False,\n",
    "        retrain=False\n",
    ")"
   ]
  },
  {
   "cell_type": "code",
   "execution_count": 126,
   "id": "d1ae116e-538b-4028-b741-a2d0de4921a0",
   "metadata": {},
   "outputs": [
    {
     "data": {
      "text/plain": [
       "(Timedelta('409 days 14:00:00'),\n",
       " Timestamp('2023-01-02 06:00:00'),\n",
       " Timestamp('2024-02-15 20:00:00'))"
      ]
     },
     "execution_count": 126,
     "metadata": {},
     "output_type": "execute_result"
    }
   ],
   "source": [
    "historical_fcast_tft.duration,historical_fcast_tft.start_time(), historical_fcast_tft.end_time() "
   ]
  },
  {
   "cell_type": "code",
   "execution_count": 15,
   "id": "f0bb83d7-8cc1-4823-8ccb-6f30080e3871",
   "metadata": {},
   "outputs": [
    {
     "ename": "NameError",
     "evalue": "name 'y_train_backtest_series' is not defined",
     "output_type": "error",
     "traceback": [
      "\u001b[0;31m---------------------------------------------------------------------------\u001b[0m",
      "\u001b[0;31mNameError\u001b[0m                                 Traceback (most recent call last)",
      "Cell \u001b[0;32mIn[15], line 1\u001b[0m\n\u001b[0;32m----> 1\u001b[0m \u001b[43my_train_backtest_series\u001b[49m\u001b[38;5;241m.\u001b[39mfilter()\n",
      "\u001b[0;31mNameError\u001b[0m: name 'y_train_backtest_series' is not defined"
     ]
    }
   ],
   "source": [
    "y_train_backtest_series.filter()"
   ]
  },
  {
   "cell_type": "code",
   "execution_count": 129,
   "id": "bd0f790d-5f2f-4c05-b091-42b0edcc1f2e",
   "metadata": {},
   "outputs": [
    {
     "data": {
      "text/plain": [
       "(Timedelta('410 days 20:00:00'),\n",
       " Timestamp('2023-01-01 00:00:00'),\n",
       " Timestamp('2024-02-15 20:00:00'))"
      ]
     },
     "execution_count": 129,
     "metadata": {},
     "output_type": "execute_result"
    }
   ],
   "source": [
    "y_train_backtest_series.duration, y_train_backtest_series.start_time(), y_train_backtest_series.end_time()"
   ]
  },
  {
   "cell_type": "code",
   "execution_count": 130,
   "id": "885da592-8c6a-4018-9701-56510b07213f",
   "metadata": {
    "scrolled": true
   },
   "outputs": [
    {
     "ename": "ValueError",
     "evalue": "setting an array element with a sequence. The requested array would exceed the maximum number of dimension of 32.",
     "output_type": "error",
     "traceback": [
      "\u001b[0;31m---------------------------------------------------------------------------\u001b[0m",
      "\u001b[0;31mValueError\u001b[0m                                Traceback (most recent call last)",
      "Cell \u001b[0;32mIn[130], line 3\u001b[0m\n\u001b[1;32m      1\u001b[0m y_train_backtest_series\u001b[38;5;241m.\u001b[39mplot(label\u001b[38;5;241m=\u001b[39m\u001b[38;5;124m\"\u001b[39m\u001b[38;5;124mdata\u001b[39m\u001b[38;5;124m\"\u001b[39m)\n\u001b[1;32m      2\u001b[0m historical_fcast_tft\u001b[38;5;241m.\u001b[39mplot(low_quantile\u001b[38;5;241m=\u001b[39m\u001b[38;5;241m0.01\u001b[39m, high_quantile\u001b[38;5;241m=\u001b[39m\u001b[38;5;241m0.99\u001b[39m,label\u001b[38;5;241m=\u001b[39m\u001b[38;5;124m\"\u001b[39m\u001b[38;5;124mbacktest ahead forecast (TFTModel)\u001b[39m\u001b[38;5;124m\"\u001b[39m)\n\u001b[0;32m----> 3\u001b[0m \u001b[38;5;28mprint\u001b[39m(\u001b[38;5;124m\"\u001b[39m\u001b[38;5;124mSMAPE = \u001b[39m\u001b[38;5;132;01m{:.2f}\u001b[39;00m\u001b[38;5;124m%\u001b[39m\u001b[38;5;124m\"\u001b[39m\u001b[38;5;241m.\u001b[39mformat(smape(\u001b[43mtarget_scaler\u001b[49m\u001b[38;5;241;43m.\u001b[39;49m\u001b[43minverse_transform\u001b[49m\u001b[43m(\u001b[49m\u001b[43mhistorical_fcast_tft\u001b[49m\u001b[43m)\u001b[49m,target_scaler\u001b[38;5;241m.\u001b[39minverse_transform(y_train_backtest_series))))\n\u001b[1;32m      4\u001b[0m \u001b[38;5;28mprint\u001b[39m(\u001b[38;5;124m\"\u001b[39m\u001b[38;5;124mMAE = \u001b[39m\u001b[38;5;132;01m{:.2f}\u001b[39;00m\u001b[38;5;124m\"\u001b[39m\u001b[38;5;241m.\u001b[39mformat(mae(historical_fcast_tft, y_train_backtest_series)))\n",
      "File \u001b[0;32m~/.pyenv/versions/3.10.6/envs/jawP_projectV2/lib/python3.10/site-packages/sklearn/preprocessing/_data.py:565\u001b[0m, in \u001b[0;36mMinMaxScaler.inverse_transform\u001b[0;34m(self, X)\u001b[0m\n\u001b[1;32m    561\u001b[0m check_is_fitted(\u001b[38;5;28mself\u001b[39m)\n\u001b[1;32m    563\u001b[0m xp, _ \u001b[38;5;241m=\u001b[39m get_namespace(X)\n\u001b[0;32m--> 565\u001b[0m X \u001b[38;5;241m=\u001b[39m \u001b[43mcheck_array\u001b[49m\u001b[43m(\u001b[49m\n\u001b[1;32m    566\u001b[0m \u001b[43m    \u001b[49m\u001b[43mX\u001b[49m\u001b[43m,\u001b[49m\n\u001b[1;32m    567\u001b[0m \u001b[43m    \u001b[49m\u001b[43mcopy\u001b[49m\u001b[38;5;241;43m=\u001b[39;49m\u001b[38;5;28;43mself\u001b[39;49m\u001b[38;5;241;43m.\u001b[39;49m\u001b[43mcopy\u001b[49m\u001b[43m,\u001b[49m\n\u001b[1;32m    568\u001b[0m \u001b[43m    \u001b[49m\u001b[43mdtype\u001b[49m\u001b[38;5;241;43m=\u001b[39;49m\u001b[43m_array_api\u001b[49m\u001b[38;5;241;43m.\u001b[39;49m\u001b[43msupported_float_dtypes\u001b[49m\u001b[43m(\u001b[49m\u001b[43mxp\u001b[49m\u001b[43m)\u001b[49m\u001b[43m,\u001b[49m\n\u001b[1;32m    569\u001b[0m \u001b[43m    \u001b[49m\u001b[43mforce_all_finite\u001b[49m\u001b[38;5;241;43m=\u001b[39;49m\u001b[38;5;124;43m\"\u001b[39;49m\u001b[38;5;124;43mallow-nan\u001b[39;49m\u001b[38;5;124;43m\"\u001b[39;49m\u001b[43m,\u001b[49m\n\u001b[1;32m    570\u001b[0m \u001b[43m\u001b[49m\u001b[43m)\u001b[49m\n\u001b[1;32m    572\u001b[0m X \u001b[38;5;241m-\u001b[39m\u001b[38;5;241m=\u001b[39m \u001b[38;5;28mself\u001b[39m\u001b[38;5;241m.\u001b[39mmin_\n\u001b[1;32m    573\u001b[0m X \u001b[38;5;241m/\u001b[39m\u001b[38;5;241m=\u001b[39m \u001b[38;5;28mself\u001b[39m\u001b[38;5;241m.\u001b[39mscale_\n",
      "File \u001b[0;32m~/.pyenv/versions/3.10.6/envs/jawP_projectV2/lib/python3.10/site-packages/sklearn/utils/validation.py:997\u001b[0m, in \u001b[0;36mcheck_array\u001b[0;34m(array, accept_sparse, accept_large_sparse, dtype, order, copy, force_all_finite, ensure_2d, allow_nd, ensure_min_samples, ensure_min_features, estimator, input_name)\u001b[0m\n\u001b[1;32m    995\u001b[0m         array \u001b[38;5;241m=\u001b[39m xp\u001b[38;5;241m.\u001b[39mastype(array, dtype, copy\u001b[38;5;241m=\u001b[39m\u001b[38;5;28;01mFalse\u001b[39;00m)\n\u001b[1;32m    996\u001b[0m     \u001b[38;5;28;01melse\u001b[39;00m:\n\u001b[0;32m--> 997\u001b[0m         array \u001b[38;5;241m=\u001b[39m \u001b[43m_asarray_with_order\u001b[49m\u001b[43m(\u001b[49m\u001b[43marray\u001b[49m\u001b[43m,\u001b[49m\u001b[43m \u001b[49m\u001b[43morder\u001b[49m\u001b[38;5;241;43m=\u001b[39;49m\u001b[43morder\u001b[49m\u001b[43m,\u001b[49m\u001b[43m \u001b[49m\u001b[43mdtype\u001b[49m\u001b[38;5;241;43m=\u001b[39;49m\u001b[43mdtype\u001b[49m\u001b[43m,\u001b[49m\u001b[43m \u001b[49m\u001b[43mxp\u001b[49m\u001b[38;5;241;43m=\u001b[39;49m\u001b[43mxp\u001b[49m\u001b[43m)\u001b[49m\n\u001b[1;32m    998\u001b[0m \u001b[38;5;28;01mexcept\u001b[39;00m ComplexWarning \u001b[38;5;28;01mas\u001b[39;00m complex_warning:\n\u001b[1;32m    999\u001b[0m     \u001b[38;5;28;01mraise\u001b[39;00m \u001b[38;5;167;01mValueError\u001b[39;00m(\n\u001b[1;32m   1000\u001b[0m         \u001b[38;5;124m\"\u001b[39m\u001b[38;5;124mComplex data not supported\u001b[39m\u001b[38;5;130;01m\\n\u001b[39;00m\u001b[38;5;132;01m{}\u001b[39;00m\u001b[38;5;130;01m\\n\u001b[39;00m\u001b[38;5;124m\"\u001b[39m\u001b[38;5;241m.\u001b[39mformat(array)\n\u001b[1;32m   1001\u001b[0m     ) \u001b[38;5;28;01mfrom\u001b[39;00m \u001b[38;5;21;01mcomplex_warning\u001b[39;00m\n",
      "File \u001b[0;32m~/.pyenv/versions/3.10.6/envs/jawP_projectV2/lib/python3.10/site-packages/sklearn/utils/_array_api.py:521\u001b[0m, in \u001b[0;36m_asarray_with_order\u001b[0;34m(array, dtype, order, copy, xp)\u001b[0m\n\u001b[1;32m    519\u001b[0m     array \u001b[38;5;241m=\u001b[39m numpy\u001b[38;5;241m.\u001b[39marray(array, order\u001b[38;5;241m=\u001b[39morder, dtype\u001b[38;5;241m=\u001b[39mdtype)\n\u001b[1;32m    520\u001b[0m \u001b[38;5;28;01melse\u001b[39;00m:\n\u001b[0;32m--> 521\u001b[0m     array \u001b[38;5;241m=\u001b[39m \u001b[43mnumpy\u001b[49m\u001b[38;5;241;43m.\u001b[39;49m\u001b[43masarray\u001b[49m\u001b[43m(\u001b[49m\u001b[43marray\u001b[49m\u001b[43m,\u001b[49m\u001b[43m \u001b[49m\u001b[43morder\u001b[49m\u001b[38;5;241;43m=\u001b[39;49m\u001b[43morder\u001b[49m\u001b[43m,\u001b[49m\u001b[43m \u001b[49m\u001b[43mdtype\u001b[49m\u001b[38;5;241;43m=\u001b[39;49m\u001b[43mdtype\u001b[49m\u001b[43m)\u001b[49m\n\u001b[1;32m    523\u001b[0m \u001b[38;5;66;03m# At this point array is a NumPy ndarray. We convert it to an array\u001b[39;00m\n\u001b[1;32m    524\u001b[0m \u001b[38;5;66;03m# container that is consistent with the input's namespace.\u001b[39;00m\n\u001b[1;32m    525\u001b[0m \u001b[38;5;28;01mreturn\u001b[39;00m xp\u001b[38;5;241m.\u001b[39masarray(array)\n",
      "\u001b[0;31mValueError\u001b[0m: setting an array element with a sequence. The requested array would exceed the maximum number of dimension of 32."
     ]
    },
    {
     "data": {
      "image/png": "[encoded data removed]",
      "text/plain": [
       "<Figure size 640x480 with 1 Axes>"
      ]
     },
     "metadata": {},
     "output_type": "display_data"
    }
   ],
   "source": [
    "y_train_backtest_series.plot(label=\"data\")\n",
    "historical_fcast_tft.plot(low_quantile=0.01, high_quantile=0.99,label=\"backtest ahead forecast (TFTModel)\")\n",
    "print(\"SMAPE = {:.2f}%\".format(smape(target_scaler.inverse_transform(historical_fcast_tft),target_scaler.inverse_transform(y_train_backtest_series))))\n",
    "print(\"MAE = {:.2f}\".format(mae(historical_fcast_tft, y_train_backtest_series)))"
   ]
  },
  {
   "cell_type": "code",
   "execution_count": 64,
   "id": "6da82926-f533-4c2b-87ca-8cd8d18f000a",
   "metadata": {},
   "outputs": [
    {
     "ename": "NameError",
     "evalue": "name 'historical_fcast_tft' is not defined",
     "output_type": "error",
     "traceback": [
      "\u001b[0;31m---------------------------------------------------------------------------\u001b[0m",
      "\u001b[0;31mNameError\u001b[0m                                 Traceback (most recent call last)",
      "Cell \u001b[0;32mIn[64], line 9\u001b[0m\n\u001b[1;32m      6\u001b[0m y_train_backtest_series\u001b[38;5;241m.\u001b[39mplot(label\u001b[38;5;241m=\u001b[39m\u001b[38;5;124m\"\u001b[39m\u001b[38;5;124mOriginal Data\u001b[39m\u001b[38;5;124m\"\u001b[39m)\n\u001b[1;32m      8\u001b[0m \u001b[38;5;66;03m# Plot the forecasted values\u001b[39;00m\n\u001b[0;32m----> 9\u001b[0m \u001b[43mhistorical_fcast_tft\u001b[49m\u001b[38;5;241m.\u001b[39mplot(low_quantile\u001b[38;5;241m=\u001b[39m\u001b[38;5;241m0.01\u001b[39m, high_quantile\u001b[38;5;241m=\u001b[39m\u001b[38;5;241m0.99\u001b[39m, label\u001b[38;5;241m=\u001b[39m\u001b[38;5;124m\"\u001b[39m\u001b[38;5;124mForecast (TFTModel)\u001b[39m\u001b[38;5;124m\"\u001b[39m)\n\u001b[1;32m     11\u001b[0m \u001b[38;5;66;03m# Calculate evaluation metrics\u001b[39;00m\n\u001b[1;32m     12\u001b[0m smape_score \u001b[38;5;241m=\u001b[39m smape(historical_fcast_tft, y_train_backtest_series)\n",
      "\u001b[0;31mNameError\u001b[0m: name 'historical_fcast_tft' is not defined"
     ]
    },
    {
     "data": {
      "image/png": "[encoded data removed]",
      "text/plain": [
       "<Figure size 640x480 with 1 Axes>"
      ]
     },
     "metadata": {},
     "output_type": "display_data"
    }
   ],
   "source": []
  },
  {
   "cell_type": "code",
   "execution_count": 105,
   "id": "42648ab2-43c1-405e-bec2-3aed3bc965b0",
   "metadata": {},
   "outputs": [],
   "source": [
    "#tft.save('tft_v1_1monthdata_3h')"
   ]
  },
  {
   "cell_type": "code",
   "execution_count": 131,
   "id": "7dfe6b48-2612-44d7-b128-cd14ebfcbec4",
   "metadata": {},
   "outputs": [],
   "source": [
    "pred_values = target_scaler.inverse_transform(preds.pd_dataframe())\n",
    "real_values = target_scaler.inverse_transform(y_test.values)"
   ]
  },
  {
   "cell_type": "code",
   "execution_count": 132,
   "id": "c06f0fe7-2ae4-45c8-8cda-2f9c20ff9e10",
   "metadata": {},
   "outputs": [],
   "source": [
    "def smape_function(actual, predicted):\n",
    "    \"\"\"\n",
    "    Calculate Symmetric Mean Absolute Percentage Error (SMAPE) between two arrays.\n",
    "\n",
    "    Parameters:\n",
    "    - actual: array containing actual values\n",
    "    - predicted: array containing predicted values\n",
    "\n",
    "    Returns:\n",
    "    - SMAPE value\n",
    "    \"\"\"\n",
    "    denominator = (np.abs(actual) + np.abs(predicted)) / 2.0\n",
    "    diff = np.abs(actual - predicted) / denominator\n",
    "    diff[denominator == 0] = 0.0  # Handle division by zero\n",
    "    smape_value = np.mean(diff) * 100.0\n",
    "\n",
    "    return smape_value"
   ]
  },
  {
   "cell_type": "code",
   "execution_count": 133,
   "id": "b9af25fa-2a4c-4825-b7b8-676523134769",
   "metadata": {},
   "outputs": [
    {
     "data": {
      "text/plain": [
       "0.0469946785095469"
      ]
     },
     "execution_count": 133,
     "metadata": {},
     "output_type": "execute_result"
    }
   ],
   "source": [
    "smape_function(pred_values, real_values[:output_chunk_length])"
   ]
  },
  {
   "cell_type": "code",
   "execution_count": null,
   "id": "85b68fb6-2705-4e0d-938b-b3182d58ea77",
   "metadata": {},
   "outputs": [],
   "source": []
  }
 ],
 "metadata": {
  "kernelspec": {
   "display_name": "Python 3 (ipykernel)",
   "language": "python",
   "name": "python3"
  },
  "language_info": {
   "codemirror_mode": {
    "name": "ipython",
    "version": 3
   },
   "file_extension": ".py",
   "mimetype": "text/x-python",
   "name": "python",
   "nbconvert_exporter": "python",
   "pygments_lexer": "ipython3",
   "version": "3.10.6"
  }
 },
 "nbformat": 4,
 "nbformat_minor": 5
}
